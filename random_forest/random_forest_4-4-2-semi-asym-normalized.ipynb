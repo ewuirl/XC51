{
 "cells": [
  {
   "cell_type": "code",
   "execution_count": 1,
   "metadata": {},
   "outputs": [],
   "source": [
    "import sys\n",
    "sys.path.append('../../')\n",
    "from simCRN.multivariate_reg import read_eq_data_file\n",
    "import tensorflow as tf\n",
    "from tensorflow import keras\n",
    "from tensorflow.keras import layers\n",
    "import tensorflow_docs as tfdocs\n",
    "import tensorflow_docs.plots\n",
    "import tensorflow_docs.modeling\n",
    "import matplotlib.pyplot as plt\n",
    "import numpy as np\n",
    "import math\n",
    "from sklearn.ensemble import RandomForestRegressor\n",
    "from sklearn.model_selection import train_test_split\n",
    "from sklearn.pipeline import Pipeline\n",
    "from sklearn.preprocessing import StandardScaler\n",
    "from sklearn.compose import TransformedTargetRegressor\n",
    "from sklearn.metrics import mean_absolute_error as mae\n",
    "from sklearn.metrics import mean_squared_error as mse\n",
    "from sklearn.metrics import r2_score\n",
    "from hyperopt import hp\n",
    "from hyperopt import fmin, tpe, space_eval, Trials\n",
    "from sklearn.model_selection import cross_val_score"
   ]
  },
  {
   "cell_type": "markdown",
   "metadata": {},
   "source": [
    "# Baseline model: Random Forest"
   ]
  },
  {
   "cell_type": "code",
   "execution_count": 3,
   "metadata": {},
   "outputs": [
    {
     "data": {
      "text/plain": [
       "{'divide': 'warn', 'over': 'warn', 'under': 'warn', 'invalid': 'warn'}"
      ]
     },
     "execution_count": 3,
     "metadata": {},
     "output_type": "execute_result"
    }
   ],
   "source": [
    "np.seterr(under='warn')"
   ]
  },
  {
   "cell_type": "markdown",
   "metadata": {},
   "source": [
    "Reading in the data"
   ]
  },
  {
   "cell_type": "code",
   "execution_count": 4,
   "metadata": {},
   "outputs": [],
   "source": [
    "Ci_all_array, Am_array, Cmin, Cmax, Ai = read_eq_data_file('../4-4-2-semi-asym-AB-AC.txt')"
   ]
  },
  {
   "cell_type": "code",
   "execution_count": 5,
   "metadata": {},
   "outputs": [
    {
     "name": "stdout",
     "output_type": "stream",
     "text": [
      "3e-06\n"
     ]
    }
   ],
   "source": [
    "print(Cmax)"
   ]
  },
  {
   "cell_type": "code",
   "execution_count": 6,
   "metadata": {},
   "outputs": [
    {
     "data": {
      "text/plain": [
       "(2000, 4)"
      ]
     },
     "execution_count": 6,
     "metadata": {},
     "output_type": "execute_result"
    }
   ],
   "source": [
    "Am_array.shape"
   ]
  },
  {
   "cell_type": "markdown",
   "metadata": {},
   "source": [
    "Prepare the data"
   ]
  },
  {
   "cell_type": "code",
   "execution_count": 7,
   "metadata": {},
   "outputs": [],
   "source": [
    "# Splitting into train and test\n",
    "X_train, X_test, y_train, y_test = train_test_split(Am_array, Ci_all_array, test_size=0.2, random_state=0)"
   ]
  },
  {
   "cell_type": "markdown",
   "metadata": {},
   "source": [
    "Random Forest Model"
   ]
  },
  {
   "cell_type": "code",
   "execution_count": 8,
   "metadata": {},
   "outputs": [],
   "source": [
    "random_forest_model = RandomForestRegressor(criterion=\"squared_error\", random_state=0)\n",
    "tt_regressor = TransformedTargetRegressor(regressor=random_forest_model, transformer=StandardScaler())\n",
    "pipeline = Pipeline([('x_scaler', StandardScaler()), ('regressor', tt_regressor)])\n",
    "\n",
    "pipeline.fit(X_train, y_train)\n",
    "y_hat_train = pipeline.predict(X_train)\n",
    "y_hat_test = pipeline.predict(X_test)"
   ]
  },
  {
   "cell_type": "code",
   "execution_count": 9,
   "metadata": {},
   "outputs": [
    {
     "name": "stdout",
     "output_type": "stream",
     "text": [
      "The MAE on the training data for C₁ is 9.93e-09\n",
      "The MAE on the training data for C₂ is 9.76e-09\n",
      "The MAE on the test data for C₁ is 2.35e-08\n",
      "The MAE on the test data for C₂ is 2.4e-08\n",
      "\n",
      "The average value of C₁ is 1.51e-06\n",
      "The average value of C₂ is 1.48e-06\n",
      "\n",
      "For the test data, MAE/mean for C₁ is 0.0155\n",
      "For the test data, MAE/mean for C₂ is 0.0162\n"
     ]
    }
   ],
   "source": [
    "train_mae = mae(y_train, y_hat_train, multioutput='raw_values')\n",
    "test_mae = mae(y_test, y_hat_test, multioutput='raw_values')\n",
    "\n",
    "print(f'The MAE on the training data for C₁ is {train_mae[0]:.3}') # 3 significant figures\n",
    "print(f'The MAE on the training data for C₂ is {train_mae[1]:.3}')\n",
    "print(f'The MAE on the test data for C₁ is {test_mae[0]:.3}')\n",
    "print(f'The MAE on the test data for C₂ is {test_mae[1]:.3}')\n",
    "\n",
    "print() # new line\n",
    "\n",
    "# Contextualizing with the mean of C₁ and C₂\n",
    "means = np.mean(Ci_all_array, axis=0)\n",
    "print(f'The average value of C₁ is {means[0]:.3}')\n",
    "print(f'The average value of C₂ is {means[1]:.3}')\n",
    "\n",
    "print() # new line\n",
    "\n",
    "print(f'For the test data, MAE/mean for C₁ is {test_mae[0]/means[0]:.3}')\n",
    "print(f'For the test data, MAE/mean for C₂ is {test_mae[1]/means[1]:.3}')"
   ]
  },
  {
   "cell_type": "code",
   "execution_count": 10,
   "metadata": {},
   "outputs": [
    {
     "name": "stdout",
     "output_type": "stream",
     "text": [
      "The RMSE on the training data for C₁ is 1.33e-08\n",
      "The RMSE on the training data for C₂ is 1.31e-08\n",
      "The RMSE on the test data for C₁ is 3.07e-08\n",
      "The RMSE on the test data for C₂ is 3.12e-08\n",
      "\n",
      "The average value of C₁ is 1.51e-06\n",
      "The average value of C₂ is 1.48e-06\n",
      "\n",
      "For the test data, RMSE/mean for C₁ is 0.0203\n",
      "For the test data, RMSE/mean for C₂ is 0.0211\n"
     ]
    }
   ],
   "source": [
    "train_mse = mse(y_train, y_hat_train, multioutput='raw_values')\n",
    "test_mse = mse(y_test, y_hat_test, multioutput='raw_values')\n",
    "train_rmse = np.sqrt(train_mse)\n",
    "test_rmse = np.sqrt(test_mse)\n",
    "\n",
    "print(f'The RMSE on the training data for C₁ is {train_rmse[0]:.3}') # 3 significant figures\n",
    "print(f'The RMSE on the training data for C₂ is {train_rmse[1]:.3}')\n",
    "print(f'The RMSE on the test data for C₁ is {test_rmse[0]:.3}')\n",
    "print(f'The RMSE on the test data for C₂ is {test_rmse[1]:.3}')\n",
    "\n",
    "print() # new line\n",
    "\n",
    "# Contextualizing with the mean of C₁ and C₂\n",
    "print(f'The average value of C₁ is {means[0]:.3}')\n",
    "print(f'The average value of C₂ is {means[1]:.3}')\n",
    "\n",
    "print() # new line\n",
    "\n",
    "print(f'For the test data, RMSE/mean for C₁ is {test_rmse[0]/means[0]:.3}')\n",
    "print(f'For the test data, RMSE/mean for C₂ is {test_rmse[1]/means[1]:.3}')"
   ]
  },
  {
   "cell_type": "code",
   "execution_count": 11,
   "metadata": {},
   "outputs": [
    {
     "name": "stdout",
     "output_type": "stream",
     "text": [
      "The R² on the training data for C₁ is 1.0\n",
      "The R² on the training data for C₂ is 1.0\n",
      "The R² on the test data for C₁ is 0.999\n",
      "The R² on the test data for C₂ is 0.999\n"
     ]
    }
   ],
   "source": [
    "train_r2 = r2_score(y_train, y_hat_train, multioutput='raw_values')\n",
    "test_r2 = r2_score(y_test, y_hat_test, multioutput='raw_values')\n",
    "\n",
    "print(f'The R² on the training data for C₁ is {train_r2[0]:.3}') # 3 significant figures\n",
    "print(f'The R² on the training data for C₂ is {train_r2[1]:.3}')\n",
    "print(f'The R² on the test data for C₁ is {test_r2[0]:.3}')\n",
    "print(f'The R² on the test data for C₂ is {test_r2[1]:.3}')"
   ]
  },
  {
   "cell_type": "markdown",
   "metadata": {},
   "source": [
    "# Hyperparameter optimization"
   ]
  },
  {
   "cell_type": "code",
   "execution_count": 12,
   "metadata": {},
   "outputs": [],
   "source": [
    "n_estimators_list = [20, 40, 80, 100, 160, 320, 640, 1280]\n",
    "min_samples_split_list = [2, 8, 10, 12, 24]\n",
    "max_depth_list = [2, 4, 8, 10, None]\n",
    "max_depth_list = [2, 4, 8, 10, None]\n",
    "parameter_space = {'n_estimators': hp.choice('n_estimators', n_estimators_list), \\\n",
    "                   'min_samples_split': hp.choice('min_samples_split', min_samples_split_list), \\\n",
    "                   'max_depth': hp.choice('max_depth', max_depth_list)}"
   ]
  },
  {
   "cell_type": "code",
   "execution_count": 13,
   "metadata": {},
   "outputs": [
    {
     "name": "stdout",
     "output_type": "stream",
     "text": [
      "Parameter Space Size: 200\n"
     ]
    }
   ],
   "source": [
    "print(f\"Parameter Space Size: {len(n_estimators_list)*len(min_samples_split_list)*len(max_depth_list)}\")"
   ]
  },
  {
   "cell_type": "code",
   "execution_count": 14,
   "metadata": {},
   "outputs": [],
   "source": [
    "from hyperopt import hp\n",
    "from hyperopt import fmin, tpe, space_eval, Trials\n",
    "from sklearn.model_selection import cross_val_score"
   ]
  },
  {
   "cell_type": "code",
   "execution_count": 15,
   "metadata": {},
   "outputs": [],
   "source": [
    "def model_eval(args):\n",
    "\n",
    "    '''Take suggested arguments and perform model evaluation'''\n",
    "    \n",
    "    random_forest_model = RandomForestRegressor(criterion=\"squared_error\", n_estimators=args['n_estimators'], \\\n",
    "                                  min_samples_split=args['min_samples_split'], max_depth=args['max_depth'])\n",
    "    tt_regressor = TransformedTargetRegressor(regressor=random_forest_model, transformer=StandardScaler())\n",
    "    pipeline = Pipeline([('x_scaler', StandardScaler()), ('regressor', tt_regressor)])\n",
    "    \n",
    "    scores = cross_val_score(pipeline, X_train, y=y_train, scoring='neg_mean_squared_error')\n",
    "    \n",
    "    cv_score = np.mean(scores)\n",
    "\n",
    "    # return the negative of the CV score to ensure we maximize the negative MSE by minimizing the loss\n",
    "    return -cv_score"
   ]
  },
  {
   "cell_type": "code",
   "execution_count": 16,
   "metadata": {},
   "outputs": [
    {
     "name": "stdout",
     "output_type": "stream",
     "text": [
      "Start trials\n",
      "100%|██████████| 200/200 [1:23:31<00:00, 25.06s/trial, best loss: 1.344958355923299e-15]\n"
     ]
    }
   ],
   "source": [
    "print(\"Start trials\") \n",
    "\n",
    "trials = Trials()\n",
    "best = fmin(model_eval, parameter_space, algo=tpe.suggest, max_evals=200, trials=trials)"
   ]
  },
  {
   "cell_type": "code",
   "execution_count": 17,
   "metadata": {},
   "outputs": [
    {
     "name": "stdout",
     "output_type": "stream",
     "text": [
      "Best parameter set: {'max_depth': 4, 'min_samples_split': 0, 'n_estimators': 7}\n",
      "n_estimators = 1280\n",
      "max_depth = None\n",
      "min_samples_split = 2\n",
      "Best loss from CV: 1.34e-15\n",
      "Best RMSE loss from CV: 3.67e-08\n"
     ]
    }
   ],
   "source": [
    "print(\"Best parameter set: {}\".format(best))\n",
    "print(f\"n_estimators = {n_estimators_list[best['n_estimators']]}\")\n",
    "print(f\"max_depth = {max_depth_list[best['max_depth']]}\")\n",
    "print(f\"min_samples_split = {min_samples_split_list[best['min_samples_split']]}\")\n",
    "print(\"Best loss from CV: {:.3}\".format(trials.best_trial['result']['loss']))\n",
    "print(\"Best RMSE loss from CV: {:.3}\".format(np.sqrt(trials.best_trial['result']['loss'])))"
   ]
  },
  {
   "cell_type": "markdown",
   "metadata": {},
   "source": [
    "# Train Optimized Model"
   ]
  },
  {
   "cell_type": "code",
   "execution_count": 18,
   "metadata": {},
   "outputs": [],
   "source": [
    "from sklearn.model_selection import cross_validate"
   ]
  },
  {
   "cell_type": "code",
   "execution_count": 19,
   "metadata": {},
   "outputs": [],
   "source": [
    "parameter_dict = {'n_estimators': n_estimators_list, 'min_samples_split': min_samples_split_list, \\\n",
    "                  'max_depth': max_depth_list}"
   ]
  },
  {
   "cell_type": "code",
   "execution_count": 20,
   "metadata": {},
   "outputs": [],
   "source": [
    "def optimized_model_eval(X_train, y_train, X_test, y_test, parameters, parameter_dict):\n",
    "\n",
    "    '''Take suggested arguments and perform model evaluation'''\n",
    "\n",
    "    random_forest_model = RandomForestRegressor(criterion=\"squared_error\", \\\n",
    "                                                n_estimators=parameter_dict['n_estimators'][parameters['n_estimators']], \\\n",
    "                                                min_samples_split=parameter_dict['min_samples_split'][parameters['min_samples_split']], \\\n",
    "                                                max_depth=parameter_dict['max_depth'][parameters['max_depth']])\n",
    "    tt_regressor = TransformedTargetRegressor(regressor=random_forest_model, transformer=StandardScaler())\n",
    "    pipeline = Pipeline([('x_scaler', StandardScaler()), ('regressor', tt_regressor)])\n",
    "\n",
    "    # Train 5 models on random 80/20 test splits of the input data\n",
    "    scores = cross_validate(pipeline, X_train, y=y_train, scoring=['neg_mean_squared_error', 'neg_mean_absolute_error'], \\\n",
    "                             return_estimator=True)\n",
    "    \n",
    "    # Get average validation MSE\n",
    "    mean_val_mse = -np.mean(scores['test_neg_mean_squared_error'])\n",
    "    mean_val_mae = -np.mean(scores['test_neg_mean_absolute_error'])\n",
    "    \n",
    "    # Calculate test MSE\n",
    "    test_mse_arr = np.zeros((5,2))\n",
    "    test_mae_arr = np.zeros((5,2))\n",
    "    for i in range(5):\n",
    "        y_test_pred = scores['estimator'][i].predict(X_test)\n",
    "        test_mse_arr[i,:] = mse(y_test, y_test_pred, multioutput='raw_values')\n",
    "        test_mae_arr[i,:] = mae(y_test, y_test_pred, multioutput='raw_values')\n",
    "    mean_test_mse = np.mean(test_mse_arr)\n",
    "    mean_test_mae = np.mean(test_mae_arr)\n",
    "    \n",
    "\n",
    "    # return the negative of the CV score to ensure we maximize the negative MSE by minimizing the loss\n",
    "    return scores, mean_val_mse, mean_val_mae, test_mse_arr, test_mae_arr, mean_test_mse, mean_test_mae"
   ]
  },
  {
   "cell_type": "code",
   "execution_count": 21,
   "metadata": {},
   "outputs": [],
   "source": [
    "optimized_scores, optimized_val_mse, optimized_val_mae, optimized_test_mse_arr, optimized_test_mae_arr, \\\n",
    "optimized_mean_test_mse, optimized_mean_test_mae \\\n",
    "= optimized_model_eval(X_train, y_train, X_test, y_test, best, parameter_dict)"
   ]
  },
  {
   "cell_type": "code",
   "execution_count": 22,
   "metadata": {},
   "outputs": [
    {
     "name": "stdout",
     "output_type": "stream",
     "text": [
      "Optimized average validation MSE: 1.36e-15\n",
      "Optimized average validation RMSE: 3.69e-08\n",
      "Optimized average validation MAE: 2.68e-08\n"
     ]
    }
   ],
   "source": [
    "print(f\"Optimized average validation MSE: {optimized_val_mse:.3}\")\n",
    "print(f\"Optimized average validation RMSE: {np.sqrt(optimized_val_mse):.3}\")\n",
    "print(f\"Optimized average validation MAE: {optimized_val_mae:.3}\")"
   ]
  },
  {
   "cell_type": "code",
   "execution_count": 23,
   "metadata": {},
   "outputs": [
    {
     "name": "stdout",
     "output_type": "stream",
     "text": [
      "Optimized average test MSE: 1.19e-15\n",
      "Optimized average test RMSE: 3.45e-08\n",
      "Optimized average test MAE: 2.61e-08\n"
     ]
    }
   ],
   "source": [
    "print(f\"Optimized average test MSE: {optimized_mean_test_mse:.3}\")\n",
    "print(f\"Optimized average test RMSE: {np.sqrt(optimized_mean_test_mse):.3}\")\n",
    "print(f\"Optimized average test MAE: {optimized_mean_test_mae:.3}\")"
   ]
  },
  {
   "cell_type": "code",
   "execution_count": 31,
   "metadata": {},
   "outputs": [
    {
     "name": "stdout",
     "output_type": "stream",
     "text": [
      "Optimized average validation MSE: 1.35816656362617e-15\n",
      "Optimized average validation RMSE: 3.685331143365776e-08\n",
      "Optimized average validation MAE: 2.6835066656295616e-08\n",
      "Optimized average test MSE: 1.186846905948719e-15\n",
      "Optimized average test RMSE: 3.4450644492501425e-08\n",
      "Optimized average test MAE: 2.612417269651821e-08\n"
     ]
    }
   ],
   "source": [
    "print(f\"Optimized average validation MSE: {optimized_val_mse}\")\n",
    "print(f\"Optimized average validation RMSE: {np.sqrt(optimized_val_mse)}\")\n",
    "print(f\"Optimized average validation MAE: {optimized_val_mae}\")\n",
    "print(f\"Optimized average test MSE: {optimized_mean_test_mse}\")\n",
    "print(f\"Optimized average test RMSE: {np.sqrt(optimized_mean_test_mse)}\")\n",
    "print(f\"Optimized average test MAE: {optimized_mean_test_mae}\")"
   ]
  },
  {
   "cell_type": "markdown",
   "metadata": {},
   "source": [
    "# Reducing Dataset Size"
   ]
  },
  {
   "cell_type": "code",
   "execution_count": 24,
   "metadata": {},
   "outputs": [],
   "source": [
    "def prep_data(X, y, total_size, test_size, random_state):\n",
    "    # Calculate the size of the reduced data set\n",
    "    total_frac = total_size/y.shape[0]\n",
    "    # Reducing the dataset size\n",
    "    X_train_all, X_test_all, y_train_all, y_test_all = \\\n",
    "    train_test_split(X, y, test_size=1-total_frac, random_state=random_state)\n",
    "    \n",
    "    # Splitting into train and test\n",
    "    X_train, X_test, y_train, y_test = \\\n",
    "    train_test_split(X_train_all, y_train_all, test_size=test_size, random_state=random_state)\n",
    "    \n",
    "    return(X_train, X_test, X_test_all, y_train, y_test, y_test_all)"
   ]
  },
  {
   "cell_type": "code",
   "execution_count": 25,
   "metadata": {},
   "outputs": [
    {
     "name": "stdout",
     "output_type": "stream",
     "text": [
      "[1000.   500.   250.   125.    62.5]\n"
     ]
    }
   ],
   "source": [
    "# Reduced data set sizes\n",
    "data_set_sizes = 2000*0.5 ** np.arange(1,6)\n",
    "print(data_set_sizes)\n",
    "# Lists to store data and results in\n",
    "trials_list = []\n",
    "best_params_list = []\n",
    "X_train_list = []\n",
    "X_test_list = []\n",
    "X_test_all_list = []\n",
    "y_train_list = []\n",
    "y_test_list = []\n",
    "y_test_all_list = []"
   ]
  },
  {
   "cell_type": "code",
   "execution_count": 26,
   "metadata": {},
   "outputs": [
    {
     "name": "stdout",
     "output_type": "stream",
     "text": [
      "Data set size: 1000.0\n",
      "100%|██████████| 200/200 [48:36<00:00, 14.58s/trial, best loss: 2.6949411681837035e-15] \n",
      "Best parameter set: {'max_depth': 4, 'min_samples_split': 0, 'n_estimators': 7}\n",
      "n_estimators = 1280\n",
      "max_depth = None\n",
      "min_samples_split = 2\n",
      "Data set size: 500.0\n",
      "100%|██████████| 200/200 [26:47<00:00,  8.04s/trial, best loss: 6.290402245919699e-15]\n",
      "Best parameter set: {'max_depth': 4, 'min_samples_split': 0, 'n_estimators': 5}\n",
      "n_estimators = 320\n",
      "max_depth = None\n",
      "min_samples_split = 2\n",
      "Data set size: 250.0\n",
      "100%|██████████| 200/200 [29:41<00:00,  8.91s/trial, best loss: 1.4092543095519273e-14]\n",
      "Best parameter set: {'max_depth': 3, 'min_samples_split': 0, 'n_estimators': 4}\n",
      "n_estimators = 160\n",
      "max_depth = 10\n",
      "min_samples_split = 2\n",
      "Data set size: 125.0\n",
      "100%|██████████| 200/200 [18:39<00:00,  5.60s/trial, best loss: 3.258570375493444e-14] \n",
      "Best parameter set: {'max_depth': 2, 'min_samples_split': 0, 'n_estimators': 5}\n",
      "n_estimators = 320\n",
      "max_depth = 8\n",
      "min_samples_split = 2\n",
      "Data set size: 62.5\n",
      "100%|██████████| 200/200 [10:24<00:00,  3.12s/trial, best loss: 7.878674190312376e-14] \n",
      "Best parameter set: {'max_depth': 4, 'min_samples_split': 0, 'n_estimators': 2}\n",
      "n_estimators = 80\n",
      "max_depth = None\n",
      "min_samples_split = 2\n"
     ]
    }
   ],
   "source": [
    "# Iterate through smaller data set sizes\n",
    "for data_set_size in data_set_sizes:\n",
    "    print(f\"Data set size: {data_set_size}\")\n",
    "    X_train_sub, X_test_sub, X_test_all, y_train_sub, y_test_sub, y_test_all = \\\n",
    "    prep_data(X_train, y_train, data_set_size, 0.2, 0)\n",
    "    # Add data sets to lists\n",
    "    X_train_list.append(X_train_sub)\n",
    "    X_test_list.append(X_test_sub)\n",
    "    X_test_all_list.append(X_test_all)\n",
    "    y_train_list.append(y_train_sub)\n",
    "    y_test_list.append(y_test_sub)\n",
    "    y_test_all_list.append(y_test_all)\n",
    "    def model_eval_data_set(args):\n",
    "\n",
    "        '''Take suggested arguments and perform model evaluation'''\n",
    "\n",
    "        random_forest_model = RandomForestRegressor(criterion=\"squared_error\", n_estimators=args['n_estimators'], \\\n",
    "                                      min_samples_split=args['min_samples_split'], max_depth=args['max_depth'])\n",
    "        tt_regressor = TransformedTargetRegressor(regressor=random_forest_model, transformer=StandardScaler())\n",
    "        pipeline = Pipeline([('x_scaler', StandardScaler()), ('regressor', tt_regressor)])\n",
    "\n",
    "        scores = cross_val_score(pipeline, X_train_sub, y=y_train_sub, scoring='neg_mean_squared_error')\n",
    "\n",
    "        cv_score = np.mean(scores)\n",
    "\n",
    "        # return the negative of the CV score to ensure we maximize the negative MSE by minimizing the loss\n",
    "        return -cv_score\n",
    "    # Hyperparameter optimize\n",
    "    trials = Trials()\n",
    "    best = fmin(model_eval_data_set, parameter_space, algo=tpe.suggest, max_evals=200, trials=trials)\n",
    "    trials_list.append(trials)\n",
    "    best_params_list.append(best)\n",
    "    print(\"Best parameter set: {}\".format(best))\n",
    "    print(f\"n_estimators = {n_estimators_list[best['n_estimators']]}\")\n",
    "    print(f\"max_depth = {max_depth_list[best['max_depth']]}\")\n",
    "    print(f\"min_samples_split = {min_samples_split_list[best['min_samples_split']]}\")"
   ]
  },
  {
   "cell_type": "code",
   "execution_count": 27,
   "metadata": {},
   "outputs": [
    {
     "data": {
      "text/plain": [
       "[{'max_depth': 4, 'min_samples_split': 0, 'n_estimators': 7},\n",
       " {'max_depth': 4, 'min_samples_split': 0, 'n_estimators': 5},\n",
       " {'max_depth': 3, 'min_samples_split': 0, 'n_estimators': 4},\n",
       " {'max_depth': 2, 'min_samples_split': 0, 'n_estimators': 5},\n",
       " {'max_depth': 4, 'min_samples_split': 0, 'n_estimators': 2}]"
      ]
     },
     "execution_count": 27,
     "metadata": {},
     "output_type": "execute_result"
    }
   ],
   "source": [
    "best_params_list"
   ]
  },
  {
   "cell_type": "markdown",
   "metadata": {},
   "source": [
    "# Train Optimized Models (Reduced Dataset)"
   ]
  },
  {
   "cell_type": "code",
   "execution_count": 32,
   "metadata": {},
   "outputs": [],
   "source": [
    "mean_val_mse_list = []\n",
    "mean_val_mae_list = []\n",
    "mean_test_mse_list = []\n",
    "mean_test_mae_list = []\n",
    "for i in range(len(data_set_sizes)):\n",
    "    scores, mean_val_mse, mean_val_mae, test_mse_arr, test_mae_arr, mean_test_mse, mean_test_mae = \\\n",
    "    optimized_model_eval(X_train_list[i], y_train_list[i], X_test_list[i], y_test_list[i], \\\n",
    "                         best_params_list[i], parameter_dict)\n",
    "    mean_val_mse_list.append(mean_val_mse)\n",
    "    mean_val_mae_list.append(mean_val_mae)\n",
    "    mean_test_mse_list.append(mean_test_mse)\n",
    "    mean_test_mae_list.append(mean_test_mae)"
   ]
  },
  {
   "cell_type": "code",
   "execution_count": 33,
   "metadata": {},
   "outputs": [
    {
     "name": "stdout",
     "output_type": "stream",
     "text": [
      "Mean validation MSE list\n",
      "[2.71262207575755e-15, 6.465718465318997e-15, 1.4501130528985173e-14, 3.539712960561808e-14, 7.993389963971589e-14]\n",
      "Mean validation MAE list\n",
      "[3.8542161819460566e-08, 5.799555359333768e-08, 9.569651506201568e-08, 1.5026069024506435e-07, 2.3337745751627323e-07]\n"
     ]
    }
   ],
   "source": [
    "print(\"Mean validation MSE list\")\n",
    "print(mean_val_mse_list)\n",
    "print(\"Mean validation MAE list\")\n",
    "print(mean_val_mae_list)"
   ]
  },
  {
   "cell_type": "code",
   "execution_count": 34,
   "metadata": {},
   "outputs": [
    {
     "name": "stdout",
     "output_type": "stream",
     "text": [
      "Data set size: 1000.0\n",
      "Optimized average validation MSE: 2.71e-15\n",
      "Optimized average validation RMSE: 5.21e-08\n",
      "Optimized average validation MAE: 3.85e-08\n",
      "Data set size: 500.0\n",
      "Optimized average validation MSE: 6.47e-15\n",
      "Optimized average validation RMSE: 8.04e-08\n",
      "Optimized average validation MAE: 5.8e-08\n",
      "Data set size: 250.0\n",
      "Optimized average validation MSE: 1.45e-14\n",
      "Optimized average validation RMSE: 1.2e-07\n",
      "Optimized average validation MAE: 9.57e-08\n",
      "Data set size: 125.0\n",
      "Optimized average validation MSE: 3.54e-14\n",
      "Optimized average validation RMSE: 1.88e-07\n",
      "Optimized average validation MAE: 1.5e-07\n",
      "Data set size: 62.5\n",
      "Optimized average validation MSE: 7.99e-14\n",
      "Optimized average validation RMSE: 2.83e-07\n",
      "Optimized average validation MAE: 2.33e-07\n"
     ]
    }
   ],
   "source": [
    "for i in range(len(data_set_sizes)):\n",
    "    print(f\"Data set size: {data_set_sizes[i]}\")\n",
    "    print(f\"Optimized average validation MSE: {mean_val_mse_list[i]:.3}\")\n",
    "    print(f\"Optimized average validation RMSE: {np.sqrt(mean_val_mse_list[i]):.3}\")\n",
    "    print(f\"Optimized average validation MAE: {mean_val_mae_list[i]:.3}\")"
   ]
  },
  {
   "cell_type": "code",
   "execution_count": 35,
   "metadata": {},
   "outputs": [
    {
     "name": "stdout",
     "output_type": "stream",
     "text": [
      "Mean test MSE list\n",
      "[3.2626639384001815e-15, 7.40040859319437e-15, 2.0700823674046283e-14, 4.428332199136693e-14, 7.478493338129617e-14]\n",
      "Mean test MAE list\n",
      "[4.085631234578962e-08, 6.385815970359425e-08, 1.0904384511241602e-07, 1.7374383054669766e-07, 2.2019405874457385e-07]\n"
     ]
    }
   ],
   "source": [
    "print(\"Mean test MSE list\")\n",
    "print(mean_test_mse_list)\n",
    "print(\"Mean test MAE list\")\n",
    "print(mean_test_mae_list)"
   ]
  },
  {
   "cell_type": "code",
   "execution_count": 36,
   "metadata": {},
   "outputs": [
    {
     "name": "stdout",
     "output_type": "stream",
     "text": [
      "Data set size: 1000.0\n",
      "Optimized average test MSE: 3.26e-15\n",
      "Optimized average test RMSE: 5.71e-08\n",
      "Optimized average test MAE: 4.09e-08\n",
      "Data set size: 500.0\n",
      "Optimized average test MSE: 7.4e-15\n",
      "Optimized average test RMSE: 8.6e-08\n",
      "Optimized average test MAE: 6.39e-08\n",
      "Data set size: 250.0\n",
      "Optimized average test MSE: 2.07e-14\n",
      "Optimized average test RMSE: 1.44e-07\n",
      "Optimized average test MAE: 1.09e-07\n",
      "Data set size: 125.0\n",
      "Optimized average test MSE: 4.43e-14\n",
      "Optimized average test RMSE: 2.1e-07\n",
      "Optimized average test MAE: 1.74e-07\n",
      "Data set size: 62.5\n",
      "Optimized average test MSE: 7.48e-14\n",
      "Optimized average test RMSE: 2.73e-07\n",
      "Optimized average test MAE: 2.2e-07\n"
     ]
    }
   ],
   "source": [
    "for i in range(len(data_set_sizes)):\n",
    "    print(f\"Data set size: {data_set_sizes[i]}\")\n",
    "    print(f\"Optimized average test MSE: {mean_test_mse_list[i]:.3}\")\n",
    "    print(f\"Optimized average test RMSE: {np.sqrt(mean_test_mse_list[i]):.3}\")\n",
    "    print(f\"Optimized average test MAE: {mean_test_mae_list[i]:.3}\")"
   ]
  },
  {
   "cell_type": "markdown",
   "metadata": {},
   "source": [
    "# Plots"
   ]
  },
  {
   "cell_type": "code",
   "execution_count": 37,
   "metadata": {},
   "outputs": [
    {
     "name": "stdout",
     "output_type": "stream",
     "text": [
      "Validation MSE\n",
      "[1.35816656362617e-15, 2.71262207575755e-15, 6.465718465318997e-15, 1.4501130528985173e-14, 3.539712960561808e-14, 7.993389963971589e-14]\n",
      "Validation MAE\n",
      "[2.6835066656295616e-08, 3.8542161819460566e-08, 5.799555359333768e-08, 9.569651506201568e-08, 1.5026069024506435e-07, 2.3337745751627323e-07]\n",
      "Test MSE\n",
      "[1.186846905948719e-15, 3.2626639384001815e-15, 7.40040859319437e-15, 2.0700823674046283e-14, 4.428332199136693e-14, 7.478493338129617e-14]\n",
      "Test MAE\n",
      "[2.612417269651821e-08, 4.085631234578962e-08, 6.385815970359425e-08, 1.0904384511241602e-07, 1.7374383054669766e-07, 2.2019405874457385e-07]\n"
     ]
    }
   ],
   "source": [
    "plt.rcParams.update({'font.size': 16})\n",
    "plot_data_set_sizes = 2000 * 0.5 ** np.arange(0,6)\n",
    "# mean_val_mse_list.insert(0, optimized_val_mse)\n",
    "# mean_val_mae_list.insert(0, optimized_val_mae)\n",
    "# mean_test_mse_list.insert(0, optimized_mean_test_mse)\n",
    "# mean_test_mae_list.insert(0, optimized_mean_test_mae)\n",
    "print(\"Validation MSE\")\n",
    "print(mean_val_mse_list)\n",
    "print(\"Validation MAE\")\n",
    "print(mean_val_mae_list)\n",
    "print(\"Test MSE\")\n",
    "print(mean_test_mse_list)\n",
    "print(\"Test MAE\")\n",
    "print(mean_test_mae_list)"
   ]
  },
  {
   "cell_type": "code",
   "execution_count": 38,
   "metadata": {},
   "outputs": [],
   "source": [
    "case = \"4-4-2 Case 2\"\n",
    "save_name = \"rf_4-4-2_semi-asym\""
   ]
  },
  {
   "cell_type": "code",
   "execution_count": 39,
   "metadata": {},
   "outputs": [
    {
     "data": {
      "image/png": "[encoded data removed]",
      "text/plain": [
       "<Figure size 504x360 with 1 Axes>"
      ]
     },
     "metadata": {
      "needs_background": "light"
     },
     "output_type": "display_data"
    },
    {
     "data": {
      "image/png": "[encoded data removed]",
      "text/plain": [
       "<Figure size 504x360 with 1 Axes>"
      ]
     },
     "metadata": {
      "needs_background": "light"
     },
     "output_type": "display_data"
    },
    {
     "data": {
      "image/png": "[encoded data removed]",
      "text/plain": [
       "<Figure size 504x360 with 1 Axes>"
      ]
     },
     "metadata": {
      "needs_background": "light"
     },
     "output_type": "display_data"
    }
   ],
   "source": [
    "fig, ax = plt.subplots(1,1,figsize=(7,5))\n",
    "plt.plot(plot_data_set_sizes, mean_val_mse_list)\n",
    "plt.xlabel(\"Data Set Size\")\n",
    "plt.ylabel(\"Mean Validation MSE\")\n",
    "plt.title(f\"Mean Validation MSE:\\n{case}\")\n",
    "plt.savefig(f\"{save_name}_val_mse_vs_data.png\")\n",
    "fig, ax = plt.subplots(1,1,figsize=(7,5))\n",
    "plt.plot(plot_data_set_sizes, np.sqrt(mean_val_mse_list))\n",
    "plt.xlabel(\"Data Set Size\")\n",
    "plt.ylabel(\"Mean Validation RMSE\")\n",
    "plt.title(f\"Mean Validation RMSE:\\n{case}\")\n",
    "plt.savefig(f\"{save_name}_val_rmse_vs_data.png\")\n",
    "fig, ax = plt.subplots(1,1,figsize=(7,5))\n",
    "plt.plot(plot_data_set_sizes, mean_val_mae_list)\n",
    "plt.xlabel(\"Data Set Size\")\n",
    "plt.ylabel(\"Mean Validation MAE\")\n",
    "plt.title(f\"Mean Validation MAE:\\n{case}\")\n",
    "plt.savefig(f\"{save_name}_val_mae_vs_data.png\")"
   ]
  },
  {
   "cell_type": "code",
   "execution_count": 40,
   "metadata": {},
   "outputs": [
    {
     "data": {
      "image/png": "[encoded data removed]",
      "text/plain": [
       "<Figure size 504x360 with 1 Axes>"
      ]
     },
     "metadata": {
      "needs_background": "light"
     },
     "output_type": "display_data"
    },
    {
     "data": {
      "image/png": "[encoded data removed]",
      "text/plain": [
       "<Figure size 504x360 with 1 Axes>"
      ]
     },
     "metadata": {
      "needs_background": "light"
     },
     "output_type": "display_data"
    },
    {
     "data": {
      "image/png": "[encoded data removed]",
      "text/plain": [
       "<Figure size 504x360 with 1 Axes>"
      ]
     },
     "metadata": {
      "needs_background": "light"
     },
     "output_type": "display_data"
    }
   ],
   "source": [
    "fig, ax = plt.subplots(1,1,figsize=(7,5))\n",
    "plt.plot(plot_data_set_sizes, mean_test_mse_list)\n",
    "plt.xlabel(\"Data Set Size\")\n",
    "plt.ylabel(\"Mean Test MSE\")\n",
    "plt.title(f\"Mean Test MSE:\\n{case}\")\n",
    "plt.savefig(f\"{save_name}_test_mse_vs_data.png\")\n",
    "fig, ax = plt.subplots(1,1,figsize=(7,5))\n",
    "plt.plot(plot_data_set_sizes, np.sqrt(mean_test_mse_list))\n",
    "plt.xlabel(\"Data Set Size\")\n",
    "plt.ylabel(\"Mean Test RMSE\")\n",
    "plt.title(f\"Mean Test RMSE:\\n{case}\")\n",
    "plt.savefig(f\"{save_name}_test_rmse_vs_data.png\")\n",
    "fig, ax = plt.subplots(1,1,figsize=(7,5))\n",
    "plt.plot(plot_data_set_sizes, mean_test_mae_list)\n",
    "plt.xlabel(\"Data Set Size\")\n",
    "plt.ylabel(\"Mean Test MAE\")\n",
    "plt.title(f\"Mean Test MAE:\\n{case}\")\n",
    "plt.savefig(f\"{save_name}_test_mae_vs_data.png\")"
   ]
  },
  {
   "cell_type": "code",
   "execution_count": null,
   "metadata": {},
   "outputs": [],
   "source": []
  }
 ],
 "metadata": {
  "kernelspec": {
   "display_name": "Python 3.7",
   "language": "python",
   "name": "python3.7"
  },
  "language_info": {
   "codemirror_mode": {
    "name": "ipython",
    "version": 3
   },
   "file_extension": ".py",
   "mimetype": "text/x-python",
   "name": "python",
   "nbconvert_exporter": "python",
   "pygments_lexer": "ipython3",
   "version": "3.7.12"
  }
 },
 "nbformat": 4,
 "nbformat_minor": 4
}
