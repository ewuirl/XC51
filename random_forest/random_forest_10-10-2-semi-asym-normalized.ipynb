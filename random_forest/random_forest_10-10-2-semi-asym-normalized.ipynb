{
 "cells": [
  {
   "cell_type": "code",
   "execution_count": 1,
   "metadata": {},
   "outputs": [],
   "source": [
    "import sys\n",
    "sys.path.append('../../')\n",
    "from simCRN.multivariate_reg import read_eq_data_file\n",
    "import tensorflow as tf\n",
    "from tensorflow import keras\n",
    "from tensorflow.keras import layers\n",
    "import tensorflow_docs as tfdocs\n",
    "import tensorflow_docs.plots\n",
    "import tensorflow_docs.modeling\n",
    "import matplotlib.pyplot as plt\n",
    "import numpy as np\n",
    "import math\n",
    "from sklearn.ensemble import RandomForestRegressor\n",
    "from sklearn.model_selection import train_test_split\n",
    "from sklearn.pipeline import Pipeline\n",
    "from sklearn.preprocessing import StandardScaler\n",
    "from sklearn.compose import TransformedTargetRegressor\n",
    "from sklearn.metrics import mean_absolute_error as mae\n",
    "from sklearn.metrics import mean_squared_error as mse\n",
    "from sklearn.metrics import r2_score\n",
    "from hyperopt import hp\n",
    "from hyperopt import fmin, tpe, space_eval, Trials\n",
    "from sklearn.model_selection import cross_val_score"
   ]
  },
  {
   "cell_type": "markdown",
   "metadata": {},
   "source": [
    "# Baseline model: Random Forest"
   ]
  },
  {
   "cell_type": "code",
   "execution_count": 3,
   "metadata": {},
   "outputs": [
    {
     "data": {
      "text/plain": [
       "{'divide': 'warn', 'over': 'warn', 'under': 'warn', 'invalid': 'warn'}"
      ]
     },
     "execution_count": 3,
     "metadata": {},
     "output_type": "execute_result"
    }
   ],
   "source": [
    "np.seterr(under='warn')"
   ]
  },
  {
   "cell_type": "markdown",
   "metadata": {},
   "source": [
    "Reading in the data"
   ]
  },
  {
   "cell_type": "code",
   "execution_count": 4,
   "metadata": {},
   "outputs": [],
   "source": [
    "Ci_all_array, Am_array, Cmin, Cmax, Ai = read_eq_data_file('../10-10-2-semi-asym-AB-AC.txt')"
   ]
  },
  {
   "cell_type": "code",
   "execution_count": 3,
   "metadata": {},
   "outputs": [
    {
     "name": "stdout",
     "output_type": "stream",
     "text": [
      "3e-06\n"
     ]
    }
   ],
   "source": [
    "print(Cmax)"
   ]
  },
  {
   "cell_type": "code",
   "execution_count": 4,
   "metadata": {},
   "outputs": [
    {
     "data": {
      "text/plain": [
       "(2000, 10)"
      ]
     },
     "execution_count": 4,
     "metadata": {},
     "output_type": "execute_result"
    }
   ],
   "source": [
    "Am_array.shape"
   ]
  },
  {
   "cell_type": "markdown",
   "metadata": {},
   "source": [
    "Prepare the data"
   ]
  },
  {
   "cell_type": "code",
   "execution_count": 5,
   "metadata": {},
   "outputs": [],
   "source": [
    "# Splitting into train and test\n",
    "X_train, X_test, y_train, y_test = train_test_split(Am_array, Ci_all_array, test_size=0.2, random_state=0)"
   ]
  },
  {
   "cell_type": "markdown",
   "metadata": {},
   "source": [
    "Random Forest Model"
   ]
  },
  {
   "cell_type": "code",
   "execution_count": 6,
   "metadata": {},
   "outputs": [],
   "source": [
    "random_forest_model = RandomForestRegressor(criterion=\"squared_error\", random_state=0)\n",
    "tt_regressor = TransformedTargetRegressor(regressor=random_forest_model, transformer=StandardScaler())\n",
    "pipeline = Pipeline([('x_scaler', StandardScaler()), ('regressor', tt_regressor)])\n",
    "\n",
    "pipeline.fit(X_train, y_train)\n",
    "y_hat_train = pipeline.predict(X_train)\n",
    "y_hat_test = pipeline.predict(X_test)"
   ]
  },
  {
   "cell_type": "code",
   "execution_count": 7,
   "metadata": {},
   "outputs": [
    {
     "name": "stdout",
     "output_type": "stream",
     "text": [
      "The MAE on the training data for C₁ is 6.72e-09\n",
      "The MAE on the training data for C₂ is 7.27e-09\n",
      "The MAE on the test data for C₁ is 1.54e-08\n",
      "The MAE on the test data for C₂ is 1.73e-08\n",
      "\n",
      "The average value of C₁ is 1.49e-06\n",
      "The average value of C₂ is 1.5e-06\n",
      "\n",
      "For the test data, MAE/mean for C₁ is 0.0103\n",
      "For the test data, MAE/mean for C₂ is 0.0115\n"
     ]
    }
   ],
   "source": [
    "train_mae = mae(y_train, y_hat_train, multioutput='raw_values')\n",
    "test_mae = mae(y_test, y_hat_test, multioutput='raw_values')\n",
    "\n",
    "print(f'The MAE on the training data for C₁ is {train_mae[0]:.3}') # 3 significant figures\n",
    "print(f'The MAE on the training data for C₂ is {train_mae[1]:.3}')\n",
    "print(f'The MAE on the test data for C₁ is {test_mae[0]:.3}')\n",
    "print(f'The MAE on the test data for C₂ is {test_mae[1]:.3}')\n",
    "\n",
    "print() # new line\n",
    "\n",
    "# Contextualizing with the mean of C₁ and C₂\n",
    "means = np.mean(Ci_all_array, axis=0)\n",
    "print(f'The average value of C₁ is {means[0]:.3}')\n",
    "print(f'The average value of C₂ is {means[1]:.3}')\n",
    "\n",
    "print() # new line\n",
    "\n",
    "print(f'For the test data, MAE/mean for C₁ is {test_mae[0]/means[0]:.3}')\n",
    "print(f'For the test data, MAE/mean for C₂ is {test_mae[1]/means[1]:.3}')"
   ]
  },
  {
   "cell_type": "code",
   "execution_count": 8,
   "metadata": {},
   "outputs": [
    {
     "name": "stdout",
     "output_type": "stream",
     "text": [
      "The RMSE on the training data for C₁ is 9.09e-09\n",
      "The RMSE on the training data for C₂ is 1.3e-08\n",
      "The RMSE on the test data for C₁ is 2.07e-08\n",
      "The RMSE on the test data for C₂ is 2.86e-08\n",
      "\n",
      "The average value of C₁ is 1.49e-06\n",
      "The average value of C₂ is 1.5e-06\n",
      "\n",
      "For the test data, RMSE/mean for C₁ is 0.0139\n",
      "For the test data, RMSE/mean for C₂ is 0.0191\n"
     ]
    }
   ],
   "source": [
    "train_mse = mse(y_train, y_hat_train, multioutput='raw_values')\n",
    "test_mse = mse(y_test, y_hat_test, multioutput='raw_values')\n",
    "train_rmse = np.sqrt(train_mse)\n",
    "test_rmse = np.sqrt(test_mse)\n",
    "\n",
    "print(f'The RMSE on the training data for C₁ is {train_rmse[0]:.3}') # 3 significant figures\n",
    "print(f'The RMSE on the training data for C₂ is {train_rmse[1]:.3}')\n",
    "print(f'The RMSE on the test data for C₁ is {test_rmse[0]:.3}')\n",
    "print(f'The RMSE on the test data for C₂ is {test_rmse[1]:.3}')\n",
    "\n",
    "print() # new line\n",
    "\n",
    "# Contextualizing with the mean of C₁ and C₂\n",
    "print(f'The average value of C₁ is {means[0]:.3}')\n",
    "print(f'The average value of C₂ is {means[1]:.3}')\n",
    "\n",
    "print() # new line\n",
    "\n",
    "print(f'For the test data, RMSE/mean for C₁ is {test_rmse[0]/means[0]:.3}')\n",
    "print(f'For the test data, RMSE/mean for C₂ is {test_rmse[1]/means[1]:.3}')"
   ]
  },
  {
   "cell_type": "code",
   "execution_count": 9,
   "metadata": {},
   "outputs": [
    {
     "name": "stdout",
     "output_type": "stream",
     "text": [
      "The R² on the training data for C₁ is 1.0\n",
      "The R² on the training data for C₂ is 1.0\n",
      "The R² on the test data for C₁ is 0.999\n",
      "The R² on the test data for C₂ is 0.999\n"
     ]
    }
   ],
   "source": [
    "train_r2 = r2_score(y_train, y_hat_train, multioutput='raw_values')\n",
    "test_r2 = r2_score(y_test, y_hat_test, multioutput='raw_values')\n",
    "\n",
    "print(f'The R² on the training data for C₁ is {train_r2[0]:.3}') # 3 significant figures\n",
    "print(f'The R² on the training data for C₂ is {train_r2[1]:.3}')\n",
    "print(f'The R² on the test data for C₁ is {test_r2[0]:.3}')\n",
    "print(f'The R² on the test data for C₂ is {test_r2[1]:.3}')"
   ]
  },
  {
   "cell_type": "markdown",
   "metadata": {},
   "source": [
    "# Hyperparameter optimization"
   ]
  },
  {
   "cell_type": "code",
   "execution_count": 6,
   "metadata": {},
   "outputs": [],
   "source": [
    "n_estimators_list = [20, 40, 80, 100, 160, 320, 640, 1280]\n",
    "min_samples_split_list = [2, 8, 10, 12, 24]\n",
    "max_depth_list = [2, 4, 8, 10, None]\n",
    "max_depth_list = [2, 4, 8, 10, None]\n",
    "parameter_space = {'n_estimators': hp.choice('n_estimators', n_estimators_list), \\\n",
    "                   'min_samples_split': hp.choice('min_samples_split', min_samples_split_list), \\\n",
    "                   'max_depth': hp.choice('max_depth', max_depth_list)}"
   ]
  },
  {
   "cell_type": "code",
   "execution_count": 11,
   "metadata": {},
   "outputs": [
    {
     "name": "stdout",
     "output_type": "stream",
     "text": [
      "Parameter Space Size: 200\n"
     ]
    }
   ],
   "source": [
    "print(f\"Parameter Space Size: {len(n_estimators_list)*len(min_samples_split_list)*len(max_depth_list)}\")"
   ]
  },
  {
   "cell_type": "code",
   "execution_count": 7,
   "metadata": {},
   "outputs": [],
   "source": [
    "from hyperopt import hp\n",
    "from hyperopt import fmin, tpe, space_eval, Trials\n",
    "from sklearn.model_selection import cross_val_score"
   ]
  },
  {
   "cell_type": "code",
   "execution_count": 13,
   "metadata": {},
   "outputs": [],
   "source": [
    "def model_eval(args):\n",
    "\n",
    "    '''Take suggested arguments and perform model evaluation'''\n",
    "    \n",
    "    random_forest_model = RandomForestRegressor(criterion=\"squared_error\", n_estimators=args['n_estimators'], \\\n",
    "                                  min_samples_split=args['min_samples_split'], max_depth=args['max_depth'])\n",
    "    tt_regressor = TransformedTargetRegressor(regressor=random_forest_model, transformer=StandardScaler())\n",
    "    pipeline = Pipeline([('x_scaler', StandardScaler()), ('regressor', tt_regressor)])\n",
    "    \n",
    "    scores = cross_val_score(pipeline, X_train, y=y_train, scoring='neg_mean_squared_error')\n",
    "    \n",
    "    cv_score = np.mean(scores)\n",
    "\n",
    "    # return the negative of the CV score to ensure we maximize the negative MSE by minimizing the loss\n",
    "    return -cv_score"
   ]
  },
  {
   "cell_type": "code",
   "execution_count": 14,
   "metadata": {},
   "outputs": [
    {
     "name": "stdout",
     "output_type": "stream",
     "text": [
      "Start trials\n",
      "100%|██████████| 200/200 [1:28:01<00:00, 26.41s/trial, best loss: 9.94847357772697e-16]  \n"
     ]
    }
   ],
   "source": [
    "print(\"Start trials\") \n",
    "\n",
    "trials = Trials()\n",
    "best = fmin(model_eval, parameter_space, algo=tpe.suggest, max_evals=200, trials=trials)"
   ]
  },
  {
   "cell_type": "code",
   "execution_count": 15,
   "metadata": {},
   "outputs": [
    {
     "name": "stdout",
     "output_type": "stream",
     "text": [
      "Best parameter set: {'max_depth': 4, 'min_samples_split': 0, 'n_estimators': 3}\n",
      "n_estimators = 100\n",
      "max_depth = None\n",
      "min_samples_split = 2\n",
      "Best loss from CV: 9.95e-16\n",
      "Best RMSE loss from CV: 3.15e-08\n"
     ]
    }
   ],
   "source": [
    "print(\"Best parameter set: {}\".format(best))\n",
    "print(f\"n_estimators = {n_estimators_list[best['n_estimators']]}\")\n",
    "print(f\"max_depth = {max_depth_list[best['max_depth']]}\")\n",
    "print(f\"min_samples_split = {min_samples_split_list[best['min_samples_split']]}\")\n",
    "print(\"Best loss from CV: {:.3}\".format(trials.best_trial['result']['loss']))\n",
    "print(\"Best RMSE loss from CV: {:.3}\".format(np.sqrt(trials.best_trial['result']['loss'])))"
   ]
  },
  {
   "cell_type": "code",
   "execution_count": 8,
   "metadata": {},
   "outputs": [],
   "source": [
    "best = {'max_depth': 4, 'min_samples_split': 0, 'n_estimators': 3}"
   ]
  },
  {
   "cell_type": "markdown",
   "metadata": {},
   "source": [
    "# Train Optimized Model"
   ]
  },
  {
   "cell_type": "code",
   "execution_count": 9,
   "metadata": {},
   "outputs": [],
   "source": [
    "from sklearn.model_selection import cross_validate"
   ]
  },
  {
   "cell_type": "code",
   "execution_count": 10,
   "metadata": {},
   "outputs": [],
   "source": [
    "parameter_dict = {'n_estimators': n_estimators_list, 'min_samples_split': min_samples_split_list, \\\n",
    "                  'max_depth': max_depth_list}"
   ]
  },
  {
   "cell_type": "code",
   "execution_count": 11,
   "metadata": {},
   "outputs": [],
   "source": [
    "def optimized_model_eval(X_train, y_train, X_test, y_test, parameters, parameter_dict):\n",
    "\n",
    "    '''Take suggested arguments and perform model evaluation'''\n",
    "\n",
    "    random_forest_model = RandomForestRegressor(criterion=\"squared_error\", \\\n",
    "                                                n_estimators=parameter_dict['n_estimators'][parameters['n_estimators']], \\\n",
    "                                                min_samples_split=parameter_dict['min_samples_split'][parameters['min_samples_split']], \\\n",
    "                                                max_depth=parameter_dict['max_depth'][parameters['max_depth']])\n",
    "    tt_regressor = TransformedTargetRegressor(regressor=random_forest_model, transformer=StandardScaler())\n",
    "    pipeline = Pipeline([('x_scaler', StandardScaler()), ('regressor', tt_regressor)])\n",
    "\n",
    "    # Train 5 models on random 80/20 test splits of the input data\n",
    "    scores = cross_validate(pipeline, X_train, y=y_train, scoring=['neg_mean_squared_error', 'neg_mean_absolute_error'], \\\n",
    "                             return_estimator=True)\n",
    "    \n",
    "    # Get average validation MSE\n",
    "    mean_val_mse = -np.mean(scores['test_neg_mean_squared_error'])\n",
    "    mean_val_mae = -np.mean(scores['test_neg_mean_absolute_error'])\n",
    "    # Stdev\n",
    "    std_val_mse = np.std(-scores['test_neg_mean_squared_error'])\n",
    "    std_val_mae = np.std(-scores['test_neg_mean_absolute_error'])\n",
    "    \n",
    "    # Calculate test MSE\n",
    "    test_mse_arr = np.zeros((5,2))\n",
    "    test_mae_arr = np.zeros((5,2))\n",
    "    for i in range(5):\n",
    "        y_test_pred = scores['estimator'][i].predict(X_test)\n",
    "        test_mse_arr[i,:] = mse(y_test, y_test_pred, multioutput='raw_values')\n",
    "        test_mae_arr[i,:] = mae(y_test, y_test_pred, multioutput='raw_values')\n",
    "    # Average\n",
    "    mean_test_mse = np.mean(test_mse_arr)\n",
    "    mean_test_mae = np.mean(test_mae_arr)\n",
    "    # Stdev\n",
    "    std_test_mse = np.std(test_mse_arr)\n",
    "    std_test_mae = np.std(test_mae_arr)\n",
    "\n",
    "    # return the negative of the CV score to ensure we maximize the negative MSE by minimizing the loss\n",
    "    return (scores, mean_val_mse, mean_val_mae, std_val_mse, std_val_mae, test_mse_arr, test_mae_arr, \\\n",
    "            mean_test_mse, mean_test_mae, std_test_mse, std_test_mae)"
   ]
  },
  {
   "cell_type": "code",
   "execution_count": 12,
   "metadata": {},
   "outputs": [],
   "source": [
    "optimized_scores, optimized_val_mse, optimized_val_mae, optimized_std_val_mse, optimized_std_val_mae, \\\n",
    "optimized_test_mse_arr, optimized_test_mae_arr, optimized_mean_test_mse, optimized_mean_test_mae, \\\n",
    "optimized_std_test_mse, optimized_std_test_mae \\\n",
    "= optimized_model_eval(X_train, y_train, X_test, y_test, best, parameter_dict)\n",
    "\n",
    "optimized_std_val_rmse = np.std(np.sqrt(-optimized_scores['test_neg_mean_squared_error']))\n",
    "optimized_std_test_rmse = np.std(np.sqrt(optimized_test_mse_arr))"
   ]
  },
  {
   "cell_type": "code",
   "execution_count": 13,
   "metadata": {},
   "outputs": [
    {
     "name": "stdout",
     "output_type": "stream",
     "text": [
      "Optimized average validation MSE: 1.14e-15\t std: 5.07e-16\n",
      "Optimized average validation RMSE: 3.37e-08\t std: 7.38e-09\n",
      "Optimized average validation MAE: 2.05e-08\t std: 1.27e-09\n"
     ]
    }
   ],
   "source": [
    "print(f\"Optimized average validation MSE: {optimized_val_mse:.3}\\t std: {optimized_std_val_mse:.3}\")\n",
    "print(f\"Optimized average validation RMSE: {np.sqrt(optimized_val_mse):.3}\\t std: {optimized_std_val_rmse:.3}\")\n",
    "print(f\"Optimized average validation MAE: {optimized_val_mae:.3}\\t std: {optimized_std_val_mae:.3}\")"
   ]
  },
  {
   "cell_type": "code",
   "execution_count": 14,
   "metadata": {},
   "outputs": [
    {
     "name": "stdout",
     "output_type": "stream",
     "text": [
      "Optimized average test MSE: 1.15e-15\t std: 8.33e-16\n",
      "Optimized average test RMSE: 3.39e-08\t std: 1.04e-08\n",
      "Optimized average test MAE: 2.02e-08\t std: 1.52e-09\n"
     ]
    }
   ],
   "source": [
    "print(f\"Optimized average test MSE: {optimized_mean_test_mse:.3}\\t std: {optimized_std_test_mse:.3}\")\n",
    "print(f\"Optimized average test RMSE: {np.sqrt(optimized_mean_test_mse):.3}\\t std: {optimized_std_test_rmse:.3}\")\n",
    "print(f\"Optimized average test MAE: {optimized_mean_test_mae:.3}\\t std: {optimized_std_test_mae:.3}\")"
   ]
  },
  {
   "cell_type": "code",
   "execution_count": 15,
   "metadata": {},
   "outputs": [
    {
     "name": "stdout",
     "output_type": "stream",
     "text": [
      "Optimized average validation MSE: 1.1388985039845397e-15\t std: 5.072205885615519e-16\n",
      "Optimized average validation RMSE: 3.37475703419452e-08\t std: 7.3821509307781255e-09\n",
      "Optimized average validation MAE: 2.047406135987635e-08\t std: 1.2743066947393285e-09\n",
      "Optimized average test MSE: 1.1524674340557836e-15\t std: 8.325660438586851e-16\n",
      "Optimized average test RMSE: 3.3948010752557854e-08\t std: 1.0445128799508665e-08\n",
      "Optimized average test MAE: 2.0193922155532286e-08\t std: 1.52325201953015e-09\n"
     ]
    }
   ],
   "source": [
    "print(f\"Optimized average validation MSE: {optimized_val_mse}\\t std: {optimized_std_val_mse}\")\n",
    "print(f\"Optimized average validation RMSE: {np.sqrt(optimized_val_mse)}\\t std: {optimized_std_val_rmse}\")\n",
    "print(f\"Optimized average validation MAE: {optimized_val_mae}\\t std: {optimized_std_val_mae}\")\n",
    "print(f\"Optimized average test MSE: {optimized_mean_test_mse}\\t std: {optimized_std_test_mse}\")\n",
    "print(f\"Optimized average test RMSE: {np.sqrt(optimized_mean_test_mse)}\\t std: {optimized_std_test_rmse}\")\n",
    "print(f\"Optimized average test MAE: {optimized_mean_test_mae}\\t std: {optimized_std_test_mae}\")"
   ]
  },
  {
   "cell_type": "markdown",
   "metadata": {},
   "source": [
    "# Reducing Dataset Size"
   ]
  },
  {
   "cell_type": "code",
   "execution_count": 16,
   "metadata": {},
   "outputs": [],
   "source": [
    "def prep_data(X, y, total_size, test_size, random_state):\n",
    "    # Calculate the size of the reduced data set\n",
    "    total_frac = total_size/y.shape[0]\n",
    "    # Reducing the dataset size\n",
    "    X_train_all, X_test_all, y_train_all, y_test_all = \\\n",
    "    train_test_split(X, y, test_size=1-total_frac, random_state=random_state)\n",
    "    \n",
    "    # Splitting into train and test\n",
    "    X_train, X_test, y_train, y_test = \\\n",
    "    train_test_split(X_train_all, y_train_all, test_size=test_size, random_state=random_state)\n",
    "    \n",
    "    return(X_train, X_test, X_test_all, y_train, y_test, y_test_all)"
   ]
  },
  {
   "cell_type": "code",
   "execution_count": 17,
   "metadata": {},
   "outputs": [
    {
     "name": "stdout",
     "output_type": "stream",
     "text": [
      "[1000.   500.   250.   125.    62.5]\n"
     ]
    }
   ],
   "source": [
    "# Reduced data set sizes\n",
    "data_set_sizes = 2000*0.5 ** np.arange(1,6)\n",
    "print(data_set_sizes)\n",
    "# Lists to store data and results in\n",
    "trials_list = []\n",
    "best_params_list = []\n",
    "X_train_list = []\n",
    "X_test_list = []\n",
    "X_test_all_list = []\n",
    "y_train_list = []\n",
    "y_test_list = []\n",
    "y_test_all_list = []"
   ]
  },
  {
   "cell_type": "code",
   "execution_count": 24,
   "metadata": {},
   "outputs": [
    {
     "name": "stdout",
     "output_type": "stream",
     "text": [
      "Data set size: 1000.0\n",
      "100%|██████████| 200/200 [39:08<00:00, 11.74s/trial, best loss: 2.185358278639574e-15]  \n",
      "Best parameter set: {'max_depth': 4, 'min_samples_split': 0, 'n_estimators': 3}\n",
      "n_estimators = 100\n",
      "max_depth = None\n",
      "min_samples_split = 2\n",
      "Data set size: 500.0\n",
      "100%|██████████| 200/200 [55:47<00:00, 16.74s/trial, best loss: 4.422463887923952e-15] \n",
      "Best parameter set: {'max_depth': 4, 'min_samples_split': 0, 'n_estimators': 7}\n",
      "n_estimators = 1280\n",
      "max_depth = None\n",
      "min_samples_split = 2\n",
      "Data set size: 250.0\n",
      "100%|██████████| 200/200 [21:09<00:00,  6.35s/trial, best loss: 1.1240727537667237e-14]\n",
      "Best parameter set: {'max_depth': 4, 'min_samples_split': 0, 'n_estimators': 4}\n",
      "n_estimators = 160\n",
      "max_depth = None\n",
      "min_samples_split = 2\n",
      "Data set size: 125.0\n",
      "100%|██████████| 200/200 [14:37<00:00,  4.39s/trial, best loss: 2.9114777097221805e-14]\n",
      "Best parameter set: {'max_depth': 3, 'min_samples_split': 0, 'n_estimators': 6}\n",
      "n_estimators = 640\n",
      "max_depth = 10\n",
      "min_samples_split = 2\n",
      "Data set size: 62.5\n",
      "100%|██████████| 200/200 [11:10<00:00,  3.35s/trial, best loss: 6.024964947914508e-14]\n",
      "Best parameter set: {'max_depth': 4, 'min_samples_split': 0, 'n_estimators': 0}\n",
      "n_estimators = 20\n",
      "max_depth = None\n",
      "min_samples_split = 2\n"
     ]
    }
   ],
   "source": [
    "# Iterate through smaller data set sizes\n",
    "for data_set_size in data_set_sizes:\n",
    "    print(f\"Data set size: {data_set_size}\")\n",
    "    X_train_sub, X_test_sub, X_test_all, y_train_sub, y_test_sub, y_test_all = \\\n",
    "    prep_data(X_train, y_train, data_set_size, 0.2, 0)\n",
    "    # Add data sets to lists\n",
    "    X_train_list.append(X_train_sub)\n",
    "    X_test_list.append(X_test_sub)\n",
    "    X_test_all_list.append(X_test_all)\n",
    "    y_train_list.append(y_train_sub)\n",
    "    y_test_list.append(y_test_sub)\n",
    "    y_test_all_list.append(y_test_all)\n",
    "    def model_eval_data_set(args):\n",
    "\n",
    "        '''Take suggested arguments and perform model evaluation'''\n",
    "\n",
    "        random_forest_model = RandomForestRegressor(criterion=\"squared_error\", n_estimators=args['n_estimators'], \\\n",
    "                                      min_samples_split=args['min_samples_split'], max_depth=args['max_depth'])\n",
    "        tt_regressor = TransformedTargetRegressor(regressor=random_forest_model, transformer=StandardScaler())\n",
    "        pipeline = Pipeline([('x_scaler', StandardScaler()), ('regressor', tt_regressor)])\n",
    "\n",
    "        scores = cross_val_score(pipeline, X_train_sub, y=y_train_sub, scoring='neg_mean_squared_error')\n",
    "\n",
    "        cv_score = np.mean(scores)\n",
    "\n",
    "        # return the negative of the CV score to ensure we maximize the negative MSE by minimizing the loss\n",
    "        return -cv_score\n",
    "    # Hyperparameter optimize\n",
    "    trials = Trials()\n",
    "    best = fmin(model_eval_data_set, parameter_space, algo=tpe.suggest, max_evals=200, trials=trials)\n",
    "    trials_list.append(trials)\n",
    "    best_params_list.append(best)\n",
    "    print(\"Best parameter set: {}\".format(best))\n",
    "    print(f\"n_estimators = {n_estimators_list[best['n_estimators']]}\")\n",
    "    print(f\"max_depth = {max_depth_list[best['max_depth']]}\")\n",
    "    print(f\"min_samples_split = {min_samples_split_list[best['min_samples_split']]}\")"
   ]
  },
  {
   "cell_type": "code",
   "execution_count": 19,
   "metadata": {},
   "outputs": [
    {
     "name": "stdout",
     "output_type": "stream",
     "text": [
      "Data set size: 1000.0\n",
      "Data set size: 500.0\n",
      "Data set size: 250.0\n",
      "Data set size: 125.0\n",
      "Data set size: 62.5\n"
     ]
    }
   ],
   "source": [
    "# Iterate through smaller data set sizes\n",
    "for data_set_size in data_set_sizes:\n",
    "    print(f\"Data set size: {data_set_size}\")\n",
    "    X_train_sub, X_test_sub, X_test_all, y_train_sub, y_test_sub, y_test_all = \\\n",
    "    prep_data(X_train, y_train, data_set_size, 0.2, 0)\n",
    "    # Add data sets to lists\n",
    "    X_train_list.append(X_train_sub)\n",
    "    X_test_list.append(X_test_sub)\n",
    "    X_test_all_list.append(X_test_all)\n",
    "    y_train_list.append(y_train_sub)\n",
    "    y_test_list.append(y_test_sub)\n",
    "    y_test_all_list.append(y_test_all)"
   ]
  },
  {
   "cell_type": "code",
   "execution_count": 18,
   "metadata": {},
   "outputs": [
    {
     "data": {
      "text/plain": [
       "[{'max_depth': 4, 'min_samples_split': 0, 'n_estimators': 3},\n",
       " {'max_depth': 4, 'min_samples_split': 0, 'n_estimators': 7},\n",
       " {'max_depth': 4, 'min_samples_split': 0, 'n_estimators': 4},\n",
       " {'max_depth': 3, 'min_samples_split': 0, 'n_estimators': 6},\n",
       " {'max_depth': 4, 'min_samples_split': 0, 'n_estimators': 0}]"
      ]
     },
     "execution_count": 18,
     "metadata": {},
     "output_type": "execute_result"
    }
   ],
   "source": [
    "best_params_list = [{'max_depth': 4, 'min_samples_split': 0, 'n_estimators': 3},\n",
    " {'max_depth': 4, 'min_samples_split': 0, 'n_estimators': 7},\n",
    " {'max_depth': 4, 'min_samples_split': 0, 'n_estimators': 4},\n",
    " {'max_depth': 3, 'min_samples_split': 0, 'n_estimators': 6},\n",
    " {'max_depth': 4, 'min_samples_split': 0, 'n_estimators': 0}]\n",
    "best_params_list"
   ]
  },
  {
   "cell_type": "markdown",
   "metadata": {},
   "source": [
    "# Train Optimized Models (Reduced Dataset)"
   ]
  },
  {
   "cell_type": "code",
   "execution_count": 20,
   "metadata": {},
   "outputs": [],
   "source": [
    "mean_val_mse_list = []\n",
    "mean_val_mae_list = []\n",
    "std_val_mse_list = []\n",
    "std_val_rmse_list = []\n",
    "std_val_mae_list = []\n",
    "mean_test_mse_list = []\n",
    "mean_test_mae_list = []\n",
    "std_test_mse_list = []\n",
    "std_test_rmse_list = []\n",
    "std_test_mae_list = []\n",
    "for i in range(len(data_set_sizes)):\n",
    "    scores, mean_val_mse, mean_val_mae, std_val_mse, std_val_mae, test_mse_arr, test_mae_arr, mean_test_mse, \\\n",
    "    mean_test_mae, std_test_mse, std_test_mae = \\\n",
    "    optimized_model_eval(X_train_list[i], y_train_list[i], X_test_list[i], y_test_list[i], \\\n",
    "                         best_params_list[i], parameter_dict)\n",
    "    std_val_rmse = np.std(np.sqrt(-scores['test_neg_mean_squared_error']))\n",
    "    std_test_rmse = np.std(np.sqrt(test_mse_arr))\n",
    "    mean_val_mse_list.append(mean_val_mse)\n",
    "    mean_val_mae_list.append(mean_val_mae)\n",
    "    std_val_mse_list.append(std_val_mse)\n",
    "    std_val_rmse_list.append(std_val_rmse)\n",
    "    std_val_mae_list.append(std_val_mae)\n",
    "    mean_test_mse_list.append(mean_test_mse)\n",
    "    mean_test_mae_list.append(mean_test_mae)\n",
    "    std_test_mse_list.append(std_test_mse)\n",
    "    std_test_rmse_list.append(std_test_rmse)\n",
    "    std_test_mae_list.append(std_test_mae)"
   ]
  },
  {
   "cell_type": "code",
   "execution_count": 21,
   "metadata": {},
   "outputs": [
    {
     "name": "stdout",
     "output_type": "stream",
     "text": [
      "Mean validation MSE list\n",
      "[2.3319141954007174e-15, 4.459383054015973e-15, 1.1481329557867268e-14, 3.0543428534461786e-14, 7.617273163129558e-14]\n",
      "Std validation MSE list\n",
      "[9.119199016454949e-16, 1.007795961281141e-15, 5.158078980335579e-15, 1.6586061731575134e-14, 2.89132929418504e-14]\n",
      "Mean validation MAE list\n",
      "[3.199978492624801e-08, 4.6543034132001085e-08, 7.622746482483923e-08, 1.2550819915668452e-07, 2.0807735246640744e-07]\n",
      "Std validation MAE list\n",
      "[2.2276415149547485e-09, 4.129174396578207e-09, 1.6508342195267542e-08, 3.886026622370435e-08, 4.21779261838701e-08]\n"
     ]
    }
   ],
   "source": [
    "print(\"Mean validation MSE list\")\n",
    "print(mean_val_mse_list)\n",
    "print(\"Std validation MSE list\")\n",
    "print(std_val_mse_list)\n",
    "print(\"Mean validation MAE list\")\n",
    "print(mean_val_mae_list)\n",
    "print(\"Std validation MAE list\")\n",
    "print(std_val_mae_list)"
   ]
  },
  {
   "cell_type": "code",
   "execution_count": 22,
   "metadata": {},
   "outputs": [
    {
     "name": "stdout",
     "output_type": "stream",
     "text": [
      "Data set size: 1000.0\n",
      "Optimized average validation MSE: 2.33e-15\t std: 9.12e-16\n",
      "Optimized average validation RMSE: 4.83e-08\t std: 8.96e-09\n",
      "Optimized average validation MAE: 3.2e-08\t std: 2.23e-09\n",
      "Data set size: 500.0\n",
      "Optimized average validation MSE: 4.46e-15\t std: 1.01e-15\n",
      "Optimized average validation RMSE: 6.68e-08\t std: 7.35e-09\n",
      "Optimized average validation MAE: 4.65e-08\t std: 4.13e-09\n",
      "Data set size: 250.0\n",
      "Optimized average validation MSE: 1.15e-14\t std: 5.16e-15\n",
      "Optimized average validation RMSE: 1.07e-07\t std: 2.43e-08\n",
      "Optimized average validation MAE: 7.62e-08\t std: 1.65e-08\n",
      "Data set size: 125.0\n",
      "Optimized average validation MSE: 3.05e-14\t std: 1.66e-14\n",
      "Optimized average validation RMSE: 1.75e-07\t std: 4.69e-08\n",
      "Optimized average validation MAE: 1.26e-07\t std: 3.89e-08\n",
      "Data set size: 62.5\n",
      "Optimized average validation MSE: 7.62e-14\t std: 2.89e-14\n",
      "Optimized average validation RMSE: 2.76e-07\t std: 5.54e-08\n",
      "Optimized average validation MAE: 2.08e-07\t std: 4.22e-08\n"
     ]
    }
   ],
   "source": [
    "for i in range(len(data_set_sizes)):\n",
    "    print(f\"Data set size: {data_set_sizes[i]}\")\n",
    "    print(f\"Optimized average validation MSE: {mean_val_mse_list[i]:.3}\\t std: {std_val_mse_list[i]:.3}\")\n",
    "    print(f\"Optimized average validation RMSE: {np.sqrt(mean_val_mse_list[i]):.3}\\t std: {std_val_rmse_list[i]:.3}\")\n",
    "    print(f\"Optimized average validation MAE: {mean_val_mae_list[i]:.3}\\t std: {std_val_mae_list[i]:.3}\")"
   ]
  },
  {
   "cell_type": "code",
   "execution_count": 25,
   "metadata": {},
   "outputs": [
    {
     "name": "stdout",
     "output_type": "stream",
     "text": [
      "Mean test MSE list\n",
      "[1.886896128599015e-15, 5.084302485240674e-15, 1.079373236728321e-14, 2.150023101897719e-14, 6.298022376266934e-14]\n",
      "Std test MSE list\n",
      "[5.46152215043539e-16, 6.177336423319031e-16, 2.1804927901783093e-15, 1.1987371989967923e-14, 1.9839545643113637e-14]\n",
      "Mean test MAE list\n",
      "[3.14553506796945e-08, 5.077955940796483e-08, 7.712736769776141e-08, 1.0205285241050447e-07, 2.1061051679055318e-07]\n",
      "Std test MAE list\n",
      "[2.7901653680701797e-09, 2.8509535668910404e-09, 7.723538998526923e-09, 2.5384446025132633e-08, 3.8582593218599723e-08]\n"
     ]
    }
   ],
   "source": [
    "print(\"Mean test MSE list\")\n",
    "print(mean_test_mse_list)\n",
    "print(\"Std test MSE list\")\n",
    "print(std_test_mse_list)\n",
    "print(\"Mean test MAE list\")\n",
    "print(mean_test_mae_list)\n",
    "print(\"Std test MAE list\")\n",
    "print(std_test_mae_list)"
   ]
  },
  {
   "cell_type": "code",
   "execution_count": 26,
   "metadata": {},
   "outputs": [
    {
     "name": "stdout",
     "output_type": "stream",
     "text": [
      "Data set size: 1000.0\n",
      "Optimized average test MSE: 1.89e-15\t std: 5.46e-16\n",
      "Optimized average test RMSE: 4.34e-08\t std: 5.98e-09\n",
      "Optimized average test MAE: 3.15e-08\t std: 2.79e-09\n",
      "Data set size: 500.0\n",
      "Optimized average test MSE: 5.08e-15\t std: 6.18e-16\n",
      "Optimized average test RMSE: 7.13e-08\t std: 4.38e-09\n",
      "Optimized average test MAE: 5.08e-08\t std: 2.85e-09\n",
      "Data set size: 250.0\n",
      "Optimized average test MSE: 1.08e-14\t std: 2.18e-15\n",
      "Optimized average test RMSE: 1.04e-07\t std: 1.05e-08\n",
      "Optimized average test MAE: 7.71e-08\t std: 7.72e-09\n",
      "Data set size: 125.0\n",
      "Optimized average test MSE: 2.15e-14\t std: 1.2e-14\n",
      "Optimized average test RMSE: 1.47e-07\t std: 3.8e-08\n",
      "Optimized average test MAE: 1.02e-07\t std: 2.54e-08\n",
      "Data set size: 62.5\n",
      "Optimized average test MSE: 6.3e-14\t std: 1.98e-14\n",
      "Optimized average test RMSE: 2.51e-07\t std: 4.37e-08\n",
      "Optimized average test MAE: 2.11e-07\t std: 3.86e-08\n"
     ]
    }
   ],
   "source": [
    "for i in range(len(data_set_sizes)):\n",
    "    print(f\"Data set size: {data_set_sizes[i]}\")\n",
    "    print(f\"Optimized average test MSE: {mean_test_mse_list[i]:.3}\\t std: {std_test_mse_list[i]:.3}\")\n",
    "    print(f\"Optimized average test RMSE: {np.sqrt(mean_test_mse_list[i]):.3}\\t std: {std_test_rmse_list[i]:.3}\")\n",
    "    print(f\"Optimized average test MAE: {mean_test_mae_list[i]:.3}\\t std: {std_test_mae_list[i]:.3}\")"
   ]
  },
  {
   "cell_type": "markdown",
   "metadata": {},
   "source": [
    "# Plots"
   ]
  },
  {
   "cell_type": "code",
   "execution_count": 27,
   "metadata": {},
   "outputs": [
    {
     "name": "stdout",
     "output_type": "stream",
     "text": [
      "Mean Validation MSE\n",
      "[1.1388985039845397e-15, 2.3319141954007174e-15, 4.459383054015973e-15, 1.1481329557867268e-14, 3.0543428534461786e-14, 7.617273163129558e-14]\n",
      "Std Validation MSE\n",
      "[5.072205885615519e-16, 9.119199016454949e-16, 1.007795961281141e-15, 5.158078980335579e-15, 1.6586061731575134e-14, 2.89132929418504e-14]\n",
      "Mean Validation RMSE\n",
      "[3.37475703e-08 4.82898974e-08 6.67786122e-08 1.07150966e-07\n",
      " 1.74766783e-07 2.75994079e-07]\n",
      "Std Validation RMSE\n",
      "[7.3821509307781255e-09, 8.956506602467225e-09, 7.351160845675108e-09, 2.4300906226289276e-08, 4.6945160630047186e-08, 5.539775408691589e-08]\n",
      "Mean Validation MAE\n",
      "[2.047406135987635e-08, 3.199978492624801e-08, 4.6543034132001085e-08, 7.622746482483923e-08, 1.2550819915668452e-07, 2.0807735246640744e-07]\n",
      "Std Validation MAE\n",
      "[1.2743066947393285e-09, 2.2276415149547485e-09, 4.129174396578207e-09, 1.6508342195267542e-08, 3.886026622370435e-08, 4.21779261838701e-08]\n",
      "Mean Test MSE\n",
      "[1.1524674340557836e-15, 1.886896128599015e-15, 5.084302485240674e-15, 1.079373236728321e-14, 2.150023101897719e-14, 6.298022376266934e-14]\n",
      "Std Test MSE\n",
      "[8.325660438586851e-16, 5.46152215043539e-16, 6.177336423319031e-16, 2.1804927901783093e-15, 1.1987371989967923e-14, 1.9839545643113637e-14]\n",
      "Mean Test RMSE\n",
      "[3.39480108e-08 4.34384177e-08 7.13042950e-08 1.03892889e-07\n",
      " 1.46629571e-07 2.50958610e-07]\n",
      "Std Test RMSE\n",
      "[1.0445128799508665e-08, 5.984391016494159e-09, 4.380610387651006e-09, 1.0494626047316326e-08, 3.7991728109690045e-08, 4.371410448095767e-08]\n",
      "Mean Test MAE\n",
      "[2.0193922155532286e-08, 3.14553506796945e-08, 5.077955940796483e-08, 7.712736769776141e-08, 1.0205285241050447e-07, 2.1061051679055318e-07]\n",
      "Std Test MAE\n",
      "[1.52325201953015e-09, 2.7901653680701797e-09, 2.8509535668910404e-09, 7.723538998526923e-09, 2.5384446025132633e-08, 3.8582593218599723e-08]\n"
     ]
    }
   ],
   "source": [
    "plt.rcParams.update({'font.size': 16})\n",
    "plot_data_set_sizes = 2000 * 0.5 ** np.arange(0,6)\n",
    "# mean_val_mse_list.insert(0, optimized_val_mse)\n",
    "# mean_val_mae_list.insert(0, optimized_val_mae)\n",
    "# mean_test_mse_list.insert(0, optimized_mean_test_mse)\n",
    "# mean_test_mae_list.insert(0, optimized_mean_test_mae)\n",
    "# std_val_mse_list.insert(0, optimized_std_val_mse)\n",
    "# std_val_rmse_list.insert(0, optimized_std_val_rmse)\n",
    "# std_val_mae_list.insert(0, optimized_std_val_mae)\n",
    "# std_test_mse_list.insert(0, optimized_std_test_mse)\n",
    "# std_test_rmse_list.insert(0, optimized_std_test_rmse)\n",
    "# std_test_mae_list.insert(0, optimized_std_test_mae)\n",
    "\n",
    "print(\"Mean Validation MSE\")\n",
    "print(mean_val_mse_list)\n",
    "print(\"Std Validation MSE\")\n",
    "print(std_val_mse_list)\n",
    "print(\"Mean Validation RMSE\")\n",
    "print(np.sqrt(mean_val_mse_list))\n",
    "print(\"Std Validation RMSE\")\n",
    "print(std_val_rmse_list)\n",
    "print(\"Mean Validation MAE\")\n",
    "print(mean_val_mae_list)\n",
    "print(\"Std Validation MAE\")\n",
    "print(std_val_mae_list)\n",
    "print(\"Mean Test MSE\")\n",
    "print(mean_test_mse_list)\n",
    "print(\"Std Test MSE\")\n",
    "print(std_test_mse_list)\n",
    "print(\"Mean Test RMSE\")\n",
    "print(np.sqrt(mean_test_mse_list))\n",
    "print(\"Std Test RMSE\")\n",
    "print(std_test_rmse_list)\n",
    "print(\"Mean Test MAE\")\n",
    "print(mean_test_mae_list)\n",
    "print(\"Std Test MAE\")\n",
    "print(std_test_mae_list)"
   ]
  },
  {
   "cell_type": "code",
   "execution_count": 28,
   "metadata": {},
   "outputs": [],
   "source": [
    "case = \"10-10-2 Case 2\"\n",
    "save_name = \"rf_10-10-2_semi-asym\""
   ]
  },
  {
   "cell_type": "code",
   "execution_count": 29,
   "metadata": {},
   "outputs": [
    {
     "data": {
      "image/png": "[encoded data removed]",
      "text/plain": [
       "<Figure size 504x360 with 1 Axes>"
      ]
     },
     "metadata": {
      "needs_background": "light"
     },
     "output_type": "display_data"
    },
    {
     "data": {
      "image/png": "[encoded data removed]",
      "text/plain": [
       "<Figure size 504x360 with 1 Axes>"
      ]
     },
     "metadata": {
      "needs_background": "light"
     },
     "output_type": "display_data"
    },
    {
     "data": {
      "image/png": "[encoded data removed]",
      "text/plain": [
       "<Figure size 504x360 with 1 Axes>"
      ]
     },
     "metadata": {
      "needs_background": "light"
     },
     "output_type": "display_data"
    }
   ],
   "source": [
    "fig, ax = plt.subplots(1,1,figsize=(7,5))\n",
    "plt.errorbar(plot_data_set_sizes, mean_val_mse_list,yerr=std_val_mse_list)\n",
    "plt.xlabel(\"Data Set Size\")\n",
    "plt.ylabel(\"Mean Validation MSE\")\n",
    "plt.title(f\"Mean Validation MSE:\\n{case}\")\n",
    "plt.savefig(f\"{save_name}_val_mse_vs_data.png\")\n",
    "fig, ax = plt.subplots(1,1,figsize=(7,5))\n",
    "plt.errorbar(plot_data_set_sizes, np.sqrt(mean_val_mse_list),yerr=std_val_rmse_list)\n",
    "plt.xlabel(\"Data Set Size\")\n",
    "plt.ylabel(\"Mean Validation RMSE\")\n",
    "plt.title(f\"Mean Validation RMSE:\\n{case}\")\n",
    "plt.savefig(f\"{save_name}_val_rmse_vs_data.png\")\n",
    "fig, ax = plt.subplots(1,1,figsize=(7,5))\n",
    "plt.errorbar(plot_data_set_sizes, mean_val_mae_list,yerr=std_val_mae_list)\n",
    "plt.xlabel(\"Data Set Size\")\n",
    "plt.ylabel(\"Mean Validation MAE\")\n",
    "plt.title(f\"Mean Validation MAE:\\n{case}\")\n",
    "plt.savefig(f\"{save_name}_val_mae_vs_data.png\")"
   ]
  },
  {
   "cell_type": "code",
   "execution_count": 30,
   "metadata": {},
   "outputs": [
    {
     "data": {
      "image/png": "[encoded data removed]",
      "text/plain": [
       "<Figure size 504x360 with 1 Axes>"
      ]
     },
     "metadata": {
      "needs_background": "light"
     },
     "output_type": "display_data"
    },
    {
     "data": {
      "image/png": "[encoded data removed]",
      "text/plain": [
       "<Figure size 504x360 with 1 Axes>"
      ]
     },
     "metadata": {
      "needs_background": "light"
     },
     "output_type": "display_data"
    },
    {
     "data": {
      "image/png": "[encoded data removed]",
      "text/plain": [
       "<Figure size 504x360 with 1 Axes>"
      ]
     },
     "metadata": {
      "needs_background": "light"
     },
     "output_type": "display_data"
    }
   ],
   "source": [
    "fig, ax = plt.subplots(1,1,figsize=(7,5))\n",
    "plt.errorbar(plot_data_set_sizes, mean_test_mse_list,yerr=std_test_mse_list)\n",
    "plt.xlabel(\"Data Set Size\")\n",
    "plt.ylabel(\"Mean Test MSE\")\n",
    "plt.title(f\"Mean Test MSE:\\n{case}\")\n",
    "plt.savefig(f\"{save_name}_test_mse_vs_data.png\")\n",
    "fig, ax = plt.subplots(1,1,figsize=(7,5))\n",
    "plt.errorbar(plot_data_set_sizes, np.sqrt(mean_test_mse_list),yerr=std_test_rmse_list)\n",
    "plt.xlabel(\"Data Set Size\")\n",
    "plt.ylabel(\"Mean Test RMSE\")\n",
    "plt.title(f\"Mean Test RMSE:\\n{case}\")\n",
    "plt.savefig(f\"{save_name}_test_rmse_vs_data.png\")\n",
    "fig, ax = plt.subplots(1,1,figsize=(7,5))\n",
    "plt.errorbar(plot_data_set_sizes, mean_test_mae_list,yerr=std_test_mae_list)\n",
    "plt.xlabel(\"Data Set Size\")\n",
    "plt.ylabel(\"Mean Test MAE\")\n",
    "plt.title(f\"Mean Test MAE:\\n{case}\")\n",
    "plt.savefig(f\"{save_name}_test_mae_vs_data.png\")"
   ]
  },
  {
   "cell_type": "code",
   "execution_count": null,
   "metadata": {},
   "outputs": [],
   "source": []
  }
 ],
 "metadata": {
  "kernelspec": {
   "display_name": "Python 3.7",
   "language": "python",
   "name": "python3.7"
  },
  "language_info": {
   "codemirror_mode": {
    "name": "ipython",
    "version": 3
   },
   "file_extension": ".py",
   "mimetype": "text/x-python",
   "name": "python",
   "nbconvert_exporter": "python",
   "pygments_lexer": "ipython3",
   "version": "3.7.12"
  }
 },
 "nbformat": 4,
 "nbformat_minor": 4
}
