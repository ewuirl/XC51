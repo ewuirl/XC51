{
 "cells": [
  {
   "cell_type": "code",
   "execution_count": 1,
   "metadata": {},
   "outputs": [],
   "source": [
    "import sys\n",
    "sys.path.append('../../')\n",
    "from simCRN.multivariate_reg import read_eq_data_file\n",
    "import tensorflow as tf\n",
    "from tensorflow import keras\n",
    "from tensorflow.keras import layers\n",
    "import tensorflow_docs as tfdocs\n",
    "import tensorflow_docs.plots\n",
    "import tensorflow_docs.modeling\n",
    "import matplotlib.pyplot as plt\n",
    "import numpy as np\n",
    "import math\n",
    "from sklearn.ensemble import RandomForestRegressor\n",
    "from sklearn.model_selection import train_test_split\n",
    "from sklearn.pipeline import Pipeline\n",
    "from sklearn.preprocessing import StandardScaler\n",
    "from sklearn.compose import TransformedTargetRegressor\n",
    "from sklearn.metrics import mean_absolute_error as mae\n",
    "from sklearn.metrics import mean_squared_error as mse\n",
    "from sklearn.metrics import r2_score\n",
    "from hyperopt import hp\n",
    "from hyperopt import fmin, tpe, space_eval, Trials\n",
    "from sklearn.model_selection import cross_val_score"
   ]
  },
  {
   "cell_type": "markdown",
   "metadata": {},
   "source": [
    "# Baseline model: Random Forest"
   ]
  },
  {
   "cell_type": "code",
   "execution_count": 3,
   "metadata": {},
   "outputs": [
    {
     "data": {
      "text/plain": [
       "{'divide': 'warn', 'over': 'warn', 'under': 'warn', 'invalid': 'warn'}"
      ]
     },
     "execution_count": 3,
     "metadata": {},
     "output_type": "execute_result"
    }
   ],
   "source": [
    "np.seterr(under='warn')"
   ]
  },
  {
   "cell_type": "markdown",
   "metadata": {},
   "source": [
    "Reading in the data"
   ]
  },
  {
   "cell_type": "code",
   "execution_count": 4,
   "metadata": {},
   "outputs": [],
   "source": [
    "Ci_all_array, Am_array, Cmin, Cmax, Ai = read_eq_data_file('../10-10-2-asym-AB-AC.txt')"
   ]
  },
  {
   "cell_type": "code",
   "execution_count": 5,
   "metadata": {},
   "outputs": [
    {
     "name": "stdout",
     "output_type": "stream",
     "text": [
      "1.5e-06\n"
     ]
    }
   ],
   "source": [
    "print(Cmax)"
   ]
  },
  {
   "cell_type": "code",
   "execution_count": 6,
   "metadata": {},
   "outputs": [
    {
     "data": {
      "text/plain": [
       "(2000, 10)"
      ]
     },
     "execution_count": 6,
     "metadata": {},
     "output_type": "execute_result"
    }
   ],
   "source": [
    "Am_array.shape"
   ]
  },
  {
   "cell_type": "markdown",
   "metadata": {},
   "source": [
    "Prepare the data"
   ]
  },
  {
   "cell_type": "code",
   "execution_count": 5,
   "metadata": {},
   "outputs": [],
   "source": [
    "# Splitting into train and test\n",
    "X_train, X_test, y_train, y_test = train_test_split(Am_array, Ci_all_array, test_size=0.2, random_state=0)"
   ]
  },
  {
   "cell_type": "markdown",
   "metadata": {},
   "source": [
    "Random Forest Model"
   ]
  },
  {
   "cell_type": "code",
   "execution_count": 8,
   "metadata": {},
   "outputs": [],
   "source": [
    "random_forest_model = RandomForestRegressor(criterion=\"squared_error\", random_state=0)\n",
    "tt_regressor = TransformedTargetRegressor(regressor=random_forest_model, transformer=StandardScaler())\n",
    "pipeline = Pipeline([('x_scaler', StandardScaler()), ('regressor', tt_regressor)])\n",
    "\n",
    "pipeline.fit(X_train, y_train)\n",
    "y_hat_train = pipeline.predict(X_train)\n",
    "y_hat_test = pipeline.predict(X_test)"
   ]
  },
  {
   "cell_type": "code",
   "execution_count": 9,
   "metadata": {},
   "outputs": [
    {
     "name": "stdout",
     "output_type": "stream",
     "text": [
      "The MAE on the training data for C₁ is 2.79e-09\n",
      "The MAE on the training data for C₂ is 3.55e-09\n",
      "The MAE on the test data for C₁ is 7.28e-09\n",
      "The MAE on the test data for C₂ is 9.17e-09\n",
      "\n",
      "The average value of C₁ is 7.6e-07\n",
      "The average value of C₂ is 7.36e-07\n",
      "\n",
      "For the test data, MAE/mean for C₁ is 0.00958\n",
      "For the test data, MAE/mean for C₂ is 0.0125\n"
     ]
    }
   ],
   "source": [
    "train_mae = mae(y_train, y_hat_train, multioutput='raw_values')\n",
    "test_mae = mae(y_test, y_hat_test, multioutput='raw_values')\n",
    "\n",
    "print(f'The MAE on the training data for C₁ is {train_mae[0]:.3}') # 3 significant figures\n",
    "print(f'The MAE on the training data for C₂ is {train_mae[1]:.3}')\n",
    "print(f'The MAE on the test data for C₁ is {test_mae[0]:.3}')\n",
    "print(f'The MAE on the test data for C₂ is {test_mae[1]:.3}')\n",
    "\n",
    "print() # new line\n",
    "\n",
    "# Contextualizing with the mean of C₁ and C₂\n",
    "means = np.mean(Ci_all_array, axis=0)\n",
    "print(f'The average value of C₁ is {means[0]:.3}')\n",
    "print(f'The average value of C₂ is {means[1]:.3}')\n",
    "\n",
    "print() # new line\n",
    "\n",
    "print(f'For the test data, MAE/mean for C₁ is {test_mae[0]/means[0]:.3}')\n",
    "print(f'For the test data, MAE/mean for C₂ is {test_mae[1]/means[1]:.3}')"
   ]
  },
  {
   "cell_type": "code",
   "execution_count": 10,
   "metadata": {},
   "outputs": [
    {
     "name": "stdout",
     "output_type": "stream",
     "text": [
      "The RMSE on the training data for C₁ is 3.84e-09\n",
      "The RMSE on the training data for C₂ is 4.76e-09\n",
      "The RMSE on the test data for C₁ is 1.05e-08\n",
      "The RMSE on the test data for C₂ is 1.23e-08\n",
      "\n",
      "The average value of C₁ is 7.6e-07\n",
      "The average value of C₂ is 7.36e-07\n",
      "\n",
      "For the test data, RMSE/mean for C₁ is 0.0138\n",
      "For the test data, RMSE/mean for C₂ is 0.0167\n"
     ]
    }
   ],
   "source": [
    "train_mse = mse(y_train, y_hat_train, multioutput='raw_values')\n",
    "test_mse = mse(y_test, y_hat_test, multioutput='raw_values')\n",
    "train_rmse = np.sqrt(train_mse)\n",
    "test_rmse = np.sqrt(test_mse)\n",
    "\n",
    "print(f'The RMSE on the training data for C₁ is {train_rmse[0]:.3}') # 3 significant figures\n",
    "print(f'The RMSE on the training data for C₂ is {train_rmse[1]:.3}')\n",
    "print(f'The RMSE on the test data for C₁ is {test_rmse[0]:.3}')\n",
    "print(f'The RMSE on the test data for C₂ is {test_rmse[1]:.3}')\n",
    "\n",
    "print() # new line\n",
    "\n",
    "# Contextualizing with the mean of C₁ and C₂\n",
    "print(f'The average value of C₁ is {means[0]:.3}')\n",
    "print(f'The average value of C₂ is {means[1]:.3}')\n",
    "\n",
    "print() # new line\n",
    "\n",
    "print(f'For the test data, RMSE/mean for C₁ is {test_rmse[0]/means[0]:.3}')\n",
    "print(f'For the test data, RMSE/mean for C₂ is {test_rmse[1]/means[1]:.3}')"
   ]
  },
  {
   "cell_type": "code",
   "execution_count": 11,
   "metadata": {},
   "outputs": [
    {
     "name": "stdout",
     "output_type": "stream",
     "text": [
      "The R² on the training data for C₁ is 1.0\n",
      "The R² on the training data for C₂ is 1.0\n",
      "The R² on the test data for C₁ is 0.999\n",
      "The R² on the test data for C₂ is 0.999\n"
     ]
    }
   ],
   "source": [
    "train_r2 = r2_score(y_train, y_hat_train, multioutput='raw_values')\n",
    "test_r2 = r2_score(y_test, y_hat_test, multioutput='raw_values')\n",
    "\n",
    "print(f'The R² on the training data for C₁ is {train_r2[0]:.3}') # 3 significant figures\n",
    "print(f'The R² on the training data for C₂ is {train_r2[1]:.3}')\n",
    "print(f'The R² on the test data for C₁ is {test_r2[0]:.3}')\n",
    "print(f'The R² on the test data for C₂ is {test_r2[1]:.3}')"
   ]
  },
  {
   "cell_type": "markdown",
   "metadata": {},
   "source": [
    "# Hyperparameter optimization"
   ]
  },
  {
   "cell_type": "code",
   "execution_count": 6,
   "metadata": {},
   "outputs": [],
   "source": [
    "n_estimators_list = [20, 40, 80, 100, 160, 320, 640, 1280]\n",
    "min_samples_split_list = [2, 8, 10, 12, 24]\n",
    "max_depth_list = [2, 4, 8, 10, None]\n",
    "max_depth_list = [2, 4, 8, 10, None]\n",
    "parameter_space = {'n_estimators': hp.choice('n_estimators', n_estimators_list), \\\n",
    "                   'min_samples_split': hp.choice('min_samples_split', min_samples_split_list), \\\n",
    "                   'max_depth': hp.choice('max_depth', max_depth_list)}"
   ]
  },
  {
   "cell_type": "code",
   "execution_count": 13,
   "metadata": {},
   "outputs": [
    {
     "name": "stdout",
     "output_type": "stream",
     "text": [
      "Parameter Space Size: 200\n"
     ]
    }
   ],
   "source": [
    "print(f\"Parameter Space Size: {len(n_estimators_list)*len(min_samples_split_list)*len(max_depth_list)}\")"
   ]
  },
  {
   "cell_type": "code",
   "execution_count": 7,
   "metadata": {},
   "outputs": [],
   "source": [
    "from hyperopt import hp\n",
    "from hyperopt import fmin, tpe, space_eval, Trials\n",
    "from sklearn.model_selection import cross_val_score"
   ]
  },
  {
   "cell_type": "code",
   "execution_count": 15,
   "metadata": {},
   "outputs": [],
   "source": [
    "def model_eval(args):\n",
    "\n",
    "    '''Take suggested arguments and perform model evaluation'''\n",
    "    \n",
    "    random_forest_model = RandomForestRegressor(criterion=\"squared_error\", n_estimators=args['n_estimators'], \\\n",
    "                                  min_samples_split=args['min_samples_split'], max_depth=args['max_depth'])\n",
    "    tt_regressor = TransformedTargetRegressor(regressor=random_forest_model, transformer=StandardScaler())\n",
    "    pipeline = Pipeline([('x_scaler', StandardScaler()), ('regressor', tt_regressor)])\n",
    "    \n",
    "    scores = cross_val_score(pipeline, X_train, y=y_train, scoring='neg_mean_squared_error')\n",
    "    \n",
    "    cv_score = np.mean(scores)\n",
    "\n",
    "    # return the negative of the CV score to ensure we maximize the negative MSE by minimizing the loss\n",
    "    return -cv_score"
   ]
  },
  {
   "cell_type": "code",
   "execution_count": 16,
   "metadata": {},
   "outputs": [
    {
     "name": "stdout",
     "output_type": "stream",
     "text": [
      "Start trials\n",
      "100%|██████████| 200/200 [2:13:16<00:00, 39.98s/trial, best loss: 1.4448589897723985e-16]   \n"
     ]
    }
   ],
   "source": [
    "print(\"Start trials\") \n",
    "\n",
    "trials = Trials()\n",
    "best = fmin(model_eval, parameter_space, algo=tpe.suggest, max_evals=200, trials=trials)"
   ]
  },
  {
   "cell_type": "code",
   "execution_count": 17,
   "metadata": {},
   "outputs": [
    {
     "name": "stdout",
     "output_type": "stream",
     "text": [
      "Best parameter set: {'max_depth': 4, 'min_samples_split': 0, 'n_estimators': 7}\n",
      "n_estimators = 1280\n",
      "max_depth = None\n",
      "min_samples_split = 2\n",
      "Best loss from CV: 1.44e-16\n",
      "Best RMSE loss from CV: 1.2e-08\n"
     ]
    }
   ],
   "source": [
    "print(\"Best parameter set: {}\".format(best))\n",
    "print(f\"n_estimators = {n_estimators_list[best['n_estimators']]}\")\n",
    "print(f\"max_depth = {max_depth_list[best['max_depth']]}\")\n",
    "print(f\"min_samples_split = {min_samples_split_list[best['min_samples_split']]}\")\n",
    "print(\"Best loss from CV: {:.3}\".format(trials.best_trial['result']['loss']))\n",
    "print(\"Best RMSE loss from CV: {:.3}\".format(np.sqrt(trials.best_trial['result']['loss'])))"
   ]
  },
  {
   "cell_type": "code",
   "execution_count": 8,
   "metadata": {},
   "outputs": [],
   "source": [
    "best = {'max_depth': 4, 'min_samples_split': 0, 'n_estimators': 7}"
   ]
  },
  {
   "cell_type": "markdown",
   "metadata": {},
   "source": [
    "# Train Optimized Model"
   ]
  },
  {
   "cell_type": "code",
   "execution_count": 9,
   "metadata": {},
   "outputs": [],
   "source": [
    "from sklearn.model_selection import cross_validate"
   ]
  },
  {
   "cell_type": "code",
   "execution_count": 10,
   "metadata": {},
   "outputs": [],
   "source": [
    "parameter_dict = {'n_estimators': n_estimators_list, 'min_samples_split': min_samples_split_list, \\\n",
    "                  'max_depth': max_depth_list}"
   ]
  },
  {
   "cell_type": "code",
   "execution_count": 11,
   "metadata": {},
   "outputs": [],
   "source": [
    "def optimized_model_eval(X_train, y_train, X_test, y_test, parameters, parameter_dict):\n",
    "\n",
    "    '''Take suggested arguments and perform model evaluation'''\n",
    "\n",
    "    random_forest_model = RandomForestRegressor(criterion=\"squared_error\", \\\n",
    "                                                n_estimators=parameter_dict['n_estimators'][parameters['n_estimators']], \\\n",
    "                                                min_samples_split=parameter_dict['min_samples_split'][parameters['min_samples_split']], \\\n",
    "                                                max_depth=parameter_dict['max_depth'][parameters['max_depth']])\n",
    "    tt_regressor = TransformedTargetRegressor(regressor=random_forest_model, transformer=StandardScaler())\n",
    "    pipeline = Pipeline([('x_scaler', StandardScaler()), ('regressor', tt_regressor)])\n",
    "\n",
    "    # Train 5 models on random 80/20 test splits of the input data\n",
    "    scores = cross_validate(pipeline, X_train, y=y_train, scoring=['neg_mean_squared_error', 'neg_mean_absolute_error'], \\\n",
    "                             return_estimator=True)\n",
    "    \n",
    "    # Get average validation MSE\n",
    "    mean_val_mse = -np.mean(scores['test_neg_mean_squared_error'])\n",
    "    mean_val_mae = -np.mean(scores['test_neg_mean_absolute_error'])\n",
    "    # Stdev\n",
    "    std_val_mse = np.std(-scores['test_neg_mean_squared_error'])\n",
    "    std_val_mae = np.std(-scores['test_neg_mean_absolute_error'])\n",
    "    \n",
    "    # Calculate test MSE\n",
    "    test_mse_arr = np.zeros((5,2))\n",
    "    test_mae_arr = np.zeros((5,2))\n",
    "    for i in range(5):\n",
    "        y_test_pred = scores['estimator'][i].predict(X_test)\n",
    "        test_mse_arr[i,:] = mse(y_test, y_test_pred, multioutput='raw_values')\n",
    "        test_mae_arr[i,:] = mae(y_test, y_test_pred, multioutput='raw_values')\n",
    "    # Average\n",
    "    mean_test_mse = np.mean(test_mse_arr)\n",
    "    mean_test_mae = np.mean(test_mae_arr)\n",
    "    # Stdev\n",
    "    std_test_mse = np.std(test_mse_arr)\n",
    "    std_test_mae = np.std(test_mae_arr)\n",
    "\n",
    "    # return the negative of the CV score to ensure we maximize the negative MSE by minimizing the loss\n",
    "    return (scores, mean_val_mse, mean_val_mae, std_val_mse, std_val_mae, test_mse_arr, test_mae_arr, \\\n",
    "            mean_test_mse, mean_test_mae, std_test_mse, std_test_mae)"
   ]
  },
  {
   "cell_type": "code",
   "execution_count": 12,
   "metadata": {},
   "outputs": [],
   "source": [
    "optimized_scores, optimized_val_mse, optimized_val_mae, optimized_std_val_mse, optimized_std_val_mae, \\\n",
    "optimized_test_mse_arr, optimized_test_mae_arr, optimized_mean_test_mse, optimized_mean_test_mae, \\\n",
    "optimized_std_test_mse, optimized_std_test_mae \\\n",
    "= optimized_model_eval(X_train, y_train, X_test, y_test, best, parameter_dict)\n",
    "\n",
    "optimized_std_val_rmse = np.std(np.sqrt(-optimized_scores['test_neg_mean_squared_error']))\n",
    "optimized_std_test_rmse = np.std(np.sqrt(optimized_test_mse_arr))"
   ]
  },
  {
   "cell_type": "code",
   "execution_count": 13,
   "metadata": {},
   "outputs": [
    {
     "name": "stdout",
     "output_type": "stream",
     "text": [
      "Optimized average validation MSE: 1.46e-16\t std: 2.9e-17\n",
      "Optimized average validation RMSE: 1.21e-08\t std: 1.23e-09\n",
      "Optimized average validation MAE: 8.58e-09\t std: 7.3e-10\n"
     ]
    }
   ],
   "source": [
    "print(f\"Optimized average validation MSE: {optimized_val_mse:.3}\\t std: {optimized_std_val_mse:.3}\")\n",
    "print(f\"Optimized average validation RMSE: {np.sqrt(optimized_val_mse):.3}\\t std: {optimized_std_val_rmse:.3}\")\n",
    "print(f\"Optimized average validation MAE: {optimized_val_mae:.3}\\t std: {optimized_std_val_mae:.3}\")"
   ]
  },
  {
   "cell_type": "code",
   "execution_count": 14,
   "metadata": {},
   "outputs": [
    {
     "name": "stdout",
     "output_type": "stream",
     "text": [
      "Optimized average test MSE: 1.55e-16\t std: 3.95e-17\n",
      "Optimized average test RMSE: 1.25e-08\t std: 1.59e-09\n",
      "Optimized average test MAE: 8.87e-09\t std: 1.31e-09\n"
     ]
    }
   ],
   "source": [
    "print(f\"Optimized average test MSE: {optimized_mean_test_mse:.3}\\t std: {optimized_std_test_mse:.3}\")\n",
    "print(f\"Optimized average test RMSE: {np.sqrt(optimized_mean_test_mse):.3}\\t std: {optimized_std_test_rmse:.3}\")\n",
    "print(f\"Optimized average test MAE: {optimized_mean_test_mae:.3}\\t std: {optimized_std_test_mae:.3}\")"
   ]
  },
  {
   "cell_type": "code",
   "execution_count": 15,
   "metadata": {},
   "outputs": [
    {
     "name": "stdout",
     "output_type": "stream",
     "text": [
      "Optimized average validation MSE: 1.4596156700295486e-16\t std: 2.8988483499310733e-17\n",
      "Optimized average validation RMSE: 1.2081455500185185e-08\t std: 1.2348682186605624e-09\n",
      "Optimized average validation MAE: 8.58451545869803e-09\t std: 7.302841013422801e-10\n",
      "Optimized average test MSE: 1.5545706381855433e-16\t std: 3.950644619044017e-17\n",
      "Optimized average test RMSE: 1.24682422104543e-08\t std: 1.5858458100248404e-09\n",
      "Optimized average test MAE: 8.865452681705497e-09\t std: 1.3088242695798334e-09\n"
     ]
    }
   ],
   "source": [
    "print(f\"Optimized average validation MSE: {optimized_val_mse}\\t std: {optimized_std_val_mse}\")\n",
    "print(f\"Optimized average validation RMSE: {np.sqrt(optimized_val_mse)}\\t std: {optimized_std_val_rmse}\")\n",
    "print(f\"Optimized average validation MAE: {optimized_val_mae}\\t std: {optimized_std_val_mae}\")\n",
    "print(f\"Optimized average test MSE: {optimized_mean_test_mse}\\t std: {optimized_std_test_mse}\")\n",
    "print(f\"Optimized average test RMSE: {np.sqrt(optimized_mean_test_mse)}\\t std: {optimized_std_test_rmse}\")\n",
    "print(f\"Optimized average test MAE: {optimized_mean_test_mae}\\t std: {optimized_std_test_mae}\")"
   ]
  },
  {
   "cell_type": "markdown",
   "metadata": {},
   "source": [
    "# Reducing Dataset Size"
   ]
  },
  {
   "cell_type": "code",
   "execution_count": 16,
   "metadata": {},
   "outputs": [],
   "source": [
    "def prep_data(X, y, total_size, test_size, random_state):\n",
    "    # Calculate the size of the reduced data set\n",
    "    total_frac = total_size/y.shape[0]\n",
    "    # Reducing the dataset size\n",
    "    X_train_all, X_test_all, y_train_all, y_test_all = \\\n",
    "    train_test_split(X, y, test_size=1-total_frac, random_state=random_state)\n",
    "    \n",
    "    # Splitting into train and test\n",
    "    X_train, X_test, y_train, y_test = \\\n",
    "    train_test_split(X_train_all, y_train_all, test_size=test_size, random_state=random_state)\n",
    "    \n",
    "    return(X_train, X_test, X_test_all, y_train, y_test, y_test_all)"
   ]
  },
  {
   "cell_type": "code",
   "execution_count": 17,
   "metadata": {},
   "outputs": [
    {
     "name": "stdout",
     "output_type": "stream",
     "text": [
      "[1000.   500.   250.   125.    62.5]\n"
     ]
    }
   ],
   "source": [
    "# Reduced data set sizes\n",
    "data_set_sizes = 2000*0.5 ** np.arange(1,6)\n",
    "print(data_set_sizes)\n",
    "# Lists to store data and results in\n",
    "trials_list = []\n",
    "best_params_list = []\n",
    "X_train_list = []\n",
    "X_test_list = []\n",
    "X_test_all_list = []\n",
    "y_train_list = []\n",
    "y_test_list = []\n",
    "y_test_all_list = []"
   ]
  },
  {
   "cell_type": "code",
   "execution_count": 26,
   "metadata": {},
   "outputs": [
    {
     "name": "stdout",
     "output_type": "stream",
     "text": [
      "Data set size: 1000.0\n",
      "100%|██████████| 200/200 [58:09<00:00, 17.45s/trial, best loss: 2.869615674510704e-16]\n",
      "Best parameter set: {'max_depth': 3, 'min_samples_split': 0, 'n_estimators': 6}\n",
      "n_estimators = 640\n",
      "max_depth = 10\n",
      "min_samples_split = 2\n",
      "Data set size: 500.0\n",
      "100%|██████████| 200/200 [28:07<00:00,  8.44s/trial, best loss: 7.454881293349471e-16]\n",
      "Best parameter set: {'max_depth': 3, 'min_samples_split': 0, 'n_estimators': 6}\n",
      "n_estimators = 640\n",
      "max_depth = 10\n",
      "min_samples_split = 2\n",
      "Data set size: 250.0\n",
      "100%|██████████| 200/200 [15:52<00:00,  4.76s/trial, best loss: 1.3885685086601772e-15]\n",
      "Best parameter set: {'max_depth': 3, 'min_samples_split': 0, 'n_estimators': 5}\n",
      "n_estimators = 320\n",
      "max_depth = 10\n",
      "min_samples_split = 2\n",
      "Data set size: 125.0\n",
      "100%|██████████| 200/200 [08:37<00:00,  2.59s/trial, best loss: 3.918851319588307e-15]\n",
      "Best parameter set: {'max_depth': 4, 'min_samples_split': 0, 'n_estimators': 2}\n",
      "n_estimators = 80\n",
      "max_depth = None\n",
      "min_samples_split = 2\n",
      "Data set size: 62.5\n",
      "100%|██████████| 200/200 [06:25<00:00,  1.93s/trial, best loss: 1.548192605219288e-14] \n",
      "Best parameter set: {'max_depth': 3, 'min_samples_split': 0, 'n_estimators': 4}\n",
      "n_estimators = 160\n",
      "max_depth = 10\n",
      "min_samples_split = 2\n"
     ]
    }
   ],
   "source": [
    "# Iterate through smaller data set sizes\n",
    "for data_set_size in data_set_sizes:\n",
    "    print(f\"Data set size: {data_set_size}\")\n",
    "    X_train_sub, X_test_sub, X_test_all, y_train_sub, y_test_sub, y_test_all = \\\n",
    "    prep_data(X_train, y_train, data_set_size, 0.2, 0)\n",
    "    # Add data sets to lists\n",
    "    X_train_list.append(X_train_sub)\n",
    "    X_test_list.append(X_test_sub)\n",
    "    X_test_all_list.append(X_test_all)\n",
    "    y_train_list.append(y_train_sub)\n",
    "    y_test_list.append(y_test_sub)\n",
    "    y_test_all_list.append(y_test_all)\n",
    "    def model_eval_data_set(args):\n",
    "\n",
    "        '''Take suggested arguments and perform model evaluation'''\n",
    "\n",
    "        random_forest_model = RandomForestRegressor(criterion=\"squared_error\", n_estimators=args['n_estimators'], \\\n",
    "                                      min_samples_split=args['min_samples_split'], max_depth=args['max_depth'])\n",
    "        tt_regressor = TransformedTargetRegressor(regressor=random_forest_model, transformer=StandardScaler())\n",
    "        pipeline = Pipeline([('x_scaler', StandardScaler()), ('regressor', tt_regressor)])\n",
    "\n",
    "        scores = cross_val_score(pipeline, X_train_sub, y=y_train_sub, scoring='neg_mean_squared_error')\n",
    "\n",
    "        cv_score = np.mean(scores)\n",
    "\n",
    "        # return the negative of the CV score to ensure we maximize the negative MSE by minimizing the loss\n",
    "        return -cv_score\n",
    "    # Hyperparameter optimize\n",
    "    trials = Trials()\n",
    "    best = fmin(model_eval_data_set, parameter_space, algo=tpe.suggest, max_evals=200, trials=trials)\n",
    "    trials_list.append(trials)\n",
    "    best_params_list.append(best)\n",
    "    print(\"Best parameter set: {}\".format(best))\n",
    "    print(f\"n_estimators = {n_estimators_list[best['n_estimators']]}\")\n",
    "    print(f\"max_depth = {max_depth_list[best['max_depth']]}\")\n",
    "    print(f\"min_samples_split = {min_samples_split_list[best['min_samples_split']]}\")"
   ]
  },
  {
   "cell_type": "code",
   "execution_count": 18,
   "metadata": {},
   "outputs": [
    {
     "name": "stdout",
     "output_type": "stream",
     "text": [
      "Data set size: 1000.0\n",
      "Data set size: 500.0\n",
      "Data set size: 250.0\n",
      "Data set size: 125.0\n",
      "Data set size: 62.5\n"
     ]
    }
   ],
   "source": [
    "# Iterate through smaller data set sizes\n",
    "for data_set_size in data_set_sizes:\n",
    "    print(f\"Data set size: {data_set_size}\")\n",
    "    X_train_sub, X_test_sub, X_test_all, y_train_sub, y_test_sub, y_test_all = \\\n",
    "    prep_data(X_train, y_train, data_set_size, 0.2, 0)\n",
    "    # Add data sets to lists\n",
    "    X_train_list.append(X_train_sub)\n",
    "    X_test_list.append(X_test_sub)\n",
    "    X_test_all_list.append(X_test_all)\n",
    "    y_train_list.append(y_train_sub)\n",
    "    y_test_list.append(y_test_sub)\n",
    "    y_test_all_list.append(y_test_all)"
   ]
  },
  {
   "cell_type": "code",
   "execution_count": 19,
   "metadata": {},
   "outputs": [
    {
     "data": {
      "text/plain": [
       "[{'max_depth': 3, 'min_samples_split': 0, 'n_estimators': 6},\n",
       " {'max_depth': 3, 'min_samples_split': 0, 'n_estimators': 6},\n",
       " {'max_depth': 3, 'min_samples_split': 0, 'n_estimators': 5},\n",
       " {'max_depth': 4, 'min_samples_split': 0, 'n_estimators': 2},\n",
       " {'max_depth': 3, 'min_samples_split': 0, 'n_estimators': 4}]"
      ]
     },
     "execution_count": 19,
     "metadata": {},
     "output_type": "execute_result"
    }
   ],
   "source": [
    "best_params_list = [{'max_depth': 3, 'min_samples_split': 0, 'n_estimators': 6},\n",
    " {'max_depth': 3, 'min_samples_split': 0, 'n_estimators': 6},\n",
    " {'max_depth': 3, 'min_samples_split': 0, 'n_estimators': 5},\n",
    " {'max_depth': 4, 'min_samples_split': 0, 'n_estimators': 2},\n",
    " {'max_depth': 3, 'min_samples_split': 0, 'n_estimators': 4}]\n",
    "best_params_list"
   ]
  },
  {
   "cell_type": "markdown",
   "metadata": {},
   "source": [
    "# Train Optimized Models (Reduced Dataset)"
   ]
  },
  {
   "cell_type": "code",
   "execution_count": 20,
   "metadata": {},
   "outputs": [],
   "source": [
    "mean_val_mse_list = []\n",
    "mean_val_mae_list = []\n",
    "std_val_mse_list = []\n",
    "std_val_rmse_list = []\n",
    "std_val_mae_list = []\n",
    "mean_test_mse_list = []\n",
    "mean_test_mae_list = []\n",
    "std_test_mse_list = []\n",
    "std_test_rmse_list = []\n",
    "std_test_mae_list = []\n",
    "for i in range(len(data_set_sizes)):\n",
    "    scores, mean_val_mse, mean_val_mae, std_val_mse, std_val_mae, test_mse_arr, test_mae_arr, mean_test_mse, \\\n",
    "    mean_test_mae, std_test_mse, std_test_mae = \\\n",
    "    optimized_model_eval(X_train_list[i], y_train_list[i], X_test_list[i], y_test_list[i], \\\n",
    "                         best_params_list[i], parameter_dict)\n",
    "    std_val_rmse = np.std(np.sqrt(-scores['test_neg_mean_squared_error']))\n",
    "    std_test_rmse = np.std(np.sqrt(test_mse_arr))\n",
    "    mean_val_mse_list.append(mean_val_mse)\n",
    "    mean_val_mae_list.append(mean_val_mae)\n",
    "    std_val_mse_list.append(std_val_mse)\n",
    "    std_val_rmse_list.append(std_val_rmse)\n",
    "    std_val_mae_list.append(std_val_mae)\n",
    "    mean_test_mse_list.append(mean_test_mse)\n",
    "    mean_test_mae_list.append(mean_test_mae)\n",
    "    std_test_mse_list.append(std_test_mse)\n",
    "    std_test_rmse_list.append(std_test_rmse)\n",
    "    std_test_mae_list.append(std_test_mae)"
   ]
  },
  {
   "cell_type": "code",
   "execution_count": 21,
   "metadata": {},
   "outputs": [
    {
     "name": "stdout",
     "output_type": "stream",
     "text": [
      "Mean validation MSE list\n",
      "[2.910916759285777e-16, 7.635729600737639e-16, 1.478055785997508e-15, 4.557151203743824e-15, 1.7282770351656234e-14]\n",
      "Std validation MSE list\n",
      "[3.843715755449106e-17, 2.023172113056557e-16, 2.2643703178979334e-16, 1.059130347346964e-15, 1.1008748912334034e-14]\n",
      "Mean validation MAE list\n",
      "[1.2546269368694326e-08, 1.851442455057419e-08, 2.7121872984378455e-08, 4.85740897003758e-08, 8.64288292675015e-08]\n",
      "Std validation MAE list\n",
      "[6.41342938939385e-10, 1.547709562885891e-09, 2.205148777738617e-09, 4.093518788020525e-09, 2.168749890333378e-08]\n"
     ]
    }
   ],
   "source": [
    "print(\"Mean validation MSE list\")\n",
    "print(mean_val_mse_list)\n",
    "print(\"Std validation MSE list\")\n",
    "print(std_val_mse_list)\n",
    "print(\"Mean validation MAE list\")\n",
    "print(mean_val_mae_list)\n",
    "print(\"Std validation MAE list\")\n",
    "print(std_val_mae_list)"
   ]
  },
  {
   "cell_type": "code",
   "execution_count": 22,
   "metadata": {},
   "outputs": [
    {
     "name": "stdout",
     "output_type": "stream",
     "text": [
      "Data set size: 1000.0\n",
      "Optimized average validation MSE: 2.91e-16\t std: 3.84e-17\n",
      "Optimized average validation RMSE: 1.71e-08\t std: 1.15e-09\n",
      "Optimized average validation MAE: 1.25e-08\t std: 6.41e-10\n",
      "Data set size: 500.0\n",
      "Optimized average validation MSE: 7.64e-16\t std: 2.02e-16\n",
      "Optimized average validation RMSE: 2.76e-08\t std: 3.77e-09\n",
      "Optimized average validation MAE: 1.85e-08\t std: 1.55e-09\n",
      "Data set size: 250.0\n",
      "Optimized average validation MSE: 1.48e-15\t std: 2.26e-16\n",
      "Optimized average validation RMSE: 3.84e-08\t std: 2.9e-09\n",
      "Optimized average validation MAE: 2.71e-08\t std: 2.21e-09\n",
      "Data set size: 125.0\n",
      "Optimized average validation MSE: 4.56e-15\t std: 1.06e-15\n",
      "Optimized average validation RMSE: 6.75e-08\t std: 8.11e-09\n",
      "Optimized average validation MAE: 4.86e-08\t std: 4.09e-09\n",
      "Data set size: 62.5\n",
      "Optimized average validation MSE: 1.73e-14\t std: 1.1e-14\n",
      "Optimized average validation RMSE: 1.31e-07\t std: 3.66e-08\n",
      "Optimized average validation MAE: 8.64e-08\t std: 2.17e-08\n"
     ]
    }
   ],
   "source": [
    "for i in range(len(data_set_sizes)):\n",
    "    print(f\"Data set size: {data_set_sizes[i]}\")\n",
    "    print(f\"Optimized average validation MSE: {mean_val_mse_list[i]:.3}\\t std: {std_val_mse_list[i]:.3}\")\n",
    "    print(f\"Optimized average validation RMSE: {np.sqrt(mean_val_mse_list[i]):.3}\\t std: {std_val_rmse_list[i]:.3}\")\n",
    "    print(f\"Optimized average validation MAE: {mean_val_mae_list[i]:.3}\\t std: {std_val_mae_list[i]:.3}\")"
   ]
  },
  {
   "cell_type": "code",
   "execution_count": 23,
   "metadata": {},
   "outputs": [
    {
     "name": "stdout",
     "output_type": "stream",
     "text": [
      "Mean test MSE list\n",
      "[2.380627916111446e-16, 6.012309029213753e-16, 1.489607767004693e-15, 5.00474492031907e-15, 1.480483889169053e-14]\n",
      "Std test MSE list\n",
      "[7.210169218720294e-17, 2.6719159799480035e-16, 3.6472706711714026e-16, 2.465797347714067e-15, 1.180058111368121e-14]\n",
      "Mean test MAE list\n",
      "[1.1484236747250333e-08, 1.7420384010455182e-08, 2.745746548423107e-08, 4.850759239876126e-08, 8.920542680259706e-08]\n",
      "Std test MAE list\n",
      "[1.6091441872973157e-09, 3.753650922606467e-09, 3.6744991842677666e-09, 1.7743812254087858e-08, 2.5622097694183616e-08]\n"
     ]
    }
   ],
   "source": [
    "print(\"Mean test MSE list\")\n",
    "print(mean_test_mse_list)\n",
    "print(\"Std test MSE list\")\n",
    "print(std_test_mse_list)\n",
    "print(\"Mean test MAE list\")\n",
    "print(mean_test_mae_list)\n",
    "print(\"Std test MAE list\")\n",
    "print(std_test_mae_list)"
   ]
  },
  {
   "cell_type": "code",
   "execution_count": 24,
   "metadata": {},
   "outputs": [
    {
     "name": "stdout",
     "output_type": "stream",
     "text": [
      "Data set size: 1000.0\n",
      "Optimized average test MSE: 2.38e-16\t std: 7.21e-17\n",
      "Optimized average test RMSE: 1.54e-08\t std: 2.36e-09\n",
      "Optimized average test MAE: 1.15e-08\t std: 1.61e-09\n",
      "Data set size: 500.0\n",
      "Optimized average test MSE: 6.01e-16\t std: 2.67e-16\n",
      "Optimized average test RMSE: 2.45e-08\t std: 5.44e-09\n",
      "Optimized average test MAE: 1.74e-08\t std: 3.75e-09\n",
      "Data set size: 250.0\n",
      "Optimized average test MSE: 1.49e-15\t std: 3.65e-16\n",
      "Optimized average test RMSE: 3.86e-08\t std: 4.62e-09\n",
      "Optimized average test MAE: 2.75e-08\t std: 3.67e-09\n",
      "Data set size: 125.0\n",
      "Optimized average test MSE: 5e-15\t std: 2.47e-15\n",
      "Optimized average test RMSE: 7.07e-08\t std: 1.77e-08\n",
      "Optimized average test MAE: 4.85e-08\t std: 1.77e-08\n",
      "Data set size: 62.5\n",
      "Optimized average test MSE: 1.48e-14\t std: 1.18e-14\n",
      "Optimized average test RMSE: 1.22e-07\t std: 4.05e-08\n",
      "Optimized average test MAE: 8.92e-08\t std: 2.56e-08\n"
     ]
    }
   ],
   "source": [
    "for i in range(len(data_set_sizes)):\n",
    "    print(f\"Data set size: {data_set_sizes[i]}\")\n",
    "    print(f\"Optimized average test MSE: {mean_test_mse_list[i]:.3}\\t std: {std_test_mse_list[i]:.3}\")\n",
    "    print(f\"Optimized average test RMSE: {np.sqrt(mean_test_mse_list[i]):.3}\\t std: {std_test_rmse_list[i]:.3}\")\n",
    "    print(f\"Optimized average test MAE: {mean_test_mae_list[i]:.3}\\t std: {std_test_mae_list[i]:.3}\")"
   ]
  },
  {
   "cell_type": "markdown",
   "metadata": {},
   "source": [
    "# Plots"
   ]
  },
  {
   "cell_type": "code",
   "execution_count": 25,
   "metadata": {},
   "outputs": [
    {
     "name": "stdout",
     "output_type": "stream",
     "text": [
      "Mean Validation MSE\n",
      "[1.4596156700295486e-16, 2.910916759285777e-16, 7.635729600737639e-16, 1.478055785997508e-15, 4.557151203743824e-15, 1.7282770351656234e-14]\n",
      "Std Validation MSE\n",
      "[2.8988483499310733e-17, 3.843715755449106e-17, 2.023172113056557e-16, 2.2643703178979334e-16, 1.059130347346964e-15, 1.1008748912334034e-14]\n",
      "Mean Validation RMSE\n",
      "[1.20814555e-08 1.70614090e-08 2.76328240e-08 3.84454911e-08\n",
      " 6.75066753e-08 1.31463951e-07]\n",
      "Std Validation RMSE\n",
      "[1.2348682186605624e-09, 1.1495349265007507e-09, 3.7714611221913575e-09, 2.895300223913355e-09, 8.112742303132838e-09, 3.6646011913719894e-08]\n",
      "Mean Validation MAE\n",
      "[8.58451545869803e-09, 1.2546269368694326e-08, 1.851442455057419e-08, 2.7121872984378455e-08, 4.85740897003758e-08, 8.64288292675015e-08]\n",
      "Std Validation MAE\n",
      "[7.302841013422801e-10, 6.41342938939385e-10, 1.547709562885891e-09, 2.205148777738617e-09, 4.093518788020525e-09, 2.168749890333378e-08]\n",
      "Mean Test MSE\n",
      "[1.5545706381855433e-16, 2.380627916111446e-16, 6.012309029213753e-16, 1.489607767004693e-15, 5.00474492031907e-15, 1.480483889169053e-14]\n",
      "Std Test MSE\n",
      "[3.950644619044017e-17, 7.210169218720294e-17, 2.6719159799480035e-16, 3.6472706711714026e-16, 2.465797347714067e-15, 1.180058111368121e-14]\n",
      "Mean Test RMSE\n",
      "[1.24682422e-08 1.54292836e-08 2.45200103e-08 3.85954371e-08\n",
      " 7.07442218e-08 1.21675137e-07]\n",
      "Std Test RMSE\n",
      "[1.5858458100248404e-09, 2.3564160783732045e-09, 5.4371943653567066e-09, 4.624637681289892e-09, 1.771430457092282e-08, 4.048969329123866e-08]\n",
      "Mean Test MAE\n",
      "[8.865452681705497e-09, 1.1484236747250333e-08, 1.7420384010455182e-08, 2.745746548423107e-08, 4.850759239876126e-08, 8.920542680259706e-08]\n",
      "Std Test MAE\n",
      "[1.3088242695798334e-09, 1.6091441872973157e-09, 3.753650922606467e-09, 3.6744991842677666e-09, 1.7743812254087858e-08, 2.5622097694183616e-08]\n"
     ]
    }
   ],
   "source": [
    "plt.rcParams.update({'font.size': 16})\n",
    "plot_data_set_sizes = 2000 * 0.5 ** np.arange(0,6)\n",
    "# mean_val_mse_list.insert(0, optimized_val_mse)\n",
    "# mean_val_mae_list.insert(0, optimized_val_mae)\n",
    "# mean_test_mse_list.insert(0, optimized_mean_test_mse)\n",
    "# mean_test_mae_list.insert(0, optimized_mean_test_mae)\n",
    "# std_val_mse_list.insert(0, optimized_std_val_mse)\n",
    "# std_val_rmse_list.insert(0, optimized_std_val_rmse)\n",
    "# std_val_mae_list.insert(0, optimized_std_val_mae)\n",
    "# std_test_mse_list.insert(0, optimized_std_test_mse)\n",
    "# std_test_rmse_list.insert(0, optimized_std_test_rmse)\n",
    "# std_test_mae_list.insert(0, optimized_std_test_mae)\n",
    "\n",
    "print(\"Mean Validation MSE\")\n",
    "print(mean_val_mse_list)\n",
    "print(\"Std Validation MSE\")\n",
    "print(std_val_mse_list)\n",
    "print(\"Mean Validation RMSE\")\n",
    "print(np.sqrt(mean_val_mse_list))\n",
    "print(\"Std Validation RMSE\")\n",
    "print(std_val_rmse_list)\n",
    "print(\"Mean Validation MAE\")\n",
    "print(mean_val_mae_list)\n",
    "print(\"Std Validation MAE\")\n",
    "print(std_val_mae_list)\n",
    "print(\"Mean Test MSE\")\n",
    "print(mean_test_mse_list)\n",
    "print(\"Std Test MSE\")\n",
    "print(std_test_mse_list)\n",
    "print(\"Mean Test RMSE\")\n",
    "print(np.sqrt(mean_test_mse_list))\n",
    "print(\"Std Test RMSE\")\n",
    "print(std_test_rmse_list)\n",
    "print(\"Mean Test MAE\")\n",
    "print(mean_test_mae_list)\n",
    "print(\"Std Test MAE\")\n",
    "print(std_test_mae_list)"
   ]
  },
  {
   "cell_type": "code",
   "execution_count": 26,
   "metadata": {},
   "outputs": [],
   "source": [
    "case = \"10-10-2 Case 1\"\n",
    "save_name = \"rf_10-10-2_asym\""
   ]
  },
  {
   "cell_type": "code",
   "execution_count": 27,
   "metadata": {},
   "outputs": [
    {
     "data": {
      "image/png": "[encoded data removed]",
      "text/plain": [
       "<Figure size 504x360 with 1 Axes>"
      ]
     },
     "metadata": {
      "needs_background": "light"
     },
     "output_type": "display_data"
    },
    {
     "data": {
      "image/png": "[encoded data removed]",
      "text/plain": [
       "<Figure size 504x360 with 1 Axes>"
      ]
     },
     "metadata": {
      "needs_background": "light"
     },
     "output_type": "display_data"
    },
    {
     "data": {
      "image/png": "[encoded data removed]",
      "text/plain": [
       "<Figure size 504x360 with 1 Axes>"
      ]
     },
     "metadata": {
      "needs_background": "light"
     },
     "output_type": "display_data"
    }
   ],
   "source": [
    "fig, ax = plt.subplots(1,1,figsize=(7,5))\n",
    "plt.errorbar(plot_data_set_sizes, mean_val_mse_list,yerr=std_val_mse_list)\n",
    "plt.xlabel(\"Data Set Size\")\n",
    "plt.ylabel(\"Mean Validation MSE\")\n",
    "plt.title(f\"Mean Validation MSE:\\n{case}\")\n",
    "plt.savefig(f\"{save_name}_val_mse_vs_data.png\")\n",
    "fig, ax = plt.subplots(1,1,figsize=(7,5))\n",
    "plt.errorbar(plot_data_set_sizes, np.sqrt(mean_val_mse_list),yerr=std_val_rmse_list)\n",
    "plt.xlabel(\"Data Set Size\")\n",
    "plt.ylabel(\"Mean Validation RMSE\")\n",
    "plt.title(f\"Mean Validation RMSE:\\n{case}\")\n",
    "plt.savefig(f\"{save_name}_val_rmse_vs_data.png\")\n",
    "fig, ax = plt.subplots(1,1,figsize=(7,5))\n",
    "plt.errorbar(plot_data_set_sizes, mean_val_mae_list,yerr=std_val_mae_list)\n",
    "plt.xlabel(\"Data Set Size\")\n",
    "plt.ylabel(\"Mean Validation MAE\")\n",
    "plt.title(f\"Mean Validation MAE:\\n{case}\")\n",
    "plt.savefig(f\"{save_name}_val_mae_vs_data.png\")"
   ]
  },
  {
   "cell_type": "code",
   "execution_count": 28,
   "metadata": {},
   "outputs": [
    {
     "data": {
      "image/png": "[encoded data removed]",
      "text/plain": [
       "<Figure size 504x360 with 1 Axes>"
      ]
     },
     "metadata": {
      "needs_background": "light"
     },
     "output_type": "display_data"
    },
    {
     "data": {
      "image/png": "[encoded data removed]",
      "text/plain": [
       "<Figure size 504x360 with 1 Axes>"
      ]
     },
     "metadata": {
      "needs_background": "light"
     },
     "output_type": "display_data"
    },
    {
     "data": {
      "image/png": "[encoded data removed]",
      "text/plain": [
       "<Figure size 504x360 with 1 Axes>"
      ]
     },
     "metadata": {
      "needs_background": "light"
     },
     "output_type": "display_data"
    }
   ],
   "source": [
    "fig, ax = plt.subplots(1,1,figsize=(7,5))\n",
    "plt.errorbar(plot_data_set_sizes, mean_test_mse_list,yerr=std_test_mse_list)\n",
    "plt.xlabel(\"Data Set Size\")\n",
    "plt.ylabel(\"Mean Test MSE\")\n",
    "plt.title(f\"Mean Test MSE:\\n{case}\")\n",
    "plt.savefig(f\"{save_name}_test_mse_vs_data.png\")\n",
    "fig, ax = plt.subplots(1,1,figsize=(7,5))\n",
    "plt.errorbar(plot_data_set_sizes, np.sqrt(mean_test_mse_list),yerr=std_test_rmse_list)\n",
    "plt.xlabel(\"Data Set Size\")\n",
    "plt.ylabel(\"Mean Test RMSE\")\n",
    "plt.title(f\"Mean Test RMSE:\\n{case}\")\n",
    "plt.savefig(f\"{save_name}_test_rmse_vs_data.png\")\n",
    "fig, ax = plt.subplots(1,1,figsize=(7,5))\n",
    "plt.errorbar(plot_data_set_sizes, mean_test_mae_list,yerr=std_test_mae_list)\n",
    "plt.xlabel(\"Data Set Size\")\n",
    "plt.ylabel(\"Mean Test MAE\")\n",
    "plt.title(f\"Mean Test MAE:\\n{case}\")\n",
    "plt.savefig(f\"{save_name}_test_mae_vs_data.png\")"
   ]
  },
  {
   "cell_type": "code",
   "execution_count": null,
   "metadata": {},
   "outputs": [],
   "source": []
  }
 ],
 "metadata": {
  "kernelspec": {
   "display_name": "Python 3.7",
   "language": "python",
   "name": "python3.7"
  },
  "language_info": {
   "codemirror_mode": {
    "name": "ipython",
    "version": 3
   },
   "file_extension": ".py",
   "mimetype": "text/x-python",
   "name": "python",
   "nbconvert_exporter": "python",
   "pygments_lexer": "ipython3",
   "version": "3.7.12"
  }
 },
 "nbformat": 4,
 "nbformat_minor": 4
}
