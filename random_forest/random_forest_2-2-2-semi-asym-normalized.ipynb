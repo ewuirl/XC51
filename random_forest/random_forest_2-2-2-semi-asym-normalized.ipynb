{
 "cells": [
  {
   "cell_type": "code",
   "execution_count": 1,
   "metadata": {},
   "outputs": [],
   "source": [
    "import sys\n",
    "sys.path.append('../../')\n",
    "from simCRN.multivariate_reg import read_eq_data_file\n",
    "import tensorflow as tf\n",
    "from tensorflow import keras\n",
    "from tensorflow.keras import layers\n",
    "import tensorflow_docs as tfdocs\n",
    "import tensorflow_docs.plots\n",
    "import tensorflow_docs.modeling\n",
    "import matplotlib.pyplot as plt\n",
    "import numpy as np\n",
    "import math\n",
    "from sklearn.ensemble import RandomForestRegressor\n",
    "from sklearn.model_selection import train_test_split\n",
    "from sklearn.pipeline import Pipeline\n",
    "from sklearn.preprocessing import StandardScaler\n",
    "from sklearn.compose import TransformedTargetRegressor\n",
    "from sklearn.metrics import mean_absolute_error as mae\n",
    "from sklearn.metrics import mean_squared_error as mse\n",
    "from sklearn.metrics import r2_score\n",
    "from hyperopt import hp\n",
    "from hyperopt import fmin, tpe, space_eval, Trials\n",
    "from sklearn.model_selection import cross_val_score"
   ]
  },
  {
   "cell_type": "markdown",
   "metadata": {},
   "source": [
    "# Baseline model: Random Forest"
   ]
  },
  {
   "cell_type": "code",
   "execution_count": 2,
   "metadata": {},
   "outputs": [
    {
     "data": {
      "text/plain": [
       "{'divide': 'warn', 'over': 'warn', 'under': 'ignore', 'invalid': 'warn'}"
      ]
     },
     "execution_count": 2,
     "metadata": {},
     "output_type": "execute_result"
    }
   ],
   "source": [
    "np.seterr(under='warn')"
   ]
  },
  {
   "cell_type": "markdown",
   "metadata": {},
   "source": [
    "Reading in the data"
   ]
  },
  {
   "cell_type": "code",
   "execution_count": 3,
   "metadata": {},
   "outputs": [],
   "source": [
    "Ci_all_array, Am_array, Cmin, Cmax, Ai = read_eq_data_file('../2-2-2-semi-asym-AB-AC.txt')"
   ]
  },
  {
   "cell_type": "code",
   "execution_count": 4,
   "metadata": {},
   "outputs": [
    {
     "name": "stdout",
     "output_type": "stream",
     "text": [
      "3e-06\n"
     ]
    }
   ],
   "source": [
    "print(Cmax)"
   ]
  },
  {
   "cell_type": "code",
   "execution_count": 17,
   "metadata": {},
   "outputs": [
    {
     "data": {
      "text/plain": [
       "(2000, 2)"
      ]
     },
     "execution_count": 17,
     "metadata": {},
     "output_type": "execute_result"
    }
   ],
   "source": [
    "Am_array.shape"
   ]
  },
  {
   "cell_type": "markdown",
   "metadata": {},
   "source": [
    "Prepare the data"
   ]
  },
  {
   "cell_type": "code",
   "execution_count": 6,
   "metadata": {},
   "outputs": [],
   "source": [
    "# Splitting into train and test\n",
    "X_train, X_test, y_train, y_test = train_test_split(Am_array, Ci_all_array, test_size=0.2, random_state=0)"
   ]
  },
  {
   "cell_type": "markdown",
   "metadata": {},
   "source": [
    "Random Forest Model"
   ]
  },
  {
   "cell_type": "code",
   "execution_count": 7,
   "metadata": {},
   "outputs": [],
   "source": [
    "random_forest_model = RandomForestRegressor(criterion=\"squared_error\", random_state=0)\n",
    "tt_regressor = TransformedTargetRegressor(regressor=random_forest_model, transformer=StandardScaler())\n",
    "pipeline = Pipeline([('x_scaler', StandardScaler()), ('regressor', tt_regressor)])\n",
    "\n",
    "pipeline.fit(X_train, y_train)\n",
    "y_hat_train = pipeline.predict(X_train)\n",
    "y_hat_test = pipeline.predict(X_test)"
   ]
  },
  {
   "cell_type": "code",
   "execution_count": 8,
   "metadata": {},
   "outputs": [
    {
     "name": "stdout",
     "output_type": "stream",
     "text": [
      "The MAE on the training data for C₁ is 9.57e-09\n",
      "The MAE on the training data for C₂ is 7.71e-09\n",
      "The MAE on the test data for C₁ is 2.24e-08\n",
      "The MAE on the test data for C₂ is 1.76e-08\n",
      "\n",
      "The average value of C₁ is 1.52e-06\n",
      "The average value of C₂ is 1.51e-06\n",
      "\n",
      "For the test data, MAE/mean for C₁ is 0.0148\n",
      "For the test data, MAE/mean for C₂ is 0.0116\n"
     ]
    }
   ],
   "source": [
    "train_mae = mae(y_train, y_hat_train, multioutput='raw_values')\n",
    "test_mae = mae(y_test, y_hat_test, multioutput='raw_values')\n",
    "\n",
    "print(f'The MAE on the training data for C₁ is {train_mae[0]:.3}') # 3 significant figures\n",
    "print(f'The MAE on the training data for C₂ is {train_mae[1]:.3}')\n",
    "print(f'The MAE on the test data for C₁ is {test_mae[0]:.3}')\n",
    "print(f'The MAE on the test data for C₂ is {test_mae[1]:.3}')\n",
    "\n",
    "print() # new line\n",
    "\n",
    "# Contextualizing with the mean of C₁ and C₂\n",
    "means = np.mean(Ci_all_array, axis=0)\n",
    "print(f'The average value of C₁ is {means[0]:.3}')\n",
    "print(f'The average value of C₂ is {means[1]:.3}')\n",
    "\n",
    "print() # new line\n",
    "\n",
    "print(f'For the test data, MAE/mean for C₁ is {test_mae[0]/means[0]:.3}')\n",
    "print(f'For the test data, MAE/mean for C₂ is {test_mae[1]/means[1]:.3}')"
   ]
  },
  {
   "cell_type": "code",
   "execution_count": 9,
   "metadata": {},
   "outputs": [
    {
     "name": "stdout",
     "output_type": "stream",
     "text": [
      "The RMSE on the training data for C₁ is 1.29e-08\n",
      "The RMSE on the training data for C₂ is 1.03e-08\n",
      "The RMSE on the test data for C₁ is 2.97e-08\n",
      "The RMSE on the test data for C₂ is 2.38e-08\n",
      "\n",
      "The average value of C₁ is 1.52e-06\n",
      "The average value of C₂ is 1.51e-06\n",
      "\n",
      "For the test data, RMSE/mean for C₁ is 0.0196\n",
      "For the test data, RMSE/mean for C₂ is 0.0157\n"
     ]
    }
   ],
   "source": [
    "train_mse = mse(y_train, y_hat_train, multioutput='raw_values')\n",
    "test_mse = mse(y_test, y_hat_test, multioutput='raw_values')\n",
    "train_rmse = np.sqrt(train_mse)\n",
    "test_rmse = np.sqrt(test_mse)\n",
    "\n",
    "print(f'The RMSE on the training data for C₁ is {train_rmse[0]:.3}') # 3 significant figures\n",
    "print(f'The RMSE on the training data for C₂ is {train_rmse[1]:.3}')\n",
    "print(f'The RMSE on the test data for C₁ is {test_rmse[0]:.3}')\n",
    "print(f'The RMSE on the test data for C₂ is {test_rmse[1]:.3}')\n",
    "\n",
    "print() # new line\n",
    "\n",
    "# Contextualizing with the mean of C₁ and C₂\n",
    "print(f'The average value of C₁ is {means[0]:.3}')\n",
    "print(f'The average value of C₂ is {means[1]:.3}')\n",
    "\n",
    "print() # new line\n",
    "\n",
    "print(f'For the test data, RMSE/mean for C₁ is {test_rmse[0]/means[0]:.3}')\n",
    "print(f'For the test data, RMSE/mean for C₂ is {test_rmse[1]/means[1]:.3}')"
   ]
  },
  {
   "cell_type": "code",
   "execution_count": 10,
   "metadata": {},
   "outputs": [
    {
     "name": "stdout",
     "output_type": "stream",
     "text": [
      "The R² on the training data for C₁ is 1.0\n",
      "The R² on the training data for C₂ is 1.0\n",
      "The R² on the test data for C₁ is 0.999\n",
      "The R² on the test data for C₂ is 0.999\n"
     ]
    }
   ],
   "source": [
    "train_r2 = r2_score(y_train, y_hat_train, multioutput='raw_values')\n",
    "test_r2 = r2_score(y_test, y_hat_test, multioutput='raw_values')\n",
    "\n",
    "print(f'The R² on the training data for C₁ is {train_r2[0]:.3}') # 3 significant figures\n",
    "print(f'The R² on the training data for C₂ is {train_r2[1]:.3}')\n",
    "print(f'The R² on the test data for C₁ is {test_r2[0]:.3}')\n",
    "print(f'The R² on the test data for C₂ is {test_r2[1]:.3}')"
   ]
  },
  {
   "cell_type": "markdown",
   "metadata": {},
   "source": [
    "# Hyperparameter optimization"
   ]
  },
  {
   "cell_type": "code",
   "execution_count": 11,
   "metadata": {},
   "outputs": [],
   "source": [
    "n_estimators_list = [20, 40, 80, 100, 160, 320, 640, 1280]\n",
    "min_samples_split_list = [2, 8, 10, 12, 24]\n",
    "max_depth_list = [2, 4, 8, 10, None]\n",
    "max_depth_list = [2, 4, 8, 10, None]\n",
    "parameter_space = {'n_estimators': hp.choice('n_estimators', n_estimators_list), \\\n",
    "                   'min_samples_split': hp.choice('min_samples_split', min_samples_split_list), \\\n",
    "                   'max_depth': hp.choice('max_depth', max_depth_list)}"
   ]
  },
  {
   "cell_type": "code",
   "execution_count": 12,
   "metadata": {},
   "outputs": [
    {
     "name": "stdout",
     "output_type": "stream",
     "text": [
      "Parameter Space Size: 200\n"
     ]
    }
   ],
   "source": [
    "print(f\"Parameter Space Size: {len(n_estimators_list)*len(min_samples_split_list)*len(max_depth_list)}\")"
   ]
  },
  {
   "cell_type": "code",
   "execution_count": 13,
   "metadata": {},
   "outputs": [],
   "source": [
    "from hyperopt import hp\n",
    "from hyperopt import fmin, tpe, space_eval, Trials\n",
    "from sklearn.model_selection import cross_val_score"
   ]
  },
  {
   "cell_type": "code",
   "execution_count": 14,
   "metadata": {},
   "outputs": [],
   "source": [
    "def model_eval(args):\n",
    "\n",
    "    '''Take suggested arguments and perform model evaluation'''\n",
    "    \n",
    "    random_forest_model = RandomForestRegressor(criterion=\"squared_error\", n_estimators=args['n_estimators'], \\\n",
    "                                  min_samples_split=args['min_samples_split'], max_depth=args['max_depth'])\n",
    "    tt_regressor = TransformedTargetRegressor(regressor=random_forest_model, transformer=StandardScaler())\n",
    "    pipeline = Pipeline([('x_scaler', StandardScaler()), ('regressor', tt_regressor)])\n",
    "    \n",
    "    scores = cross_val_score(pipeline, X_train, y=y_train, scoring='neg_mean_squared_error')\n",
    "    \n",
    "    cv_score = np.mean(scores)\n",
    "\n",
    "    # return the negative of the CV score to ensure we maximize the negative MSE by minimizing the loss\n",
    "    return -cv_score"
   ]
  },
  {
   "cell_type": "code",
   "execution_count": 15,
   "metadata": {},
   "outputs": [
    {
     "name": "stdout",
     "output_type": "stream",
     "text": [
      "Start trials\n",
      "100%|██████████| 200/200 [20:45<00:00,  6.23s/trial, best loss: 1.1143169371890015e-15]\n"
     ]
    }
   ],
   "source": [
    "print(\"Start trials\") \n",
    "\n",
    "trials = Trials()\n",
    "best = fmin(model_eval, parameter_space, algo=tpe.suggest, max_evals=200, trials=trials)"
   ]
  },
  {
   "cell_type": "code",
   "execution_count": 16,
   "metadata": {},
   "outputs": [
    {
     "name": "stdout",
     "output_type": "stream",
     "text": [
      "Best parameter set: {'max_depth': 4, 'min_samples_split': 0, 'n_estimators': 7}\n",
      "n_estimators = 1280\n",
      "max_depth = None\n",
      "min_samples_split = 2\n",
      "Best loss from CV: 1.11e-15\n",
      "Best RMSE loss from CV: 3.34e-08\n"
     ]
    }
   ],
   "source": [
    "print(\"Best parameter set: {}\".format(best))\n",
    "print(f\"n_estimators = {n_estimators_list[best['n_estimators']]}\")\n",
    "print(f\"max_depth = {max_depth_list[best['max_depth']]}\")\n",
    "print(f\"min_samples_split = {min_samples_split_list[best['min_samples_split']]}\")\n",
    "print(\"Best loss from CV: {:.3}\".format(trials.best_trial['result']['loss']))\n",
    "print(\"Best RMSE loss from CV: {:.3}\".format(np.sqrt(trials.best_trial['result']['loss'])))"
   ]
  },
  {
   "cell_type": "markdown",
   "metadata": {},
   "source": [
    "# Train Optimized Model"
   ]
  },
  {
   "cell_type": "code",
   "execution_count": 18,
   "metadata": {},
   "outputs": [],
   "source": [
    "from sklearn.model_selection import cross_validate"
   ]
  },
  {
   "cell_type": "code",
   "execution_count": 19,
   "metadata": {},
   "outputs": [],
   "source": [
    "parameter_dict = {'n_estimators': n_estimators_list, 'min_samples_split': min_samples_split_list, \\\n",
    "                  'max_depth': max_depth_list}"
   ]
  },
  {
   "cell_type": "code",
   "execution_count": 20,
   "metadata": {},
   "outputs": [],
   "source": [
    "def optimized_model_eval(X_train, y_train, X_test, y_test, parameters, parameter_dict):\n",
    "\n",
    "    '''Take suggested arguments and perform model evaluation'''\n",
    "\n",
    "    random_forest_model = RandomForestRegressor(criterion=\"squared_error\", \\\n",
    "                                                n_estimators=parameter_dict['n_estimators'][parameters['n_estimators']], \\\n",
    "                                                min_samples_split=parameter_dict['min_samples_split'][parameters['min_samples_split']], \\\n",
    "                                                max_depth=parameter_dict['max_depth'][parameters['max_depth']])\n",
    "    tt_regressor = TransformedTargetRegressor(regressor=random_forest_model, transformer=StandardScaler())\n",
    "    pipeline = Pipeline([('x_scaler', StandardScaler()), ('regressor', tt_regressor)])\n",
    "\n",
    "    # Train 5 models on random 80/20 test splits of the input data\n",
    "    scores = cross_validate(pipeline, X_train, y=y_train, scoring=['neg_mean_squared_error', 'neg_mean_absolute_error'], \\\n",
    "                             return_estimator=True)\n",
    "    \n",
    "    # Get average validation MSE\n",
    "    mean_val_mse = -np.mean(scores['test_neg_mean_squared_error'])\n",
    "    mean_val_mae = -np.mean(scores['test_neg_mean_absolute_error'])\n",
    "    \n",
    "    # Calculate test MSE\n",
    "    test_mse_arr = np.zeros((5,2))\n",
    "    test_mae_arr = np.zeros((5,2))\n",
    "    for i in range(5):\n",
    "        y_test_pred = scores['estimator'][i].predict(X_test)\n",
    "        test_mse_arr[i,:] = mse(y_test, y_test_pred, multioutput='raw_values')\n",
    "        test_mae_arr[i,:] = mae(y_test, y_test_pred, multioutput='raw_values')\n",
    "    mean_test_mse = np.mean(test_mse_arr)\n",
    "    mean_test_mae = np.mean(test_mae_arr)\n",
    "    \n",
    "\n",
    "    # return the negative of the CV score to ensure we maximize the negative MSE by minimizing the loss\n",
    "    return scores, mean_val_mse, mean_val_mae, test_mse_arr, test_mae_arr, mean_test_mse, mean_test_mae"
   ]
  },
  {
   "cell_type": "code",
   "execution_count": 21,
   "metadata": {},
   "outputs": [],
   "source": [
    "optimized_scores, optimized_val_mse, optimized_val_mae, optimized_test_mse_arr, optimized_test_mae_arr, \\\n",
    "optimized_mean_test_mse, optimized_mean_test_mae \\\n",
    "= optimized_model_eval(X_train, y_train, X_test, y_test, best, parameter_dict)"
   ]
  },
  {
   "cell_type": "code",
   "execution_count": 22,
   "metadata": {},
   "outputs": [
    {
     "name": "stdout",
     "output_type": "stream",
     "text": [
      "Optimized average validation MSE: 1.12e-15\n",
      "Optimized average validation RMSE: 3.35e-08\n",
      "Optimized average validation MAE: 2.43e-08\n"
     ]
    }
   ],
   "source": [
    "print(f\"Optimized average validation MSE: {optimized_val_mse:.3}\")\n",
    "print(f\"Optimized average validation RMSE: {np.sqrt(optimized_val_mse):.3}\")\n",
    "print(f\"Optimized average validation MAE: {optimized_val_mae:.3}\")"
   ]
  },
  {
   "cell_type": "code",
   "execution_count": 23,
   "metadata": {},
   "outputs": [
    {
     "name": "stdout",
     "output_type": "stream",
     "text": [
      "Optimized average test MSE: 9.03e-16\n",
      "Optimized average test RMSE: 3.01e-08\n",
      "Optimized average test MAE: 2.21e-08\n"
     ]
    }
   ],
   "source": [
    "print(f\"Optimized average test MSE: {optimized_mean_test_mse:.3}\")\n",
    "print(f\"Optimized average test RMSE: {np.sqrt(optimized_mean_test_mse):.3}\")\n",
    "print(f\"Optimized average test MAE: {optimized_mean_test_mae:.3}\")"
   ]
  },
  {
   "cell_type": "code",
   "execution_count": 36,
   "metadata": {},
   "outputs": [
    {
     "name": "stdout",
     "output_type": "stream",
     "text": [
      "Optimized average validation MSE: 1.1218708702689934e-15\n",
      "Optimized average validation RMSE: 3.3494340869301984e-08\n",
      "Optimized average validation MAE: 2.429163194417248e-08\n",
      "Optimized average test MSE: 9.03466405876304e-16\n",
      "Optimized average test RMSE: 3.005771790865541e-08\n",
      "Optimized average test MAE: 2.2069573823420764e-08\n"
     ]
    }
   ],
   "source": [
    "print(f\"Optimized average validation MSE: {optimized_val_mse}\")\n",
    "print(f\"Optimized average validation RMSE: {np.sqrt(optimized_val_mse)}\")\n",
    "print(f\"Optimized average validation MAE: {optimized_val_mae}\")\n",
    "print(f\"Optimized average test MSE: {optimized_mean_test_mse}\")\n",
    "print(f\"Optimized average test RMSE: {np.sqrt(optimized_mean_test_mse)}\")\n",
    "print(f\"Optimized average test MAE: {optimized_mean_test_mae}\")"
   ]
  },
  {
   "cell_type": "markdown",
   "metadata": {},
   "source": [
    "# Reducing Dataset Size"
   ]
  },
  {
   "cell_type": "code",
   "execution_count": 24,
   "metadata": {},
   "outputs": [],
   "source": [
    "def prep_data(X, y, total_size, test_size, random_state):\n",
    "    # Calculate the size of the reduced data set\n",
    "    total_frac = total_size/y.shape[0]\n",
    "    # Reducing the dataset size\n",
    "    X_train_all, X_test_all, y_train_all, y_test_all = \\\n",
    "    train_test_split(X, y, test_size=1-total_frac, random_state=random_state)\n",
    "    \n",
    "    # Splitting into train and test\n",
    "    X_train, X_test, y_train, y_test = \\\n",
    "    train_test_split(X_train_all, y_train_all, test_size=test_size, random_state=random_state)\n",
    "    \n",
    "    return(X_train, X_test, X_test_all, y_train, y_test, y_test_all)"
   ]
  },
  {
   "cell_type": "code",
   "execution_count": 26,
   "metadata": {},
   "outputs": [
    {
     "name": "stdout",
     "output_type": "stream",
     "text": [
      "[1000.   500.   250.   125.    62.5]\n"
     ]
    }
   ],
   "source": [
    "# Reduced data set sizes\n",
    "data_set_sizes = 2000*0.5 ** np.arange(1,6)\n",
    "print(data_set_sizes)\n",
    "# Lists to store data and results in\n",
    "trials_list = []\n",
    "best_params_list = []\n",
    "X_train_list = []\n",
    "X_test_list = []\n",
    "X_test_all_list = []\n",
    "y_train_list = []\n",
    "y_test_list = []\n",
    "y_test_all_list = []"
   ]
  },
  {
   "cell_type": "code",
   "execution_count": 27,
   "metadata": {},
   "outputs": [
    {
     "name": "stdout",
     "output_type": "stream",
     "text": [
      "Data set size: 1000.0\n",
      "100%|██████████| 200/200 [28:38<00:00,  8.59s/trial, best loss: 2.5327269467488713e-15]\n",
      "Best parameter set: {'max_depth': 3, 'min_samples_split': 0, 'n_estimators': 6}\n",
      "n_estimators = 640\n",
      "max_depth = 10\n",
      "min_samples_split = 2\n",
      "Data set size: 500.0\n",
      "100%|██████████| 200/200 [33:44<00:00, 10.12s/trial, best loss: 7.064623063990302e-15] \n",
      "Best parameter set: {'max_depth': 4, 'min_samples_split': 0, 'n_estimators': 4}\n",
      "n_estimators = 160\n",
      "max_depth = None\n",
      "min_samples_split = 2\n",
      "Data set size: 250.0\n",
      "100%|██████████| 200/200 [30:59<00:00,  9.30s/trial, best loss: 1.3186616123891325e-14]\n",
      "Best parameter set: {'max_depth': 2, 'min_samples_split': 0, 'n_estimators': 5}\n",
      "n_estimators = 320\n",
      "max_depth = 8\n",
      "min_samples_split = 2\n",
      "Data set size: 125.0\n",
      "100%|██████████| 200/200 [18:27<00:00,  5.54s/trial, best loss: 2.757243056848331e-14]\n",
      "Best parameter set: {'max_depth': 2, 'min_samples_split': 0, 'n_estimators': 3}\n",
      "n_estimators = 100\n",
      "max_depth = 8\n",
      "min_samples_split = 2\n",
      "Data set size: 62.5\n",
      "100%|██████████| 200/200 [16:07<00:00,  4.84s/trial, best loss: 6.656044628060839e-14]\n",
      "Best parameter set: {'max_depth': 4, 'min_samples_split': 0, 'n_estimators': 2}\n",
      "n_estimators = 80\n",
      "max_depth = None\n",
      "min_samples_split = 2\n"
     ]
    }
   ],
   "source": [
    "# Iterate through smaller data set sizes\n",
    "for data_set_size in data_set_sizes:\n",
    "    print(f\"Data set size: {data_set_size}\")\n",
    "    X_train_sub, X_test_sub, X_test_all, y_train_sub, y_test_sub, y_test_all = \\\n",
    "    prep_data(X_train, y_train, data_set_size, 0.2, 0)\n",
    "    # Add data sets to lists\n",
    "    X_train_list.append(X_train_sub)\n",
    "    X_test_list.append(X_test_sub)\n",
    "    X_test_all_list.append(X_test_all)\n",
    "    y_train_list.append(y_train_sub)\n",
    "    y_test_list.append(y_test_sub)\n",
    "    y_test_all_list.append(y_test_all)\n",
    "    def model_eval_data_set(args):\n",
    "\n",
    "        '''Take suggested arguments and perform model evaluation'''\n",
    "\n",
    "        random_forest_model = RandomForestRegressor(criterion=\"squared_error\", n_estimators=args['n_estimators'], \\\n",
    "                                      min_samples_split=args['min_samples_split'], max_depth=args['max_depth'])\n",
    "        tt_regressor = TransformedTargetRegressor(regressor=random_forest_model, transformer=StandardScaler())\n",
    "        pipeline = Pipeline([('x_scaler', StandardScaler()), ('regressor', tt_regressor)])\n",
    "\n",
    "        scores = cross_val_score(pipeline, X_train_sub, y=y_train_sub, scoring='neg_mean_squared_error')\n",
    "\n",
    "        cv_score = np.mean(scores)\n",
    "\n",
    "        # return the negative of the CV score to ensure we maximize the negative MSE by minimizing the loss\n",
    "        return -cv_score\n",
    "    # Hyperparameter optimize\n",
    "    trials = Trials()\n",
    "    best = fmin(model_eval_data_set, parameter_space, algo=tpe.suggest, max_evals=200, trials=trials)\n",
    "    trials_list.append(trials)\n",
    "    best_params_list.append(best)\n",
    "    print(\"Best parameter set: {}\".format(best))\n",
    "    print(f\"n_estimators = {n_estimators_list[best['n_estimators']]}\")\n",
    "    print(f\"max_depth = {max_depth_list[best['max_depth']]}\")\n",
    "    print(f\"min_samples_split = {min_samples_split_list[best['min_samples_split']]}\")"
   ]
  },
  {
   "cell_type": "code",
   "execution_count": 29,
   "metadata": {},
   "outputs": [
    {
     "data": {
      "text/plain": [
       "[{'max_depth': 4, 'min_samples_split': 0, 'n_estimators': 6},\n",
       " {'max_depth': 4, 'min_samples_split': 0, 'n_estimators': 2},\n",
       " {'max_depth': 3, 'min_samples_split': 0, 'n_estimators': 6},\n",
       " {'max_depth': 3, 'min_samples_split': 0, 'n_estimators': 6}]"
      ]
     },
     "execution_count": 29,
     "metadata": {},
     "output_type": "execute_result"
    }
   ],
   "source": [
    "best_params_list"
   ]
  },
  {
   "cell_type": "markdown",
   "metadata": {},
   "source": [
    "# Train Optimized Models (Reduced Dataset)"
   ]
  },
  {
   "cell_type": "code",
   "execution_count": 30,
   "metadata": {},
   "outputs": [],
   "source": [
    "mean_val_mse_list = []\n",
    "mean_val_mae_list = []\n",
    "mean_test_mse_list = []\n",
    "mean_test_mae_list = []\n",
    "for i in range(len(data_set_sizes)):\n",
    "    scores, mean_val_mse, mean_val_mae, test_mse_arr, test_mae_arr, mean_test_mse, mean_test_mae = \\\n",
    "    optimized_model_eval(X_train_list[i], y_train_list[i], X_test_list[i], y_test_list[i], \\\n",
    "                         best_params_list[i], parameter_dict)\n",
    "    mean_val_mse_list.append(mean_val_mse)\n",
    "    mean_val_mae_list.append(mean_val_mae)\n",
    "    mean_test_mse_list.append(mean_test_mse)\n",
    "    mean_test_mae_list.append(mean_test_mae)"
   ]
  },
  {
   "cell_type": "code",
   "execution_count": 31,
   "metadata": {},
   "outputs": [
    {
     "name": "stdout",
     "output_type": "stream",
     "text": [
      "Mean validation MSE list\n",
      "[2.582440541071068e-15, 7.498101858822518e-15, 1.347526385239536e-14, 3.164955184457525e-14, 7.055335005434816e-14]\n",
      "Mean validation MAE list\n",
      "[3.664310355502579e-08, 6.50502985565781e-08, 8.405593584625202e-08, 1.3967982581863886e-07, 2.1153224132539937e-07]\n"
     ]
    }
   ],
   "source": [
    "print(\"Mean validation MSE list\")\n",
    "print(mean_val_mse_list)\n",
    "print(\"Mean validation MAE list\")\n",
    "print(mean_val_mae_list)"
   ]
  },
  {
   "cell_type": "code",
   "execution_count": 32,
   "metadata": {},
   "outputs": [
    {
     "name": "stdout",
     "output_type": "stream",
     "text": [
      "Data set size: 1000.0\n",
      "Optimized average validation MSE: 2.58e-15\n",
      "Optimized average validation RMSE: 5.08e-08\n",
      "Optimized average validation MAE: 3.66e-08\n",
      "Data set size: 500.0\n",
      "Optimized average validation MSE: 7.5e-15\n",
      "Optimized average validation RMSE: 8.66e-08\n",
      "Optimized average validation MAE: 6.51e-08\n",
      "Data set size: 250.0\n",
      "Optimized average validation MSE: 1.35e-14\n",
      "Optimized average validation RMSE: 1.16e-07\n",
      "Optimized average validation MAE: 8.41e-08\n",
      "Data set size: 125.0\n",
      "Optimized average validation MSE: 3.16e-14\n",
      "Optimized average validation RMSE: 1.78e-07\n",
      "Optimized average validation MAE: 1.4e-07\n",
      "Data set size: 62.5\n",
      "Optimized average validation MSE: 7.06e-14\n",
      "Optimized average validation RMSE: 2.66e-07\n",
      "Optimized average validation MAE: 2.12e-07\n"
     ]
    }
   ],
   "source": [
    "for i in range(len(data_set_sizes)):\n",
    "    print(f\"Data set size: {data_set_sizes[i]}\")\n",
    "    print(f\"Optimized average validation MSE: {mean_val_mse_list[i]:.3}\")\n",
    "    print(f\"Optimized average validation RMSE: {np.sqrt(mean_val_mse_list[i]):.3}\")\n",
    "    print(f\"Optimized average validation MAE: {mean_val_mae_list[i]:.3}\")"
   ]
  },
  {
   "cell_type": "code",
   "execution_count": 33,
   "metadata": {},
   "outputs": [
    {
     "name": "stdout",
     "output_type": "stream",
     "text": [
      "Mean test MSE list\n",
      "[2.3821636768424653e-15, 7.297255209953888e-15, 1.1998412367696851e-14, 2.0515840781679628e-14, 5.711367448799895e-14]\n",
      "Mean test MAE list\n",
      "[3.705096080153772e-08, 6.480300671252935e-08, 8.283690763303886e-08, 1.0664964603415298e-07, 1.9494482088074564e-07]\n"
     ]
    }
   ],
   "source": [
    "print(\"Mean test MSE list\")\n",
    "print(mean_test_mse_list)\n",
    "print(\"Mean test MAE list\")\n",
    "print(mean_test_mae_list)"
   ]
  },
  {
   "cell_type": "code",
   "execution_count": 34,
   "metadata": {},
   "outputs": [
    {
     "name": "stdout",
     "output_type": "stream",
     "text": [
      "Data set size: 1000.0\n",
      "Optimized average test MSE: 2.38e-15\n",
      "Optimized average test RMSE: 4.88e-08\n",
      "Optimized average test MAE: 3.71e-08\n",
      "Data set size: 500.0\n",
      "Optimized average test MSE: 7.3e-15\n",
      "Optimized average test RMSE: 8.54e-08\n",
      "Optimized average test MAE: 6.48e-08\n",
      "Data set size: 250.0\n",
      "Optimized average test MSE: 1.2e-14\n",
      "Optimized average test RMSE: 1.1e-07\n",
      "Optimized average test MAE: 8.28e-08\n",
      "Data set size: 125.0\n",
      "Optimized average test MSE: 2.05e-14\n",
      "Optimized average test RMSE: 1.43e-07\n",
      "Optimized average test MAE: 1.07e-07\n",
      "Data set size: 62.5\n",
      "Optimized average test MSE: 5.71e-14\n",
      "Optimized average test RMSE: 2.39e-07\n",
      "Optimized average test MAE: 1.95e-07\n"
     ]
    }
   ],
   "source": [
    "for i in range(len(data_set_sizes)):\n",
    "    print(f\"Data set size: {data_set_sizes[i]}\")\n",
    "    print(f\"Optimized average test MSE: {mean_test_mse_list[i]:.3}\")\n",
    "    print(f\"Optimized average test RMSE: {np.sqrt(mean_test_mse_list[i]):.3}\")\n",
    "    print(f\"Optimized average test MAE: {mean_test_mae_list[i]:.3}\")"
   ]
  },
  {
   "cell_type": "markdown",
   "metadata": {},
   "source": [
    "# Plots"
   ]
  },
  {
   "cell_type": "code",
   "execution_count": 40,
   "metadata": {},
   "outputs": [
    {
     "name": "stdout",
     "output_type": "stream",
     "text": [
      "Validation MSE\n",
      "[1.1218708702689934e-15, 2.582440541071068e-15, 7.498101858822518e-15, 1.347526385239536e-14, 3.164955184457525e-14, 7.055335005434816e-14]\n",
      "Validation MAE\n",
      "[2.429163194417248e-08, 3.664310355502579e-08, 6.50502985565781e-08, 8.405593584625202e-08, 1.3967982581863886e-07, 2.1153224132539937e-07]\n",
      "Test MSE\n",
      "[9.03466405876304e-16, 2.3821636768424653e-15, 7.297255209953888e-15, 1.1998412367696851e-14, 2.0515840781679628e-14, 5.711367448799895e-14]\n",
      "Test MAE\n",
      "[2.2069573823420764e-08, 3.705096080153772e-08, 6.480300671252935e-08, 8.283690763303886e-08, 1.0664964603415298e-07, 1.9494482088074564e-07]\n"
     ]
    }
   ],
   "source": [
    "plt.rcParams.update({'font.size': 16})\n",
    "plot_data_set_sizes = 2000 * 0.5 ** np.arange(0,6)\n",
    "# mean_val_mse_list.insert(0, optimized_val_mse)\n",
    "# mean_val_mae_list.insert(0, optimized_val_mae)\n",
    "# mean_test_mse_list.insert(0, optimized_mean_test_mse)\n",
    "# mean_test_mae_list.insert(0, optimized_mean_test_mae)\n",
    "print(\"Validation MSE\")\n",
    "print(mean_val_mse_list)\n",
    "print(\"Validation MAE\")\n",
    "print(mean_val_mae_list)\n",
    "print(\"Test MSE\")\n",
    "print(mean_test_mse_list)\n",
    "print(\"Test MAE\")\n",
    "print(mean_test_mae_list)"
   ]
  },
  {
   "cell_type": "code",
   "execution_count": 38,
   "metadata": {},
   "outputs": [],
   "source": [
    "case = \"2-2-2 Case 2\"\n",
    "save_name = \"rf_2-2-2_semi-asym\""
   ]
  },
  {
   "cell_type": "code",
   "execution_count": 41,
   "metadata": {},
   "outputs": [
    {
     "data": {
      "image/png": "[encoded data removed]",
      "text/plain": [
       "<Figure size 504x360 with 1 Axes>"
      ]
     },
     "metadata": {
      "needs_background": "light"
     },
     "output_type": "display_data"
    },
    {
     "data": {
      "image/png": "[encoded data removed]",
      "text/plain": [
       "<Figure size 504x360 with 1 Axes>"
      ]
     },
     "metadata": {
      "needs_background": "light"
     },
     "output_type": "display_data"
    },
    {
     "data": {
      "image/png": "[encoded data removed]",
      "text/plain": [
       "<Figure size 504x360 with 1 Axes>"
      ]
     },
     "metadata": {
      "needs_background": "light"
     },
     "output_type": "display_data"
    }
   ],
   "source": [
    "fig, ax = plt.subplots(1,1,figsize=(7,5))\n",
    "plt.plot(plot_data_set_sizes, mean_val_mse_list)\n",
    "plt.xlabel(\"Data Set Size\")\n",
    "plt.ylabel(\"Mean Validation MSE\")\n",
    "plt.title(f\"Mean Validation MSE:\\n{case}\")\n",
    "plt.savefig(f\"{save_name}_val_mse_vs_data.png\")\n",
    "fig, ax = plt.subplots(1,1,figsize=(7,5))\n",
    "plt.plot(plot_data_set_sizes, np.sqrt(mean_val_mse_list))\n",
    "plt.xlabel(\"Data Set Size\")\n",
    "plt.ylabel(\"Mean Validation RMSE\")\n",
    "plt.title(f\"Mean Validation RMSE:\\n{case}\")\n",
    "plt.savefig(f\"{save_name}_val_rmse_vs_data.png\")\n",
    "fig, ax = plt.subplots(1,1,figsize=(7,5))\n",
    "plt.plot(plot_data_set_sizes, mean_val_mae_list)\n",
    "plt.xlabel(\"Data Set Size\")\n",
    "plt.ylabel(\"Mean Validation MAE\")\n",
    "plt.title(f\"Mean Validation MAE:\\n{case}\")\n",
    "plt.savefig(f\"{save_name}_val_mae_vs_data.png\")"
   ]
  },
  {
   "cell_type": "code",
   "execution_count": 42,
   "metadata": {},
   "outputs": [
    {
     "data": {
      "image/png": "[encoded data removed]",
      "text/plain": [
       "<Figure size 504x360 with 1 Axes>"
      ]
     },
     "metadata": {
      "needs_background": "light"
     },
     "output_type": "display_data"
    },
    {
     "data": {
      "image/png": "[encoded data removed]",
      "text/plain": [
       "<Figure size 504x360 with 1 Axes>"
      ]
     },
     "metadata": {
      "needs_background": "light"
     },
     "output_type": "display_data"
    },
    {
     "data": {
      "image/png": "[encoded data removed]",
      "text/plain": [
       "<Figure size 504x360 with 1 Axes>"
      ]
     },
     "metadata": {
      "needs_background": "light"
     },
     "output_type": "display_data"
    }
   ],
   "source": [
    "fig, ax = plt.subplots(1,1,figsize=(7,5))\n",
    "plt.plot(plot_data_set_sizes, mean_test_mse_list)\n",
    "plt.xlabel(\"Data Set Size\")\n",
    "plt.ylabel(\"Mean Test MSE\")\n",
    "plt.title(f\"Mean Test MSE:\\n{case}\")\n",
    "plt.savefig(f\"{save_name}_test_mse_vs_data.png\")\n",
    "fig, ax = plt.subplots(1,1,figsize=(7,5))\n",
    "plt.plot(plot_data_set_sizes, np.sqrt(mean_test_mse_list))\n",
    "plt.xlabel(\"Data Set Size\")\n",
    "plt.ylabel(\"Mean Test RMSE\")\n",
    "plt.title(f\"Mean Test RMSE:\\n{case}\")\n",
    "plt.savefig(f\"{save_name}_test_rmse_vs_data.png\")\n",
    "fig, ax = plt.subplots(1,1,figsize=(7,5))\n",
    "plt.plot(plot_data_set_sizes, mean_test_mae_list)\n",
    "plt.xlabel(\"Data Set Size\")\n",
    "plt.ylabel(\"Mean Test MAE\")\n",
    "plt.title(f\"Mean Test MAE:\\n{case}\")\n",
    "plt.savefig(f\"{save_name}_test_mae_vs_data.png\")"
   ]
  },
  {
   "cell_type": "code",
   "execution_count": null,
   "metadata": {},
   "outputs": [],
   "source": []
  }
 ],
 "metadata": {
  "kernelspec": {
   "display_name": "Python 3.7",
   "language": "python",
   "name": "python3.7"
  },
  "language_info": {
   "codemirror_mode": {
    "name": "ipython",
    "version": 3
   },
   "file_extension": ".py",
   "mimetype": "text/x-python",
   "name": "python",
   "nbconvert_exporter": "python",
   "pygments_lexer": "ipython3",
   "version": "3.7.12"
  }
 },
 "nbformat": 4,
 "nbformat_minor": 4
}
