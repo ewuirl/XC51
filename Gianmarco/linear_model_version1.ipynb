{
 "cells": [
  {
   "cell_type": "markdown",
   "metadata": {},
   "source": [
    "# Linear model"
   ]
  },
  {
   "cell_type": "markdown",
   "metadata": {},
   "source": [
    "### Serves as a baseline for more complicated models "
   ]
  },
  {
   "cell_type": "markdown",
   "metadata": {},
   "source": [
    "Importing required packages and functions"
   ]
  },
  {
   "cell_type": "code",
   "execution_count": 3,
   "metadata": {},
   "outputs": [],
   "source": [
    "import sys\n",
    "sys.path.append('../../')\n",
    "from simCRN.multivariate_reg import read_eq_data_file, convert_np2df, get_stats, Z_normalize_data, min_max_normalize, prep_data, plot_data, plot_predict, plot_true_and_pred, plot_error_hist, plot_true_v_error, plot_residuals, subset\n",
    "import tensorflow as tf\n",
    "from tensorflow import keras\n",
    "from tensorflow.keras import layers\n",
    "import tensorflow_docs as tfdocs\n",
    "import tensorflow_docs.plots\n",
    "import tensorflow_docs.modeling\n",
    "import matplotlib.pyplot as plt\n",
    "from tensorflow.keras.layers import LeakyReLU\n",
    "import numpy as np\n",
    "import math"
   ]
  },
  {
   "cell_type": "markdown",
   "metadata": {},
   "source": [
    "Reading in the data"
   ]
  },
  {
   "cell_type": "code",
   "execution_count": 5,
   "metadata": {},
   "outputs": [],
   "source": [
    "Ci_all_array, Am_array, Cmin, Cmax, Ai = read_eq_data_file('../4-4-2-asym-AB-AC.txt')"
   ]
  },
  {
   "cell_type": "code",
   "execution_count": 40,
   "metadata": {},
   "outputs": [
    {
     "data": {
      "text/plain": [
       "7.5510628071989e-07"
      ]
     },
     "execution_count": 40,
     "metadata": {},
     "output_type": "execute_result"
    }
   ],
   "source": [
    "np.mean(Ci_all_array)"
   ]
  },
  {
   "cell_type": "markdown",
   "metadata": {},
   "source": [
    "Preparing the data"
   ]
  },
  {
   "cell_type": "code",
   "execution_count": 6,
   "metadata": {},
   "outputs": [],
   "source": [
    "Am_df, Ci_df, train_Am_df, train_Ci_df, test_Am_df, test_Ci_df = prep_data(Am_array, Ci_all_array, 0.8)\n",
    "\n",
    "# Normalization\n",
    "train_Am_stats = get_stats(train_Am_df)\n",
    "normed_train_Am_df = Z_normalize_data(train_Am_df, train_Am_stats)\n",
    "normed_test_Am_df = Z_normalize_data(test_Am_df, train_Am_stats)\n",
    "train_Ci_stats = get_stats(train_Ci_df)\n",
    "normed_train_Ci_df = Z_normalize_data(train_Ci_df, train_Ci_stats)\n",
    "normed_test_Ci_df = Z_normalize_data(test_Ci_df, train_Ci_stats)"
   ]
  },
  {
   "cell_type": "code",
   "execution_count": 23,
   "metadata": {},
   "outputs": [],
   "source": [
    "# normed_train_Am_df"
   ]
  },
  {
   "cell_type": "code",
   "execution_count": 22,
   "metadata": {},
   "outputs": [],
   "source": [
    "# print(normed_train_Am_df.to_numpy())\n",
    "# print(normed_train_Am_df.to_numpy().shape) # n_samples x n_features "
   ]
  },
  {
   "cell_type": "markdown",
   "metadata": {},
   "source": [
    "Converting the pandas dataframes to numpy arrays"
   ]
  },
  {
   "cell_type": "code",
   "execution_count": 16,
   "metadata": {},
   "outputs": [],
   "source": [
    "normed_train_Am_df = normed_train_Am_df.to_numpy()\n",
    "normed_test_Am_df = normed_test_Am_df.to_numpy()\n",
    "normed_train_Ci_df = normed_train_Ci_df.to_numpy()\n",
    "normed_test_Ci_df = normed_test_Ci_df.to_numpy()"
   ]
  },
  {
   "cell_type": "markdown",
   "metadata": {},
   "source": [
    "Linear regression"
   ]
  },
  {
   "cell_type": "code",
   "execution_count": 17,
   "metadata": {},
   "outputs": [],
   "source": [
    "from sklearn.linear_model import Ridge"
   ]
  },
  {
   "cell_type": "code",
   "execution_count": 19,
   "metadata": {},
   "outputs": [],
   "source": [
    "clf = Ridge(alpha=1.0) # The linear regression model\n",
    "\n",
    "clf.fit(normed_train_Am_df, normed_train_Ci_df)\n",
    "\n",
    "y_train = normed_train_Ci_df\n",
    "y_hat_train = clf.predict(normed_train_Am_df)\n",
    "y_test = normed_test_Ci_df\n",
    "y_hat_test = clf.predict(normed_test_Am_df)"
   ]
  },
  {
   "cell_type": "markdown",
   "metadata": {},
   "source": [
    "Evaluating the performance of the linear model"
   ]
  },
  {
   "cell_type": "code",
   "execution_count": 27,
   "metadata": {},
   "outputs": [],
   "source": [
    "from sklearn.metrics import mean_squared_error as mse"
   ]
  },
  {
   "cell_type": "code",
   "execution_count": 41,
   "metadata": {},
   "outputs": [
    {
     "name": "stdout",
     "output_type": "stream",
     "text": [
      "The Z-space MSE on the training data is [0.04849745 0.00574416]\n",
      "The Z-space MSE on the test data is [0.04651901 0.00579448]\n"
     ]
    }
   ],
   "source": [
    "train_mse = mse(y_train, y_hat_train, multioutput='raw_values')\n",
    "test_mse = mse(y_test, y_hat_test, multioutput='raw_values')\n",
    "\n",
    "print(f'The Z-space MSE on the training data is {train_mse}')\n",
    "print(f'The Z-space MSE on the test data is {test_mse}')"
   ]
  }
 ],
 "metadata": {
  "kernelspec": {
   "display_name": "Python 3 (ipykernel)",
   "language": "python",
   "name": "python3"
  },
  "language_info": {
   "codemirror_mode": {
    "name": "ipython",
    "version": 3
   },
   "file_extension": ".py",
   "mimetype": "text/x-python",
   "name": "python",
   "nbconvert_exporter": "python",
   "pygments_lexer": "ipython3",
   "version": "3.10.4"
  }
 },
 "nbformat": 4,
 "nbformat_minor": 4
}
