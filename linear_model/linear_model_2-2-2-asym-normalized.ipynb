{
 "cells": [
  {
   "cell_type": "code",
   "execution_count": 1,
   "metadata": {},
   "outputs": [],
   "source": [
    "import sys\n",
    "sys.path.append('../../')\n",
    "from simCRN.multivariate_reg import read_eq_data_file\n",
    "import tensorflow as tf\n",
    "from tensorflow import keras\n",
    "from tensorflow.keras import layers\n",
    "import tensorflow_docs as tfdocs\n",
    "import tensorflow_docs.plots\n",
    "import tensorflow_docs.modeling\n",
    "import matplotlib.pyplot as plt\n",
    "import numpy as np\n",
    "import math\n",
    "from tensorflow.keras.layers import LeakyReLU\n",
    "from sklearn.model_selection import train_test_split\n",
    "from sklearn.pipeline import Pipeline\n",
    "from sklearn.preprocessing import StandardScaler\n",
    "from sklearn.compose import TransformedTargetRegressor\n",
    "from sklearn.metrics import mean_absolute_error as mae\n",
    "from sklearn.metrics import mean_squared_error as mse\n",
    "from sklearn.metrics import r2_score\n",
    "from hyperopt import hp\n",
    "from hyperopt import rand as hprand\n",
    "from hyperopt import fmin, tpe, space_eval, Trials\n",
    "from sklearn.model_selection import cross_val_score"
   ]
  },
  {
   "cell_type": "markdown",
   "metadata": {},
   "source": [
    "# Baseline model: Linear Model"
   ]
  },
  {
   "cell_type": "code",
   "execution_count": 3,
   "metadata": {},
   "outputs": [
    {
     "data": {
      "text/plain": [
       "{'divide': 'warn', 'over': 'warn', 'under': 'warn', 'invalid': 'warn'}"
      ]
     },
     "execution_count": 3,
     "metadata": {},
     "output_type": "execute_result"
    }
   ],
   "source": [
    "np.seterr(under='warn') # run twice"
   ]
  },
  {
   "cell_type": "markdown",
   "metadata": {},
   "source": [
    "Reading in the data"
   ]
  },
  {
   "cell_type": "code",
   "execution_count": 4,
   "metadata": {},
   "outputs": [],
   "source": [
    "Ci_all_array, Am_array, Cmin, Cmax, Ai = read_eq_data_file('../2-2-2-asym-AB-AC.txt')"
   ]
  },
  {
   "cell_type": "code",
   "execution_count": 6,
   "metadata": {},
   "outputs": [
    {
     "name": "stdout",
     "output_type": "stream",
     "text": [
      "1.5e-06\n"
     ]
    }
   ],
   "source": [
    "print(Cmax)"
   ]
  },
  {
   "cell_type": "code",
   "execution_count": 7,
   "metadata": {},
   "outputs": [
    {
     "data": {
      "text/plain": [
       "(1000, 2)"
      ]
     },
     "execution_count": 7,
     "metadata": {},
     "output_type": "execute_result"
    }
   ],
   "source": [
    "Am_array.shape"
   ]
  },
  {
   "cell_type": "markdown",
   "metadata": {},
   "source": [
    "Prepare the data"
   ]
  },
  {
   "cell_type": "code",
   "execution_count": 5,
   "metadata": {},
   "outputs": [],
   "source": [
    "# Splitting into train and test\n",
    "X_train, X_test, y_train, y_test = train_test_split(Am_array, Ci_all_array, test_size=0.2, random_state=0)"
   ]
  },
  {
   "cell_type": "markdown",
   "metadata": {},
   "source": [
    "Linear Model"
   ]
  },
  {
   "cell_type": "code",
   "execution_count": 6,
   "metadata": {},
   "outputs": [],
   "source": [
    "from sklearn.linear_model import Ridge\n",
    "from sklearn.linear_model import Lasso"
   ]
  },
  {
   "cell_type": "code",
   "execution_count": 91,
   "metadata": {},
   "outputs": [],
   "source": [
    "clf = Ridge(alpha=1.0) # The linear regression model\n",
    "tt_regressor = TransformedTargetRegressor(regressor=clf, transformer=StandardScaler())\n",
    "pipeline = Pipeline([('x_scaler', StandardScaler()), ('regressor', tt_regressor)])\n",
    "\n",
    "pipeline.fit(X_train, y_train)\n",
    "y_hat_train = pipeline.predict(X_train)\n",
    "y_hat_test = pipeline.predict(X_test)"
   ]
  },
  {
   "cell_type": "code",
   "execution_count": 92,
   "metadata": {},
   "outputs": [
    {
     "name": "stdout",
     "output_type": "stream",
     "text": [
      "The MAE on the training data for C₁ is 8.16e-08\n",
      "The MAE on the training data for C₂ is 8.65e-08\n",
      "The MAE on the test data for C₁ is 7.64e-08\n",
      "The MAE on the test data for C₂ is 8.76e-08\n",
      "\n",
      "The average value of C₁ is 7.35e-07\n",
      "The average value of C₂ is 7.57e-07\n",
      "\n",
      "For the test data, MAE/mean for C₁ is 0.104\n",
      "For the test data, MAE/mean for C₂ is 0.116\n"
     ]
    }
   ],
   "source": [
    "train_mae = mae(y_train, y_hat_train, multioutput='raw_values')\n",
    "test_mae = mae(y_test, y_hat_test, multioutput='raw_values')\n",
    "\n",
    "print(f'The MAE on the training data for C₁ is {train_mae[0]:.3}') # 3 significant figures\n",
    "print(f'The MAE on the training data for C₂ is {train_mae[1]:.3}')\n",
    "print(f'The MAE on the test data for C₁ is {test_mae[0]:.3}')\n",
    "print(f'The MAE on the test data for C₂ is {test_mae[1]:.3}')\n",
    "\n",
    "print() # new line\n",
    "\n",
    "# Contextualizing with the mean of C₁ and C₂\n",
    "means = np.mean(Ci_all_array, axis=0)\n",
    "print(f'The average value of C₁ is {means[0]:.3}')\n",
    "print(f'The average value of C₂ is {means[1]:.3}')\n",
    "\n",
    "print() # new line\n",
    "\n",
    "print(f'For the test data, MAE/mean for C₁ is {test_mae[0]/means[0]:.3}')\n",
    "print(f'For the test data, MAE/mean for C₂ is {test_mae[1]/means[1]:.3}')"
   ]
  },
  {
   "cell_type": "code",
   "execution_count": 93,
   "metadata": {},
   "outputs": [
    {
     "name": "stdout",
     "output_type": "stream",
     "text": [
      "The RMSE on the training data for C₁ is 1e-07\n",
      "The RMSE on the training data for C₂ is 1.08e-07\n",
      "The RMSE on the test data for C₁ is 9.04e-08\n",
      "The RMSE on the test data for C₂ is 1.11e-07\n",
      "\n",
      "The average value of C₁ is 7.35e-07\n",
      "The average value of C₂ is 7.57e-07\n",
      "\n",
      "For the test data, RMSE/mean for C₁ is 0.123\n",
      "For the test data, RMSE/mean for C₂ is 0.147\n"
     ]
    }
   ],
   "source": [
    "train_mse = mse(y_train, y_hat_train, multioutput='raw_values')\n",
    "test_mse = mse(y_test, y_hat_test, multioutput='raw_values')\n",
    "train_rmse = np.sqrt(train_mse)\n",
    "test_rmse = np.sqrt(test_mse)\n",
    "\n",
    "print(f'The RMSE on the training data for C₁ is {train_rmse[0]:.3}') # 3 significant figures\n",
    "print(f'The RMSE on the training data for C₂ is {train_rmse[1]:.3}')\n",
    "print(f'The RMSE on the test data for C₁ is {test_rmse[0]:.3}')\n",
    "print(f'The RMSE on the test data for C₂ is {test_rmse[1]:.3}')\n",
    "\n",
    "print() # new line\n",
    "\n",
    "# Contextualizing with the mean of C₁ and C₂\n",
    "print(f'The average value of C₁ is {means[0]:.3}')\n",
    "print(f'The average value of C₂ is {means[1]:.3}')\n",
    "\n",
    "print() # new line\n",
    "\n",
    "print(f'For the test data, RMSE/mean for C₁ is {test_rmse[0]/means[0]:.3}')\n",
    "print(f'For the test data, RMSE/mean for C₂ is {test_rmse[1]/means[1]:.3}')"
   ]
  },
  {
   "cell_type": "code",
   "execution_count": 94,
   "metadata": {},
   "outputs": [
    {
     "name": "stdout",
     "output_type": "stream",
     "text": [
      "The R² on the training data for C₁ is 0.946\n",
      "The R² on the training data for C₂ is 0.934\n",
      "The R² on the test data for C₁ is 0.953\n",
      "The R² on the test data for C₂ is 0.938\n"
     ]
    }
   ],
   "source": [
    "train_r2 = r2_score(y_train, y_hat_train, multioutput='raw_values')\n",
    "test_r2 = r2_score(y_test, y_hat_test, multioutput='raw_values')\n",
    "\n",
    "print(f'The R² on the training data for C₁ is {train_r2[0]:.3}') # 3 significant figures\n",
    "print(f'The R² on the training data for C₂ is {train_r2[1]:.3}')\n",
    "print(f'The R² on the test data for C₁ is {test_r2[0]:.3}')\n",
    "print(f'The R² on the test data for C₂ is {test_r2[1]:.3}')"
   ]
  },
  {
   "cell_type": "markdown",
   "metadata": {},
   "source": [
    "# Hyperparameter optimization"
   ]
  },
  {
   "cell_type": "code",
   "execution_count": 7,
   "metadata": {},
   "outputs": [],
   "source": [
    "reg_type_list = [\"Ridge\", \"Lasso\"]\n",
    "parameter_space =  {\"reg_type\": hp.choice(\"reg_type\", reg_type_list), # L2 vs L1 regularization type\n",
    "                    \"reg\": hp.uniform(\"reg\", 0, 10), # try values between zero (no regularization) and 10 (high regularization)\n",
    "                    }"
   ]
  },
  {
   "cell_type": "code",
   "execution_count": 103,
   "metadata": {},
   "outputs": [],
   "source": [
    "# Evaluation function \n",
    "# args should be a dict, with keys for reg_type and reg\n",
    "def model_eval(args):\n",
    "\n",
    "    '''Take suggested arguments and perform model evaluation'''\n",
    "    \n",
    "    if args[\"reg_type\"] == \"Ridge\":\n",
    "        model = Ridge(alpha=args[\"reg\"])\n",
    "    elif args[\"reg_type\"] == \"Lasso\":\n",
    "        model = Lasso(alpha=args[\"reg\"])\n",
    "    else:\n",
    "        raise Exception(\"Something has gone wrong!\")\n",
    "    tt_regressor = TransformedTargetRegressor(regressor=model, transformer=StandardScaler())\n",
    "    pipeline = Pipeline([('x_scaler', StandardScaler()), ('regressor', tt_regressor)])\n",
    "\n",
    "    scores = cross_val_score(pipeline, X_train, y=y_train, scoring='neg_mean_squared_error')\n",
    "\n",
    "    cv_score = np.mean(scores)\n",
    "\n",
    "    # return the negative of the CV score to ensure we maximize the negative MSE by minimizing the loss\n",
    "    return -cv_score"
   ]
  },
  {
   "cell_type": "code",
   "execution_count": 104,
   "metadata": {},
   "outputs": [
    {
     "name": "stdout",
     "output_type": "stream",
     "text": [
      "Start trials\n",
      "100%|██████████| 200/200 [00:03<00:00, 54.42trial/s, best loss: 1.1033451341226833e-14]\n"
     ]
    }
   ],
   "source": [
    "print(\"Start trials\") \n",
    "\n",
    "trials = Trials()\n",
    "# use random search instead of TPE because of numerical underflow with TPE\n",
    "best = fmin(model_eval, parameter_space, algo=hprand.suggest, max_evals=200, trials=trials) "
   ]
  },
  {
   "cell_type": "code",
   "execution_count": 105,
   "metadata": {},
   "outputs": [
    {
     "name": "stdout",
     "output_type": "stream",
     "text": [
      "Best parameter set: {'reg': 0.21701214268038171, 'reg_type': 0}\n",
      "model = Ridge\n",
      "regularization = 0.21701214268038171\n",
      "Best loss from CV: 1.1e-14\n",
      "Best RMSE loss from CV: 1.05e-07\n"
     ]
    }
   ],
   "source": [
    "print(\"Best parameter set: {}\".format(best))\n",
    "print(f\"model = {reg_type_list[best['reg_type']]}\")\n",
    "print(f\"regularization = {best['reg']}\")\n",
    "print(\"Best loss from CV: {:.3}\".format(trials.best_trial['result']['loss']))\n",
    "print(\"Best RMSE loss from CV: {:.3}\".format(np.sqrt(trials.best_trial['result']['loss'])))"
   ]
  },
  {
   "cell_type": "code",
   "execution_count": 8,
   "metadata": {},
   "outputs": [],
   "source": [
    "best = {'reg': 0.21701214268038171, 'reg_type': 0}"
   ]
  },
  {
   "cell_type": "markdown",
   "metadata": {},
   "source": [
    "# Train Optimized Model"
   ]
  },
  {
   "cell_type": "code",
   "execution_count": 9,
   "metadata": {},
   "outputs": [],
   "source": [
    "from sklearn.model_selection import cross_validate"
   ]
  },
  {
   "cell_type": "code",
   "execution_count": 10,
   "metadata": {},
   "outputs": [],
   "source": [
    "def optimized_model_eval(X_train, y_train, X_test, y_test, parameters, reg_type_list):\n",
    "\n",
    "    '''Take suggested arguments and perform model evaluation'''\n",
    "    regularization = parameters[\"reg\"]\n",
    "    if reg_type_list[parameters[\"reg_type\"]] == \"Ridge\":\n",
    "        model = Ridge(alpha=regularization)\n",
    "    elif reg_type_list[parameters[\"reg_type\"]] == \"Lasso\":\n",
    "        model = Lasso(alpha=regularization)\n",
    "    else:\n",
    "        raise Exception(\"Something has gone wrong!\")\n",
    "    \n",
    "    tt_regressor = TransformedTargetRegressor(regressor=model, transformer=StandardScaler())\n",
    "    pipeline = Pipeline([('x_scaler', StandardScaler()), ('regressor', tt_regressor)])\n",
    "\n",
    "    # Train 5 models on random 80/20 test splits of the input data\n",
    "    scores = cross_validate(pipeline, X_train, y=y_train, scoring=['neg_mean_squared_error', 'neg_mean_absolute_error'], \\\n",
    "                             return_estimator=True)\n",
    "    \n",
    "    # Get average validation MSE\n",
    "    mean_val_mse = -np.mean(scores['test_neg_mean_squared_error'])\n",
    "    mean_val_mae = -np.mean(scores['test_neg_mean_absolute_error'])\n",
    "    # Stdev\n",
    "    std_val_mse = np.std(-scores['test_neg_mean_squared_error'])\n",
    "    std_val_mae = np.std(-scores['test_neg_mean_absolute_error'])\n",
    "    \n",
    "    # Calculate test MSE\n",
    "    test_mse_arr = np.zeros((5,2))\n",
    "    test_mae_arr = np.zeros((5,2))\n",
    "    for i in range(5):\n",
    "        y_test_pred = scores['estimator'][i].predict(X_test)\n",
    "        test_mse_arr[i,:] = mse(y_test, y_test_pred, multioutput='raw_values')\n",
    "        test_mae_arr[i,:] = mae(y_test, y_test_pred, multioutput='raw_values')\n",
    "    # Average\n",
    "    mean_test_mse = np.mean(test_mse_arr)\n",
    "    mean_test_mae = np.mean(test_mae_arr)\n",
    "    # Stdev\n",
    "    std_test_mse = np.std(test_mse_arr)\n",
    "    std_test_mae = np.std(test_mae_arr)\n",
    "\n",
    "    # return the negative of the CV score to ensure we maximize the negative MSE by minimizing the loss\n",
    "    return (scores, mean_val_mse, mean_val_mae, std_val_mse, std_val_mae, test_mse_arr, test_mae_arr, \\\n",
    "            mean_test_mse, mean_test_mae, std_test_mse, std_test_mae)"
   ]
  },
  {
   "cell_type": "code",
   "execution_count": 12,
   "metadata": {},
   "outputs": [],
   "source": [
    "optimized_scores, optimized_val_mse, optimized_val_mae, optimized_std_val_mse, optimized_std_val_mae, \\\n",
    "optimized_test_mse_arr, optimized_test_mae_arr, optimized_mean_test_mse, optimized_mean_test_mae, \\\n",
    "optimized_std_test_mse, optimized_std_test_mae \\\n",
    "= optimized_model_eval(X_train, y_train, X_test, y_test, best, reg_type_list)\n",
    "\n",
    "optimized_std_val_rmse = np.std(np.sqrt(-optimized_scores['test_neg_mean_squared_error']))\n",
    "optimized_std_test_rmse = np.std(np.sqrt(optimized_test_mse_arr))"
   ]
  },
  {
   "cell_type": "code",
   "execution_count": 13,
   "metadata": {},
   "outputs": [
    {
     "name": "stdout",
     "output_type": "stream",
     "text": [
      "Optimized average validation MSE: 1.1e-14\t std: 9.34e-16\n",
      "Optimized average validation RMSE: 1.05e-07\t std: 4.44e-09\n",
      "Optimized average validation MAE: 8.48e-08\t std: 2.31e-09\n"
     ]
    }
   ],
   "source": [
    "print(f\"Optimized average validation MSE: {optimized_val_mse:.3}\\t std: {optimized_std_val_mse:.3}\")\n",
    "print(f\"Optimized average validation RMSE: {np.sqrt(optimized_val_mse):.3}\\t std: {optimized_std_val_rmse:.3}\")\n",
    "print(f\"Optimized average validation MAE: {optimized_val_mae:.3}\\t std: {optimized_std_val_mae:.3}\")"
   ]
  },
  {
   "cell_type": "code",
   "execution_count": 14,
   "metadata": {},
   "outputs": [
    {
     "name": "stdout",
     "output_type": "stream",
     "text": [
      "Optimized average test MSE: 1.03e-14\t std: 2.11e-15\n",
      "Optimized average test RMSE: 1.01e-07\t std: 1.04e-08\n",
      "Optimized average test MAE: 8.21e-08\t std: 5.64e-09\n"
     ]
    }
   ],
   "source": [
    "print(f\"Optimized average test MSE: {optimized_mean_test_mse:.3}\\t std: {optimized_std_test_mse:.3}\")\n",
    "print(f\"Optimized average test RMSE: {np.sqrt(optimized_mean_test_mse):.3}\\t std: {optimized_std_test_rmse:.3}\")\n",
    "print(f\"Optimized average test MAE: {optimized_mean_test_mae:.3}\\t std: {optimized_std_test_mae:.3}\")"
   ]
  },
  {
   "cell_type": "code",
   "execution_count": 15,
   "metadata": {},
   "outputs": [
    {
     "name": "stdout",
     "output_type": "stream",
     "text": [
      "Optimized average validation MSE: 1.1033451341226833e-14\t std: 9.339629118765328e-16\n",
      "Optimized average validation RMSE: 1.050402367725189e-07\t std: 4.444033981093617e-09\n",
      "Optimized average validation MAE: 8.476927001749677e-08\t std: 2.3137069683063955e-09\n",
      "Optimized average test MSE: 1.0294257896151414e-14\t std: 2.1070163327541232e-15\n",
      "Optimized average test RMSE: 1.014606223918985e-07\t std: 1.0437536348651418e-08\n",
      "Optimized average test MAE: 8.213621536765474e-08\t std: 5.636721128715945e-09\n"
     ]
    }
   ],
   "source": [
    "print(f\"Optimized average validation MSE: {optimized_val_mse}\\t std: {optimized_std_val_mse}\")\n",
    "print(f\"Optimized average validation RMSE: {np.sqrt(optimized_val_mse)}\\t std: {optimized_std_val_rmse}\")\n",
    "print(f\"Optimized average validation MAE: {optimized_val_mae}\\t std: {optimized_std_val_mae}\")\n",
    "print(f\"Optimized average test MSE: {optimized_mean_test_mse}\\t std: {optimized_std_test_mse}\")\n",
    "print(f\"Optimized average test RMSE: {np.sqrt(optimized_mean_test_mse)}\\t std: {optimized_std_test_rmse}\")\n",
    "print(f\"Optimized average test MAE: {optimized_mean_test_mae}\\t std: {optimized_std_test_mae}\")"
   ]
  },
  {
   "cell_type": "markdown",
   "metadata": {},
   "source": [
    "# Reducing Dataset Size"
   ]
  },
  {
   "cell_type": "code",
   "execution_count": 16,
   "metadata": {},
   "outputs": [],
   "source": [
    "def prep_data(X, y, total_size, test_size, random_state):\n",
    "    # Calculate the size of the reduced data set\n",
    "    total_frac = total_size/y.shape[0]\n",
    "    # Reducing the dataset size\n",
    "    X_train_all, X_test_all, y_train_all, y_test_all = \\\n",
    "    train_test_split(X, y, test_size=1-total_frac, random_state=random_state)\n",
    "    \n",
    "    # Splitting into train and test\n",
    "    X_train, X_test, y_train, y_test = \\\n",
    "    train_test_split(X_train_all, y_train_all, test_size=test_size, random_state=random_state)\n",
    "    \n",
    "    return(X_train, X_test, X_test_all, y_train, y_test, y_test_all)"
   ]
  },
  {
   "cell_type": "code",
   "execution_count": 17,
   "metadata": {},
   "outputs": [
    {
     "name": "stdout",
     "output_type": "stream",
     "text": [
      "[500.  250.  125.   62.5]\n"
     ]
    }
   ],
   "source": [
    "# Reduced data set sizes\n",
    "data_set_sizes = 1000 * 0.5 ** np.arange(1,5)\n",
    "print(data_set_sizes)\n",
    "# Lists to store data and results in\n",
    "trials_list = []\n",
    "best_params_list = []\n",
    "X_train_list = []\n",
    "X_test_list = []\n",
    "X_test_all_list = []\n",
    "y_train_list = []\n",
    "y_test_list = []\n",
    "y_test_all_list = []"
   ]
  },
  {
   "cell_type": "code",
   "execution_count": 121,
   "metadata": {},
   "outputs": [
    {
     "name": "stdout",
     "output_type": "stream",
     "text": [
      "Data set size: 500.0\n",
      "100%|██████████| 200/200 [00:03<00:00, 55.19trial/s, best loss: 1.1033426871334148e-14]\n",
      "Best parameter set: {'reg': 0.043655001900984036, 'reg_type': 0}\n",
      "model = Ridge\n",
      "regularization = 0.043655001900984036\n",
      "Data set size: 250.0\n",
      "100%|██████████| 200/200 [00:03<00:00, 54.90trial/s, best loss: 1.1033432487004022e-14]\n",
      "Best parameter set: {'reg': 0.10358328030661057, 'reg_type': 0}\n",
      "model = Ridge\n",
      "regularization = 0.10358328030661057\n",
      "Data set size: 125.0\n",
      "100%|██████████| 200/200 [00:03<00:00, 54.96trial/s, best loss: 1.103296758938035e-14]\n",
      "Best parameter set: {'reg': 0.009412697089160593, 'reg_type': 1}\n",
      "model = Lasso\n",
      "regularization = 0.009412697089160593\n",
      "Data set size: 62.5\n",
      "100%|██████████| 200/200 [00:03<00:00, 52.67trial/s, best loss: 1.1033437594515793e-14]\n",
      "Best parameter set: {'reg': 0.14151493095862056, 'reg_type': 0}\n",
      "model = Ridge\n",
      "regularization = 0.14151493095862056\n"
     ]
    }
   ],
   "source": [
    "# Iterate through smaller data set sizes\n",
    "for data_set_size in data_set_sizes:\n",
    "    print(f\"Data set size: {data_set_size}\")\n",
    "    X_train_sub, X_test_sub, X_test_all, y_train_sub, y_test_sub, y_test_all = \\\n",
    "    prep_data(X_train, y_train, data_set_size, 0.2, 0)\n",
    "    # Add data sets to lists\n",
    "    X_train_list.append(X_train_sub)\n",
    "    X_test_list.append(X_test_sub)\n",
    "    X_test_all_list.append(X_test_all)\n",
    "    y_train_list.append(y_train_sub)\n",
    "    y_test_list.append(y_test_sub)\n",
    "    y_test_all_list.append(y_test_all)\n",
    "    def model_eval_data_set(args):\n",
    "\n",
    "        '''Take suggested arguments and perform model evaluation'''\n",
    "\n",
    "        if args[\"reg_type\"] == \"Ridge\":\n",
    "            model = Ridge(alpha=args[\"reg\"])\n",
    "        elif args[\"reg_type\"] == \"Lasso\":\n",
    "            model = Lasso(alpha=args[\"reg\"])\n",
    "        else:\n",
    "            raise Exception(\"Something has gone wrong!\")\n",
    "        tt_regressor = TransformedTargetRegressor(regressor=model, transformer=StandardScaler())\n",
    "        pipeline = Pipeline([('x_scaler', StandardScaler()), ('regressor', tt_regressor)])\n",
    "\n",
    "        scores = cross_val_score(pipeline, X_train, y=y_train, scoring='neg_mean_squared_error')\n",
    "\n",
    "        cv_score = np.mean(scores)\n",
    "\n",
    "        # return the negative of the CV score to ensure we maximize the negative MSE by minimizing the loss\n",
    "        return -cv_score\n",
    "    # Hyperparameter optimize\n",
    "    trials = Trials()\n",
    "    best = fmin(model_eval_data_set, parameter_space, algo=hprand.suggest, max_evals=200, trials=trials)\n",
    "    trials_list.append(trials)\n",
    "    best_params_list.append(best)\n",
    "    print(\"Best parameter set: {}\".format(best))\n",
    "    print(f\"model = {reg_type_list[best['reg_type']]}\")\n",
    "    print(f\"regularization = {best['reg']}\")"
   ]
  },
  {
   "cell_type": "code",
   "execution_count": 18,
   "metadata": {},
   "outputs": [
    {
     "name": "stdout",
     "output_type": "stream",
     "text": [
      "Data set size: 500.0\n",
      "Data set size: 250.0\n",
      "Data set size: 125.0\n",
      "Data set size: 62.5\n"
     ]
    }
   ],
   "source": [
    "# Iterate through smaller data set sizes\n",
    "for data_set_size in data_set_sizes:\n",
    "    print(f\"Data set size: {data_set_size}\")\n",
    "    X_train_sub, X_test_sub, X_test_all, y_train_sub, y_test_sub, y_test_all = \\\n",
    "    prep_data(X_train, y_train, data_set_size, 0.2, 0)\n",
    "    # Add data sets to lists\n",
    "    X_train_list.append(X_train_sub)\n",
    "    X_test_list.append(X_test_sub)\n",
    "    X_test_all_list.append(X_test_all)\n",
    "    y_train_list.append(y_train_sub)\n",
    "    y_test_list.append(y_test_sub)\n",
    "    y_test_all_list.append(y_test_all)"
   ]
  },
  {
   "cell_type": "code",
   "execution_count": 19,
   "metadata": {},
   "outputs": [
    {
     "data": {
      "text/plain": [
       "[{'reg': 0.043655001900984036, 'reg_type': 0},\n",
       " {'reg': 0.10358328030661057, 'reg_type': 0},\n",
       " {'reg': 0.009412697089160593, 'reg_type': 1},\n",
       " {'reg': 0.14151493095862056, 'reg_type': 0}]"
      ]
     },
     "execution_count": 19,
     "metadata": {},
     "output_type": "execute_result"
    }
   ],
   "source": [
    "best_params_list = [{'reg': 0.043655001900984036, 'reg_type': 0},\n",
    "                    {'reg': 0.10358328030661057, 'reg_type': 0},\n",
    "                    {'reg': 0.009412697089160593, 'reg_type': 1},\n",
    "                    {'reg': 0.14151493095862056, 'reg_type': 0}]\n",
    "best_params_list"
   ]
  },
  {
   "cell_type": "markdown",
   "metadata": {},
   "source": [
    "# Train Optimized Models (Reduced Dataset)"
   ]
  },
  {
   "cell_type": "code",
   "execution_count": 20,
   "metadata": {},
   "outputs": [],
   "source": [
    "mean_val_mse_list = []\n",
    "mean_val_mae_list = []\n",
    "std_val_mse_list = []\n",
    "std_val_rmse_list = []\n",
    "std_val_mae_list = []\n",
    "mean_test_mse_list = []\n",
    "mean_test_mae_list = []\n",
    "std_test_mse_list = []\n",
    "std_test_rmse_list = []\n",
    "std_test_mae_list = []\n",
    "for i in range(len(data_set_sizes)):\n",
    "    scores, mean_val_mse, mean_val_mae, std_val_mse, std_val_mae, test_mse_arr, test_mae_arr, mean_test_mse, \\\n",
    "    mean_test_mae, std_test_mse, std_test_mae = \\\n",
    "    optimized_model_eval(X_train_list[i], y_train_list[i], X_test_list[i], y_test_list[i], \\\n",
    "                         best_params_list[i], reg_type_list)\n",
    "    std_val_rmse = np.std(np.sqrt(-scores['test_neg_mean_squared_error']))\n",
    "    std_test_rmse = np.std(np.sqrt(test_mse_arr))\n",
    "    mean_val_mse_list.append(mean_val_mse)\n",
    "    mean_val_mae_list.append(mean_val_mae)\n",
    "    std_val_mse_list.append(std_val_mse)\n",
    "    std_val_rmse_list.append(std_val_rmse)\n",
    "    std_val_mae_list.append(std_val_mae)\n",
    "    mean_test_mse_list.append(mean_test_mse)\n",
    "    mean_test_mae_list.append(mean_test_mae)\n",
    "    std_test_mse_list.append(std_test_mse)\n",
    "    std_test_rmse_list.append(std_test_rmse)\n",
    "    std_test_mae_list.append(std_test_mae)"
   ]
  },
  {
   "cell_type": "code",
   "execution_count": 21,
   "metadata": {},
   "outputs": [
    {
     "name": "stdout",
     "output_type": "stream",
     "text": [
      "Mean validation MSE list\n",
      "[1.0825667665573943e-14, 9.038901062456411e-15, 1.0664049225684466e-14, 8.935420435438092e-15]\n",
      "Std validation MSE list\n",
      "[6.332098706994491e-16, 2.002122079414764e-15, 2.4709701012248012e-15, 5.035916944841201e-15]\n",
      "Mean validation MAE list\n",
      "[8.32741822859363e-08, 7.509331563643028e-08, 8.002196913290838e-08, 6.920846010745297e-08]\n",
      "Std validation MAE list\n",
      "[3.3789781767393152e-09, 6.013637066287488e-09, 7.869799169894126e-09, 1.6129757230535278e-08]\n"
     ]
    }
   ],
   "source": [
    "print(\"Mean validation MSE list\")\n",
    "print(mean_val_mse_list)\n",
    "print(\"Std validation MSE list\")\n",
    "print(std_val_mse_list)\n",
    "print(\"Mean validation MAE list\")\n",
    "print(mean_val_mae_list)\n",
    "print(\"Std validation MAE list\")\n",
    "print(std_val_mae_list)"
   ]
  },
  {
   "cell_type": "code",
   "execution_count": 22,
   "metadata": {},
   "outputs": [
    {
     "name": "stdout",
     "output_type": "stream",
     "text": [
      "Data set size: 500.0\n",
      "Optimized average validation MSE: 1.08e-14\t std: 6.33e-16\n",
      "Optimized average validation RMSE: 1.04e-07\t std: 3e-09\n",
      "Optimized average validation MAE: 8.33e-08\t std: 3.38e-09\n",
      "Data set size: 250.0\n",
      "Optimized average validation MSE: 9.04e-15\t std: 2e-15\n",
      "Optimized average validation RMSE: 9.51e-08\t std: 9.98e-09\n",
      "Optimized average validation MAE: 7.51e-08\t std: 6.01e-09\n",
      "Data set size: 125.0\n",
      "Optimized average validation MSE: 1.07e-14\t std: 2.47e-15\n",
      "Optimized average validation RMSE: 1.03e-07\t std: 1.24e-08\n",
      "Optimized average validation MAE: 8e-08\t std: 7.87e-09\n",
      "Data set size: 62.5\n",
      "Optimized average validation MSE: 8.94e-15\t std: 5.04e-15\n",
      "Optimized average validation RMSE: 9.45e-08\t std: 2.32e-08\n",
      "Optimized average validation MAE: 6.92e-08\t std: 1.61e-08\n"
     ]
    }
   ],
   "source": [
    "for i in range(len(data_set_sizes)):\n",
    "    print(f\"Data set size: {data_set_sizes[i]}\")\n",
    "    print(f\"Optimized average validation MSE: {mean_val_mse_list[i]:.3}\\t std: {std_val_mse_list[i]:.3}\")\n",
    "    print(f\"Optimized average validation RMSE: {np.sqrt(mean_val_mse_list[i]):.3}\\t std: {std_val_rmse_list[i]:.3}\")\n",
    "    print(f\"Optimized average validation MAE: {mean_val_mae_list[i]:.3}\\t std: {std_val_mae_list[i]:.3}\")"
   ]
  },
  {
   "cell_type": "code",
   "execution_count": 24,
   "metadata": {},
   "outputs": [
    {
     "name": "stdout",
     "output_type": "stream",
     "text": [
      "Mean test MSE list\n",
      "[1.0102535828044288e-14, 1.4079912289131906e-14, 8.328548020035933e-15, 1.0052987817173887e-14]\n",
      "Std test MSE list\n",
      "[7.163038243911507e-16, 2.9776153189135785e-15, 1.5956767597833712e-15, 3.2484384232626284e-15]\n",
      "Mean test MAE list\n",
      "[8.096272678989943e-08, 8.810025170522505e-08, 7.463692968557702e-08, 7.315183457009429e-08]\n",
      "Std test MAE list\n",
      "[1.6550111248369507e-09, 6.454589380167687e-09, 2.1791815525614984e-09, 4.269813705556364e-09]\n"
     ]
    }
   ],
   "source": [
    "print(\"Mean test MSE list\")\n",
    "print(mean_test_mse_list)\n",
    "print(\"Std test MSE list\")\n",
    "print(std_test_mse_list)\n",
    "print(\"Mean test MAE list\")\n",
    "print(mean_test_mae_list)\n",
    "print(\"Std test MAE list\")\n",
    "print(std_test_mae_list)"
   ]
  },
  {
   "cell_type": "code",
   "execution_count": 25,
   "metadata": {},
   "outputs": [
    {
     "name": "stdout",
     "output_type": "stream",
     "text": [
      "Data set size: 500.0\n",
      "Optimized average test MSE: 1.01e-14\t std: 7.16e-16\n",
      "Optimized average test RMSE: 1.01e-07\t std: 3.57e-09\n",
      "Optimized average test MAE: 8.1e-08\t std: 1.66e-09\n",
      "Data set size: 250.0\n",
      "Optimized average test MSE: 1.41e-14\t std: 2.98e-15\n",
      "Optimized average test RMSE: 1.19e-07\t std: 1.25e-08\n",
      "Optimized average test MAE: 8.81e-08\t std: 6.45e-09\n",
      "Data set size: 125.0\n",
      "Optimized average test MSE: 8.33e-15\t std: 1.6e-15\n",
      "Optimized average test RMSE: 9.13e-08\t std: 8.79e-09\n",
      "Optimized average test MAE: 7.46e-08\t std: 2.18e-09\n",
      "Data set size: 62.5\n",
      "Optimized average test MSE: 1.01e-14\t std: 3.25e-15\n",
      "Optimized average test RMSE: 1e-07\t std: 1.64e-08\n",
      "Optimized average test MAE: 7.32e-08\t std: 4.27e-09\n"
     ]
    }
   ],
   "source": [
    "for i in range(len(data_set_sizes)):\n",
    "    print(f\"Data set size: {data_set_sizes[i]}\")\n",
    "    print(f\"Optimized average test MSE: {mean_test_mse_list[i]:.3}\\t std: {std_test_mse_list[i]:.3}\")\n",
    "    print(f\"Optimized average test RMSE: {np.sqrt(mean_test_mse_list[i]):.3}\\t std: {std_test_rmse_list[i]:.3}\")\n",
    "    print(f\"Optimized average test MAE: {mean_test_mae_list[i]:.3}\\t std: {std_test_mae_list[i]:.3}\")"
   ]
  },
  {
   "cell_type": "markdown",
   "metadata": {},
   "source": [
    "# Plots "
   ]
  },
  {
   "cell_type": "code",
   "execution_count": 26,
   "metadata": {},
   "outputs": [
    {
     "name": "stdout",
     "output_type": "stream",
     "text": [
      "Mean Validation MSE\n",
      "[1.1033451341226833e-14, 1.0825667665573943e-14, 9.038901062456411e-15, 1.0664049225684466e-14, 8.935420435438092e-15]\n",
      "Std Validation MSE\n",
      "[9.339629118765328e-16, 6.332098706994491e-16, 2.002122079414764e-15, 2.4709701012248012e-15, 5.035916944841201e-15]\n",
      "Mean Validation RMSE\n",
      "[1.05040237e-07 1.04046469e-07 9.50731353e-08 1.03266883e-07\n",
      " 9.45273528e-08]\n",
      "Std Validation RMSE\n",
      "[4.444033981093617e-09, 2.9951750022623084e-09, 9.979666863051874e-09, 1.2380381541302805e-08, 2.3236975059456148e-08]\n",
      "Mean Validation MAE\n",
      "[8.476927001749677e-08, 8.32741822859363e-08, 7.509331563643028e-08, 8.002196913290838e-08, 6.920846010745297e-08]\n",
      "Std Validation MAE\n",
      "[2.3137069683063955e-09, 3.3789781767393152e-09, 6.013637066287488e-09, 7.869799169894126e-09, 1.6129757230535278e-08]\n",
      "Mean Test MSE\n",
      "[1.0294257896151414e-14, 1.0102535828044288e-14, 1.4079912289131906e-14, 8.328548020035933e-15, 1.0052987817173887e-14]\n",
      "Std Test MSE\n",
      "[2.1070163327541232e-15, 7.163038243911507e-16, 2.9776153189135785e-15, 1.5956767597833712e-15, 3.2484384232626284e-15]\n",
      "Mean Test RMSE\n",
      "[1.01460622e-07 1.00511372e-07 1.18658806e-07 9.12608789e-08\n",
      " 1.00264589e-07]\n",
      "Std Test RMSE\n",
      "[1.0437536348651418e-08, 3.5658267736971828e-09, 1.2538142414163677e-08, 8.786198500155979e-09, 1.6447421082657912e-08]\n",
      "Mean Test MAE\n",
      "[8.213621536765474e-08, 8.096272678989943e-08, 8.810025170522505e-08, 7.463692968557702e-08, 7.315183457009429e-08]\n",
      "Std Test MAE\n",
      "[5.636721128715945e-09, 1.6550111248369507e-09, 6.454589380167687e-09, 2.1791815525614984e-09, 4.269813705556364e-09]\n"
     ]
    }
   ],
   "source": [
    "plt.rcParams.update({'font.size': 16})\n",
    "plot_data_set_sizes = 1000 * 0.5 ** np.arange(0,5)\n",
    "# mean_val_mse_list.insert(0, optimized_val_mse)\n",
    "# mean_val_mae_list.insert(0, optimized_val_mae)\n",
    "# mean_test_mse_list.insert(0, optimized_mean_test_mse)\n",
    "# mean_test_mae_list.insert(0, optimized_mean_test_mae)\n",
    "# std_val_mse_list.insert(0, optimized_std_val_mse)\n",
    "# std_val_rmse_list.insert(0, optimized_std_val_rmse)\n",
    "# std_val_mae_list.insert(0, optimized_std_val_mae)\n",
    "# std_test_mse_list.insert(0, optimized_std_test_mse)\n",
    "# std_test_rmse_list.insert(0, optimized_std_test_rmse)\n",
    "# std_test_mae_list.insert(0, optimized_std_test_mae)\n",
    "\n",
    "print(\"Mean Validation MSE\")\n",
    "print(mean_val_mse_list)\n",
    "print(\"Std Validation MSE\")\n",
    "print(std_val_mse_list)\n",
    "print(\"Mean Validation RMSE\")\n",
    "print(np.sqrt(mean_val_mse_list))\n",
    "print(\"Std Validation RMSE\")\n",
    "print(std_val_rmse_list)\n",
    "print(\"Mean Validation MAE\")\n",
    "print(mean_val_mae_list)\n",
    "print(\"Std Validation MAE\")\n",
    "print(std_val_mae_list)\n",
    "print(\"Mean Test MSE\")\n",
    "print(mean_test_mse_list)\n",
    "print(\"Std Test MSE\")\n",
    "print(std_test_mse_list)\n",
    "print(\"Mean Test RMSE\")\n",
    "print(np.sqrt(mean_test_mse_list))\n",
    "print(\"Std Test RMSE\")\n",
    "print(std_test_rmse_list)\n",
    "print(\"Mean Test MAE\")\n",
    "print(mean_test_mae_list)\n",
    "print(\"Std Test MAE\")\n",
    "print(std_test_mae_list)"
   ]
  },
  {
   "cell_type": "code",
   "execution_count": 27,
   "metadata": {},
   "outputs": [],
   "source": [
    "case = \"2-2-2 Case 1\"\n",
    "save_name = \"lm_2-2-2_asym\""
   ]
  },
  {
   "cell_type": "code",
   "execution_count": 28,
   "metadata": {},
   "outputs": [
    {
     "data": {
      "image/png": "[encoded data removed]",
      "text/plain": [
       "<Figure size 504x360 with 1 Axes>"
      ]
     },
     "metadata": {
      "needs_background": "light"
     },
     "output_type": "display_data"
    },
    {
     "data": {
      "image/png": "[encoded data removed]",
      "text/plain": [
       "<Figure size 504x360 with 1 Axes>"
      ]
     },
     "metadata": {
      "needs_background": "light"
     },
     "output_type": "display_data"
    },
    {
     "data": {
      "image/png": "[encoded data removed]",
      "text/plain": [
       "<Figure size 504x360 with 1 Axes>"
      ]
     },
     "metadata": {
      "needs_background": "light"
     },
     "output_type": "display_data"
    }
   ],
   "source": [
    "fig, ax = plt.subplots(1,1,figsize=(7,5))\n",
    "plt.errorbar(plot_data_set_sizes, mean_val_mse_list,yerr=std_val_mse_list)\n",
    "plt.xlabel(\"Data Set Size\")\n",
    "plt.ylabel(\"Mean Validation MSE\")\n",
    "plt.title(f\"Mean Validation MSE:\\n{case}\")\n",
    "plt.savefig(f\"{save_name}_val_mse_vs_data.png\")\n",
    "fig, ax = plt.subplots(1,1,figsize=(7,5))\n",
    "plt.errorbar(plot_data_set_sizes, np.sqrt(mean_val_mse_list),yerr=std_val_rmse_list)\n",
    "plt.xlabel(\"Data Set Size\")\n",
    "plt.ylabel(\"Mean Validation RMSE\")\n",
    "plt.title(f\"Mean Validation RMSE:\\n{case}\")\n",
    "plt.savefig(f\"{save_name}_val_rmse_vs_data.png\")\n",
    "fig, ax = plt.subplots(1,1,figsize=(7,5))\n",
    "plt.errorbar(plot_data_set_sizes, mean_val_mae_list,yerr=std_val_mae_list)\n",
    "plt.xlabel(\"Data Set Size\")\n",
    "plt.ylabel(\"Mean Validation MAE\")\n",
    "plt.title(f\"Mean Validation MAE:\\n{case}\")\n",
    "plt.savefig(f\"{save_name}_val_mae_vs_data.png\")"
   ]
  },
  {
   "cell_type": "code",
   "execution_count": 29,
   "metadata": {},
   "outputs": [
    {
     "data": {
      "image/png": "[encoded data removed]",
      "text/plain": [
       "<Figure size 504x360 with 1 Axes>"
      ]
     },
     "metadata": {
      "needs_background": "light"
     },
     "output_type": "display_data"
    },
    {
     "data": {
      "image/png": "[encoded data removed]",
      "text/plain": [
       "<Figure size 504x360 with 1 Axes>"
      ]
     },
     "metadata": {
      "needs_background": "light"
     },
     "output_type": "display_data"
    },
    {
     "data": {
      "image/png": "[encoded data removed]",
      "text/plain": [
       "<Figure size 504x360 with 1 Axes>"
      ]
     },
     "metadata": {
      "needs_background": "light"
     },
     "output_type": "display_data"
    }
   ],
   "source": [
    "fig, ax = plt.subplots(1,1,figsize=(7,5))\n",
    "plt.errorbar(plot_data_set_sizes, mean_test_mse_list,yerr=std_test_mse_list)\n",
    "plt.xlabel(\"Data Set Size\")\n",
    "plt.ylabel(\"Mean Test MSE\")\n",
    "plt.title(f\"Mean Test MSE:\\n{case}\")\n",
    "plt.savefig(f\"{save_name}_test_mse_vs_data.png\")\n",
    "fig, ax = plt.subplots(1,1,figsize=(7,5))\n",
    "plt.errorbar(plot_data_set_sizes, np.sqrt(mean_test_mse_list),yerr=std_test_rmse_list)\n",
    "plt.xlabel(\"Data Set Size\")\n",
    "plt.ylabel(\"Mean Test RMSE\")\n",
    "plt.title(f\"Mean Test RMSE:\\n{case}\")\n",
    "plt.savefig(f\"{save_name}_test_rmse_vs_data.png\")\n",
    "fig, ax = plt.subplots(1,1,figsize=(7,5))\n",
    "plt.errorbar(plot_data_set_sizes, mean_test_mae_list,yerr=std_test_mae_list)\n",
    "plt.xlabel(\"Data Set Size\")\n",
    "plt.ylabel(\"Mean Test MAE\")\n",
    "plt.title(f\"Mean Test MAE:\\n{case}\")\n",
    "plt.savefig(f\"{save_name}_test_mae_vs_data.png\")"
   ]
  },
  {
   "cell_type": "code",
   "execution_count": null,
   "metadata": {},
   "outputs": [],
   "source": []
  }
 ],
 "metadata": {
  "kernelspec": {
   "display_name": "Python 3.7",
   "language": "python",
   "name": "python3.7"
  },
  "language_info": {
   "codemirror_mode": {
    "name": "ipython",
    "version": 3
   },
   "file_extension": ".py",
   "mimetype": "text/x-python",
   "name": "python",
   "nbconvert_exporter": "python",
   "pygments_lexer": "ipython3",
   "version": "3.7.12"
  }
 },
 "nbformat": 4,
 "nbformat_minor": 4
}
